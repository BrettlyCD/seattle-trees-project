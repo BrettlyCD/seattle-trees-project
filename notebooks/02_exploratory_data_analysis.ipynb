{
 "cells": [
  {
   "cell_type": "markdown",
   "metadata": {},
   "source": [
    "### 1.0 Imports"
   ]
  },
  {
   "cell_type": "code",
   "execution_count": 4,
   "metadata": {},
   "outputs": [],
   "source": [
    "import pandas as pd\n",
    "import matplotlib.pyplot as plt\n",
    "import numpy as np\n",
    "import seaborn as sns\n",
    "import os\n",
    "import glob\n",
    "import datetime as dt\n",
    "from math import radians, cos, sin, asin, sqrt"
   ]
  },
  {
   "attachments": {},
   "cell_type": "markdown",
   "metadata": {},
   "source": [
    "### 2.0 Load Data\n",
    "\n",
    "Loading in the cleaned, exported data from my data wrangling step."
   ]
  },
  {
   "cell_type": "code",
   "execution_count": 12,
   "metadata": {},
   "outputs": [],
   "source": [
    "#load trees data\n",
    "trees_data = pd.read_csv('../data/data_outputs/seattle_trees.csv')\n",
    "\n",
    "#load climate data\n",
    "climate_data = pd.read_csv('../data/data_outputs/washington_climate_normals.csv')"
   ]
  },
  {
   "attachments": {},
   "cell_type": "markdown",
   "metadata": {},
   "source": [
    "### 3.0 Explore and Combine Data\n",
    "\n",
    "The first step I have in mind is creating a field that maps each trees to its nearest weather station from my climate normals data.\n",
    "\n",
    "#### 3.1 Tie Together The Two Dataframes Using Lat-Lon\n",
    "\n",
    "##### 3.1.1 Define Functions"
   ]
  },
  {
   "cell_type": "code",
   "execution_count": 5,
   "metadata": {},
   "outputs": [],
   "source": [
    "def dist_b_points(lat1, long1, lat2, long2):\n",
    "    \"\"\"\n",
    "    Calculate the great circle distance between two points \n",
    "    on the earth (specified in decimal degrees). \n",
    "    Credit https://medium.com/analytics-vidhya/finding-nearest-pair-of-latitude-and-longitude-match-using-python-ce50d62af546\n",
    "    \"\"\"\n",
    "    # convert decimal degrees to radians \n",
    "    lat1, long1, lat2, long2 = map(radians, [lat1, long1, lat2, long2])\n",
    "    # haversine formula \n",
    "    dlon = long2 - long1 \n",
    "    dlat = lat2 - lat1 \n",
    "    a = sin(dlat/2)**2 + cos(lat1) * cos(lat2) * sin(dlon/2)**2\n",
    "    c = 2 * asin(sqrt(a)) \n",
    "    # Radius of earth in kilometers is 6371\n",
    "    km = 6371* c\n",
    "    return km"
   ]
  },
  {
   "cell_type": "code",
   "execution_count": 8,
   "metadata": {},
   "outputs": [],
   "source": [
    "def flag_nearest(df, lat, long, field):\n",
    "    \"\"\" \n",
    "    Label the closest weather station using the reults of the dist_b_points function.\n",
    "    Credit https://medium.com/analytics-vidhya/finding-nearest-pair-of-latitude-and-longitude-match-using-python-ce50d62af546\n",
    "    \"\"\"\n",
    "    distances = df.apply(\n",
    "        lambda row: dist_b_points(lat, long, row['lat'], row['long']), axis = 1)\n",
    "    return df.loc[distances.idxmin(), str(field)]"
   ]
  },
  {
   "attachments": {},
   "cell_type": "markdown",
   "metadata": {},
   "source": [
    "##### 3.1.2 Rename Lat-Lons Fields"
   ]
  },
  {
   "cell_type": "code",
   "execution_count": 14,
   "metadata": {},
   "outputs": [
    {
     "name": "stdout",
     "output_type": "stream",
     "text": [
      "<class 'pandas.core.frame.DataFrame'>\n",
      "RangeIndex: 162080 entries, 0 to 162079\n",
      "Data columns (total 10 columns):\n",
      " #   Column                     Non-Null Count   Dtype  \n",
      "---  ------                     --------------   -----  \n",
      " 0   planted_date               159111 non-null  object \n",
      " 1   most_recent_observation    162075 non-null  object \n",
      " 2   common_name                161408 non-null  object \n",
      " 3   longitude_coordinate       162080 non-null  float64\n",
      " 4   latitude_coordinate        162080 non-null  float64\n",
      " 5   diameter_breast_height_CM  162080 non-null  float64\n",
      " 6   condition                  162080 non-null  object \n",
      " 7   native                     162080 non-null  object \n",
      " 8   age_at_obs                 159106 non-null  float64\n",
      " 9   condition_index            162080 non-null  float64\n",
      "dtypes: float64(5), object(5)\n",
      "memory usage: 12.4+ MB\n"
     ]
    }
   ],
   "source": [
    "#Need a reminder of my fields\n",
    "trees_data.info()"
   ]
  },
  {
   "cell_type": "code",
   "execution_count": 15,
   "metadata": {},
   "outputs": [
    {
     "name": "stdout",
     "output_type": "stream",
     "text": [
      "<class 'pandas.core.frame.DataFrame'>\n",
      "RangeIndex: 33 entries, 0 to 32\n",
      "Data columns (total 10 columns):\n",
      " #   Column           Non-Null Count  Dtype  \n",
      "---  ------           --------------  -----  \n",
      " 0   STATION          33 non-null     object \n",
      " 1   LATITUDE         33 non-null     float64\n",
      " 2   LONGITUDE        33 non-null     float64\n",
      " 3   ELEVATION        33 non-null     float64\n",
      " 4   NAME             33 non-null     object \n",
      " 5   ANN-TAVG-NORMAL  33 non-null     float64\n",
      " 6   ANN-TMIN-NORMAL  33 non-null     float64\n",
      " 7   ANN-TMAX-NORMAL  33 non-null     float64\n",
      " 8   ANN-DUTR-NORMAL  33 non-null     float64\n",
      " 9   ANN-PRCP-NORMAL  32 non-null     float64\n",
      "dtypes: float64(8), object(2)\n",
      "memory usage: 2.7+ KB\n"
     ]
    }
   ],
   "source": [
    "climate_data.info()"
   ]
  },
  {
   "cell_type": "code",
   "execution_count": 16,
   "metadata": {},
   "outputs": [],
   "source": [
    "#Rename lat-long fields to easily identify between dfs\n",
    "trees_data.rename(columns = {'longitude_coordinate': 'long-trees', 'latitude_coordinate': 'lat-trees'}, inplace=True)\n",
    "climate_data.rename(columns = {'LONGITUDE': 'long-climate', 'LATITUDE': 'lat-climate'}, inplace=True)"
   ]
  },
  {
   "cell_type": "code",
   "execution_count": 18,
   "metadata": {},
   "outputs": [
    {
     "name": "stdout",
     "output_type": "stream",
     "text": [
      "<class 'pandas.core.frame.DataFrame'>\n",
      "RangeIndex: 162080 entries, 0 to 162079\n",
      "Data columns (total 10 columns):\n",
      " #   Column                     Non-Null Count   Dtype  \n",
      "---  ------                     --------------   -----  \n",
      " 0   planted_date               159111 non-null  object \n",
      " 1   most_recent_observation    162075 non-null  object \n",
      " 2   common_name                161408 non-null  object \n",
      " 3   long-trees                 162080 non-null  float64\n",
      " 4   lat-trees                  162080 non-null  float64\n",
      " 5   diameter_breast_height_CM  162080 non-null  float64\n",
      " 6   condition                  162080 non-null  object \n",
      " 7   native                     162080 non-null  object \n",
      " 8   age_at_obs                 159106 non-null  float64\n",
      " 9   condition_index            162080 non-null  float64\n",
      "dtypes: float64(5), object(5)\n",
      "memory usage: 12.4+ MB\n"
     ]
    }
   ],
   "source": []
  },
  {
   "cell_type": "code",
   "execution_count": null,
   "metadata": {},
   "outputs": [],
   "source": []
  },
  {
   "cell_type": "code",
   "execution_count": null,
   "metadata": {},
   "outputs": [],
   "source": []
  }
 ],
 "metadata": {
  "kernelspec": {
   "display_name": "ds",
   "language": "python",
   "name": "python3"
  },
  "language_info": {
   "codemirror_mode": {
    "name": "ipython",
    "version": 3
   },
   "file_extension": ".py",
   "mimetype": "text/x-python",
   "name": "python",
   "nbconvert_exporter": "python",
   "pygments_lexer": "ipython3",
   "version": "3.10.9"
  },
  "orig_nbformat": 4
 },
 "nbformat": 4,
 "nbformat_minor": 2
}
