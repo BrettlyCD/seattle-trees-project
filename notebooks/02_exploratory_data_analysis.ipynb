{
 "cells": [
  {
   "cell_type": "markdown",
   "metadata": {},
   "source": [
    "### 1.0 Imports"
   ]
  },
  {
   "cell_type": "code",
   "execution_count": 27,
   "metadata": {},
   "outputs": [],
   "source": [
    "import pandas as pd\n",
    "import matplotlib.pyplot as plt\n",
    "import numpy as np\n",
    "import seaborn as sns\n",
    "import os\n",
    "import glob\n",
    "import datetime as dt\n",
    "import geopandas as gpd #using this for mapping\n",
    "from shapely.geometry import Point, Polygon #using this for mapping\n",
    "from math import radians, cos, sin, asin, sqrt #using this for calculating the distance between points"
   ]
  },
  {
   "attachments": {},
   "cell_type": "markdown",
   "metadata": {},
   "source": [
    "### 2.0 Load Data\n",
    "\n",
    "Loading in the cleaned, exported data from my data wrangling step."
   ]
  },
  {
   "cell_type": "code",
   "execution_count": 28,
   "metadata": {},
   "outputs": [],
   "source": [
    "#load trees data we exported in the prior step\n",
    "trees_data = pd.read_csv('../data/data_outputs/seattle_trees.csv')\n",
    "\n",
    "#load climate data we exported in the prior step\n",
    "climate_data = pd.read_csv('../data/data_outputs/washington_climate_normals.csv')"
   ]
  },
  {
   "attachments": {},
   "cell_type": "markdown",
   "metadata": {},
   "source": [
    "#### 2.1 Precipitation Data\n",
    "\n",
    "After testing this out with climate normals data, I only ended up with 3 useful stations for data. So while I was excited to have the 'normals' which is averages over a 15-20 year period, I want to now test pulling in some other data I found.\n",
    "\\\n",
    "\\\n",
    "The Community Collaborative Rain, Hail, & Snow Network has some great tools to access data. Unfortunately, it is only for the 2022 calendar year. I don't love that, but I think it will give me more useful datapoints to and make the analysis more valuable.\n",
    "\\\n",
    "\\\n",
    "When pulling this data, I filtered down to all available weather stations in King County, Washington, which includes the Seattle proper.\n",
    "\\\n",
    "\\\n",
    "https://merbgai.cocorahs.org/Stations/ListStations.aspx"
   ]
  },
  {
   "cell_type": "code",
   "execution_count": 55,
   "metadata": {},
   "outputs": [
    {
     "name": "stdout",
     "output_type": "stream",
     "text": [
      "<class 'pandas.core.frame.DataFrame'>\n",
      "RangeIndex: 73 entries, 0 to 72\n",
      "Data columns (total 10 columns):\n",
      " #   Column                      Non-Null Count  Dtype  \n",
      "---  ------                      --------------  -----  \n",
      " 0   Station Number              73 non-null     object \n",
      " 1   Station Name                73 non-null     object \n",
      " 2   Daily Precipitation Sum MM  73 non-null     float64\n",
      " 3   Multi-Day Precipitation mm  46 non-null     float64\n",
      " 4   Total Precipitation mm      73 non-null     float64\n",
      " 5   Daily Snow Sum cm           73 non-null     float64\n",
      " 6   # of Reports                73 non-null     int64  \n",
      " 7   Latitude                    73 non-null     float64\n",
      " 8   Longitude                   73 non-null     float64\n",
      " 9   Multi-Day Overlap Warning   8 non-null      object \n",
      "dtypes: float64(6), int64(1), object(3)\n",
      "memory usage: 5.8+ KB\n",
      "None\n"
     ]
    }
   ],
   "source": [
    "prcp_22 = pd.read_excel('../data/precip_2022.xlsx', sheet_name=0)\n",
    "print(prcp_22.info())"
   ]
  },
  {
   "cell_type": "code",
   "execution_count": 56,
   "metadata": {},
   "outputs": [
    {
     "data": {
      "text/html": [
       "<div>\n",
       "<style scoped>\n",
       "    .dataframe tbody tr th:only-of-type {\n",
       "        vertical-align: middle;\n",
       "    }\n",
       "\n",
       "    .dataframe tbody tr th {\n",
       "        vertical-align: top;\n",
       "    }\n",
       "\n",
       "    .dataframe thead th {\n",
       "        text-align: right;\n",
       "    }\n",
       "</style>\n",
       "<table border=\"1\" class=\"dataframe\">\n",
       "  <thead>\n",
       "    <tr style=\"text-align: right;\">\n",
       "      <th></th>\n",
       "      <th>Station Number</th>\n",
       "      <th>Station Name</th>\n",
       "      <th>Daily Precipitation Sum MM</th>\n",
       "      <th>Multi-Day Precipitation mm</th>\n",
       "      <th>Total Precipitation mm</th>\n",
       "      <th>Daily Snow Sum cm</th>\n",
       "      <th># of Reports</th>\n",
       "      <th>Latitude</th>\n",
       "      <th>Longitude</th>\n",
       "      <th>Multi-Day Overlap Warning</th>\n",
       "    </tr>\n",
       "  </thead>\n",
       "  <tbody>\n",
       "    <tr>\n",
       "      <th>0</th>\n",
       "      <td>WA-KG-3</td>\n",
       "      <td>Lake Forest Park 0.4 W</td>\n",
       "      <td>1111.2</td>\n",
       "      <td>NaN</td>\n",
       "      <td>1111.2</td>\n",
       "      <td>0.0</td>\n",
       "      <td>365</td>\n",
       "      <td>47.763558</td>\n",
       "      <td>-122.293917</td>\n",
       "      <td>NaN</td>\n",
       "    </tr>\n",
       "    <tr>\n",
       "      <th>1</th>\n",
       "      <td>WA-KG-4</td>\n",
       "      <td>Renton 3.2 E</td>\n",
       "      <td>149.1</td>\n",
       "      <td>NaN</td>\n",
       "      <td>149.1</td>\n",
       "      <td>0.0</td>\n",
       "      <td>21</td>\n",
       "      <td>47.484508</td>\n",
       "      <td>-122.127169</td>\n",
       "      <td>NaN</td>\n",
       "    </tr>\n",
       "    <tr>\n",
       "      <th>2</th>\n",
       "      <td>WA-KG-5</td>\n",
       "      <td>Mercer Island 1.5 NW</td>\n",
       "      <td>1043.4</td>\n",
       "      <td>NaN</td>\n",
       "      <td>1043.4</td>\n",
       "      <td>8.4</td>\n",
       "      <td>365</td>\n",
       "      <td>47.585900</td>\n",
       "      <td>-122.250900</td>\n",
       "      <td>NaN</td>\n",
       "    </tr>\n",
       "  </tbody>\n",
       "</table>\n",
       "</div>"
      ],
      "text/plain": [
       "  Station Number            Station Name  Daily Precipitation Sum MM  \\\n",
       "0        WA-KG-3  Lake Forest Park 0.4 W                      1111.2   \n",
       "1        WA-KG-4            Renton 3.2 E                       149.1   \n",
       "2        WA-KG-5    Mercer Island 1.5 NW                      1043.4   \n",
       "\n",
       "   Multi-Day Precipitation mm  Total Precipitation mm  Daily Snow Sum cm  \\\n",
       "0                         NaN                  1111.2                0.0   \n",
       "1                         NaN                   149.1                0.0   \n",
       "2                         NaN                  1043.4                8.4   \n",
       "\n",
       "   # of Reports   Latitude   Longitude Multi-Day Overlap Warning  \n",
       "0           365  47.763558 -122.293917                       NaN  \n",
       "1            21  47.484508 -122.127169                       NaN  \n",
       "2           365  47.585900 -122.250900                       NaN  "
      ]
     },
     "execution_count": 56,
     "metadata": {},
     "output_type": "execute_result"
    }
   ],
   "source": [
    "prcp_22.head(3)"
   ]
  },
  {
   "attachments": {},
   "cell_type": "markdown",
   "metadata": {},
   "source": [
    "**Observations**\n",
    "\\\n",
    "\\\n",
    "The 'Total Precipitation mm' column should be the combination of the dailiy and multi-day column and the field we use. There is no multi-day column for snow, so that will be the column we can use for snow data.\n",
    "\\\n",
    "\\\n",
    "I will need to confirm latitude & longitude data is complete. I also want to do some renaming of columns to make them a little more straight forward. So far what I've seen from the data, I don't need to worry about the multi-day 'warning', as I believe it is cumulative and not duplicative. I also think I'll convert the cm of snow into mm to match the precipitation. Go metric system!"
   ]
  },
  {
   "attachments": {},
   "cell_type": "markdown",
   "metadata": {},
   "source": [
    "### 3.0 Explore and Combine Data\n",
    "\n",
    "The first step I have in mind is creating a field that maps each trees to its nearest weather station from my climate normals data.\n",
    "\n",
    "#### 3.1 Tie Together The Two Dataframes Using Lat-Lon"
   ]
  },
  {
   "attachments": {},
   "cell_type": "markdown",
   "metadata": {},
   "source": [
    "##### 3.1.1 Rename Fields"
   ]
  },
  {
   "cell_type": "code",
   "execution_count": 31,
   "metadata": {},
   "outputs": [
    {
     "name": "stdout",
     "output_type": "stream",
     "text": [
      "<class 'pandas.core.frame.DataFrame'>\n",
      "RangeIndex: 162080 entries, 0 to 162079\n",
      "Data columns (total 10 columns):\n",
      " #   Column                     Non-Null Count   Dtype  \n",
      "---  ------                     --------------   -----  \n",
      " 0   planted_date               159111 non-null  object \n",
      " 1   most_recent_observation    162075 non-null  object \n",
      " 2   common_name                161408 non-null  object \n",
      " 3   longitude_coordinate       162080 non-null  float64\n",
      " 4   latitude_coordinate        162080 non-null  float64\n",
      " 5   diameter_breast_height_CM  162080 non-null  float64\n",
      " 6   condition                  162080 non-null  object \n",
      " 7   native                     162080 non-null  object \n",
      " 8   age_at_obs                 159106 non-null  float64\n",
      " 9   condition_index            162080 non-null  float64\n",
      "dtypes: float64(5), object(5)\n",
      "memory usage: 12.4+ MB\n"
     ]
    }
   ],
   "source": [
    "#Need a reminder of my fields\n",
    "trees_data.info()"
   ]
  },
  {
   "cell_type": "code",
   "execution_count": 57,
   "metadata": {},
   "outputs": [
    {
     "name": "stdout",
     "output_type": "stream",
     "text": [
      "<class 'pandas.core.frame.DataFrame'>\n",
      "RangeIndex: 73 entries, 0 to 72\n",
      "Data columns (total 10 columns):\n",
      " #   Column                      Non-Null Count  Dtype  \n",
      "---  ------                      --------------  -----  \n",
      " 0   Station Number              73 non-null     object \n",
      " 1   Station Name                73 non-null     object \n",
      " 2   Daily Precipitation Sum MM  73 non-null     float64\n",
      " 3   Multi-Day Precipitation mm  46 non-null     float64\n",
      " 4   Total Precipitation mm      73 non-null     float64\n",
      " 5   Daily Snow Sum cm           73 non-null     float64\n",
      " 6   # of Reports                73 non-null     int64  \n",
      " 7   Latitude                    73 non-null     float64\n",
      " 8   Longitude                   73 non-null     float64\n",
      " 9   Multi-Day Overlap Warning   8 non-null      object \n",
      "dtypes: float64(6), int64(1), object(3)\n",
      "memory usage: 5.8+ KB\n"
     ]
    }
   ],
   "source": [
    "prcp_22.info()"
   ]
  },
  {
   "cell_type": "code",
   "execution_count": 58,
   "metadata": {},
   "outputs": [],
   "source": [
    "#Rename lat-long field in trees data to signify it is from this datasource. I could do this on a merge later, but I like to keep them seperate.\n",
    "trees_data.rename(columns = {'longitude_coordinate': 'long_trees', 'latitude_coordinate': 'lat_trees'}, inplace=True)\n",
    "#climate_data.rename(columns = {'LONGITUDE': 'long_climate', 'LATITUDE': 'lat_climate'}, inplace=True) leaving this in place incase I want to incorporate this data again later."
   ]
  },
  {
   "cell_type": "code",
   "execution_count": 60,
   "metadata": {},
   "outputs": [
    {
     "data": {
      "text/plain": [
       "Index(['station_id', 'station_name', 'daily_prcp_mm', 'multi_day_prcp_mm',\n",
       "       'total_prcp_mm', 'daily_snow_cm', 'reports_#', 'lat_prcp', 'long_prcp',\n",
       "       'md_overlap'],\n",
       "      dtype='object')"
      ]
     },
     "execution_count": 60,
     "metadata": {},
     "output_type": "execute_result"
    }
   ],
   "source": [
    "#Now I want to go through the precipitation data and rename the fields to be more Python friendly\n",
    "prcp_22.rename(columns ={'Station Number': 'station_id', 'Station Name': 'station_name', 'Daily Precipitation Sum MM': 'daily_prcp_mm',\n",
    "                         'Multi-Day Precipitation mm': 'multi_day_prcp_mm', 'Total Precipitation mm': 'total_prcp_mm',\n",
    "                         'Daily Snow Sum cm': 'daily_snow_cm', '# of Reports': 'reports_#', 'Latitude': 'lat_prcp',\n",
    "                         'Longitude': 'long_prcp', 'Multi-Day Overlap Warning': 'md_overlap'}, inplace=True)\n",
    "\n",
    "#verify the names stuck\n",
    "prcp_22.columns"
   ]
  },
  {
   "attachments": {},
   "cell_type": "markdown",
   "metadata": {},
   "source": [
    "##### 3.1.2 Assign Each Tree Record a Unique ID\n",
    "\n",
    "I'm thinking in order to map back into our dataframe the closest station, I'll need to do it off a primary key and I'd rather not do that just off the location."
   ]
  },
  {
   "cell_type": "code",
   "execution_count": 34,
   "metadata": {},
   "outputs": [],
   "source": [
    "\n",
    "#Assign the key numerically, using the index number +1 (to exclude 0)\n",
    "trees_data['tree_id'] = trees_data.index+1"
   ]
  },
  {
   "cell_type": "code",
   "execution_count": 35,
   "metadata": {},
   "outputs": [],
   "source": [
    "#let's also change this to an object\n",
    "trees_data['tree_id'] = trees_data['tree_id'].astype(object)"
   ]
  },
  {
   "cell_type": "code",
   "execution_count": 36,
   "metadata": {},
   "outputs": [
    {
     "data": {
      "text/plain": [
       "1         1\n",
       "108057    1\n",
       "108050    1\n",
       "108051    1\n",
       "108052    1\n",
       "         ..\n",
       "54028     1\n",
       "54029     1\n",
       "54030     1\n",
       "54031     1\n",
       "162080    1\n",
       "Name: tree_id, Length: 162080, dtype: int64"
      ]
     },
     "execution_count": 36,
     "metadata": {},
     "output_type": "execute_result"
    }
   ],
   "source": [
    "#Double check values are unique\n",
    "trees_data['tree_id'].value_counts()"
   ]
  },
  {
   "cell_type": "code",
   "execution_count": 37,
   "metadata": {},
   "outputs": [
    {
     "data": {
      "text/plain": [
       "planted_date                  object\n",
       "most_recent_observation       object\n",
       "common_name                   object\n",
       "long_trees                   float64\n",
       "lat_trees                    float64\n",
       "diameter_breast_height_CM    float64\n",
       "condition                     object\n",
       "native                        object\n",
       "age_at_obs                   float64\n",
       "condition_index              float64\n",
       "tree_id                       object\n",
       "dtype: object"
      ]
     },
     "execution_count": 37,
     "metadata": {},
     "output_type": "execute_result"
    }
   ],
   "source": [
    "#double check the id is an object now.\n",
    "trees_data.dtypes"
   ]
  },
  {
   "attachments": {},
   "cell_type": "markdown",
   "metadata": {},
   "source": [
    "##### 3.1.3 Define Functions"
   ]
  },
  {
   "cell_type": "code",
   "execution_count": null,
   "metadata": {},
   "outputs": [],
   "source": [
    "def dist_b_points(lat1, long1, lat2, long2):\n",
    "    \"\"\"\n",
    "    Calculate the great circle distance between two points \n",
    "    on the earth (specified in decimal degrees). \n",
    "    Credit https://medium.com/analytics-vidhya/finding-nearest-pair-of-latitude-and-longitude-match-using-python-ce50d62af546\n",
    "    \"\"\"\n",
    "    # convert decimal degrees to radians \n",
    "    lat1, long1, lat2, long2 = map(radians, [lat1, long1, lat2, long2])\n",
    "    # haversine formula \n",
    "    dlon = long2 - long1 \n",
    "    dlat = lat2 - lat1 \n",
    "    a = sin(dlat/2)**2 + cos(lat1) * cos(lat2) * sin(dlon/2)**2\n",
    "    c = 2 * asin(sqrt(a)) \n",
    "    # Radius of earth in kilometers is 6371\n",
    "    km = 6371* c\n",
    "    return km"
   ]
  },
  {
   "cell_type": "code",
   "execution_count": null,
   "metadata": {},
   "outputs": [],
   "source": [
    "def flag_nearest(lat, long):\n",
    "    \"\"\" \n",
    "    Label the closest weather station using the reults of the dist_b_points function.\n",
    "    I want to research and test this more. It seems weird to me that we specify the fields and df in the function, rather than use dynamic inputs.\n",
    "    Credit https://medium.com/analytics-vidhya/finding-nearest-pair-of-latitude-and-longitude-match-using-python-ce50d62af546\n",
    "    \"\"\"\n",
    "    distances = climate_data.apply(\n",
    "        lambda row: dist_b_points(lat, long, row['lat_climate'], row['long_climate']), axis = 1)\n",
    "    return climate_data.loc[distances.idxmin(), 'STATION']"
   ]
  },
  {
   "attachments": {},
   "cell_type": "markdown",
   "metadata": {},
   "source": [
    "##### 3.1.4 Map the Nearest Station to Each Tree Record"
   ]
  },
  {
   "cell_type": "code",
   "execution_count": 38,
   "metadata": {},
   "outputs": [],
   "source": [
    "trees_data['nearest_station'] = trees_data.apply(\n",
    "    lambda row: flag_nearest(row['lat_trees'], row['long_trees']), axis=1)"
   ]
  },
  {
   "cell_type": "code",
   "execution_count": 39,
   "metadata": {},
   "outputs": [
    {
     "data": {
      "text/plain": [
       "USW00094290    100326\n",
       "USW00024234     60464\n",
       "USW00094248      1290\n",
       "Name: nearest_station, dtype: int64"
      ]
     },
     "execution_count": 39,
     "metadata": {},
     "output_type": "execute_result"
    }
   ],
   "source": [
    "trees_data['nearest_station'].value_counts()"
   ]
  },
  {
   "attachments": {},
   "cell_type": "markdown",
   "metadata": {},
   "source": [
    "I'm surprised this only mapped in 3 location as the nearest. Let's merge in the rest of the climate data and see if this makes sense.\n",
    "\n",
    "##### 3.1.5 Merge Datasets Into a Single Table"
   ]
  },
  {
   "cell_type": "code",
   "execution_count": 40,
   "metadata": {},
   "outputs": [],
   "source": [
    "#left join on the station_id to create a master df to continue with my EDA.\n",
    "trees_climate_all = pd.merge(trees_data, climate_data, left_on='nearest_station', right_on='STATION', how='left')"
   ]
  },
  {
   "cell_type": "code",
   "execution_count": 41,
   "metadata": {},
   "outputs": [
    {
     "data": {
      "text/plain": [
       "NAME                         STATION    \n",
       "SEATTLE SAND PT WSFO, WA US  USW00094290    100326\n",
       "SEATTLE BOEING FLD, WA US    USW00024234     60464\n",
       "RENTON MUNI AP, WA US        USW00094248      1290\n",
       "dtype: int64"
      ]
     },
     "execution_count": 41,
     "metadata": {},
     "output_type": "execute_result"
    }
   ],
   "source": [
    "#check which stations came back, we'll use the station id later to split out for our map\n",
    "trees_climate_all[['NAME','STATION']].value_counts()"
   ]
  },
  {
   "attachments": {},
   "cell_type": "markdown",
   "metadata": {},
   "source": [
    "##### 3.1.6 Validate Visually\n",
    "\n",
    "I want to plot both the stations an the trees on the same plot/map to see if these make sense visually."
   ]
  },
  {
   "cell_type": "code",
   "execution_count": 42,
   "metadata": {},
   "outputs": [
    {
     "name": "stdout",
     "output_type": "stream",
     "text": [
      "[<POINT (-122.282 47.635)>, <POINT (-122.31 47.598)>, <POINT (-122.355 47.674)>]\n",
      "[<POINT (-119.517 48.461)>, <POINT (-123.812 47.514)>, <POINT (-121.446 48.541)>]\n"
     ]
    }
   ],
   "source": [
    "crs = {'init': 'epsg:4326'} #standardization for geo data\n",
    "geometry1 = [Point(xy) for xy in zip(trees_data['long_trees'], trees_data['lat_trees'])] #create points for trees location\n",
    "geometry2 = [Point(xy) for xy in zip(climate_data['long_climate'], climate_data['lat_climate'])] #create points for weather stations\n",
    "\n",
    "#check the formatting and values of the points\n",
    "print(geometry1[:3]) \n",
    "print(geometry2[:3])"
   ]
  },
  {
   "cell_type": "code",
   "execution_count": 43,
   "metadata": {},
   "outputs": [
    {
     "name": "stderr",
     "output_type": "stream",
     "text": [
      "/Users/brettly/opt/anaconda3/envs/ds/lib/python3.10/site-packages/pyproj/crs/crs.py:141: FutureWarning: '+init=<authority>:<code>' syntax is deprecated. '<authority>:<code>' is the preferred initialization method. When making the change, be mindful of axis order changes: https://pyproj4.github.io/pyproj/stable/gotchas.html#axis-order-changes-in-proj-6\n",
      "  in_crs_string = _prepare_from_proj_string(in_crs_string)\n",
      "/Users/brettly/opt/anaconda3/envs/ds/lib/python3.10/site-packages/pyproj/crs/crs.py:141: FutureWarning: '+init=<authority>:<code>' syntax is deprecated. '<authority>:<code>' is the preferred initialization method. When making the change, be mindful of axis order changes: https://pyproj4.github.io/pyproj/stable/gotchas.html#axis-order-changes-in-proj-6\n",
      "  in_crs_string = _prepare_from_proj_string(in_crs_string)\n"
     ]
    }
   ],
   "source": [
    "#create the geopandas dataframes for our plotting\n",
    "trees_geo_df = gpd.GeoDataFrame(trees_data, crs=crs, geometry=geometry1)\n",
    "stations_geo_df = gpd.GeoDataFrame(climate_data, crs = crs, geometry=geometry2)"
   ]
  },
  {
   "cell_type": "code",
   "execution_count": 44,
   "metadata": {},
   "outputs": [
    {
     "data": {
      "image/png": "[encoded data removed]",
      "text/plain": [
       "<Figure size 1000x1000 with 1 Axes>"
      ]
     },
     "metadata": {},
     "output_type": "display_data"
    }
   ],
   "source": [
    "#Create a plot, splitting out the different points by color for their different closest stations.\n",
    "fig, ax = plt.subplots(figsize = (10,10))\n",
    "trees_geo_df.plot(ax=ax, markersize=5, color='gray', marker='o')\n",
    "trees_geo_df[trees_geo_df['nearest_station'] == 'USW00094290'].plot(ax=ax, markersize=5, color='blue', marker='o', label='Nearest = Seattle Sand Station')\n",
    "trees_geo_df[trees_geo_df['nearest_station'] == 'USW00024234'].plot(ax=ax, markersize=5, color='gray', marker='o', label='Nearest = Boeing Field Station') \n",
    "trees_geo_df[trees_geo_df['nearest_station'] == 'USW00094248'].plot(ax=ax, markersize=5, color='green', marker='o', label='Nearest = Renton Municiple Station')\n",
    "\n",
    "stations_geo_df.plot(ax=ax, markersize=500, color='red', marker='+')\n",
    "\n",
    "#zoom into rough seattle area by adding some space around the min and max values\n",
    "plt.axis([trees_data['long_trees'].min()*1.0005, trees_data['long_trees'].max()*.9995, trees_data['lat_trees'].min()*0.9995, trees_data['lat_trees'].max()*1.0005])\n",
    "plt.legend()\n",
    "\n",
    "plt.show()"
   ]
  }
 ],
 "metadata": {
  "kernelspec": {
   "display_name": "ds",
   "language": "python",
   "name": "python3"
  },
  "language_info": {
   "codemirror_mode": {
    "name": "ipython",
    "version": 3
   },
   "file_extension": ".py",
   "mimetype": "text/x-python",
   "name": "python",
   "nbconvert_exporter": "python",
   "pygments_lexer": "ipython3",
   "version": "3.10.9"
  },
  "orig_nbformat": 4
 },
 "nbformat": 4,
 "nbformat_minor": 2
}
