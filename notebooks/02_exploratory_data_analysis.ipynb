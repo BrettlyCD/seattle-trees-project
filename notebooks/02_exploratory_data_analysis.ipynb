{
 "cells": [
  {
   "cell_type": "markdown",
   "metadata": {},
   "source": [
    "### 1.0 Imports"
   ]
  },
  {
   "cell_type": "code",
   "execution_count": 456,
   "metadata": {},
   "outputs": [],
   "source": [
    "import pandas as pd\n",
    "import matplotlib.pyplot as plt\n",
    "import numpy as np\n",
    "import seaborn as sns\n",
    "import os\n",
    "import glob\n",
    "import datetime as dt\n",
    "from math import radians, cos, sin, asin, sqrt #using this for calculating the distance between points"
   ]
  },
  {
   "attachments": {},
   "cell_type": "markdown",
   "metadata": {},
   "source": [
    "### 2.0 Load Data\n",
    "\n",
    "Loading in the cleaned, exported data from my data wrangling step."
   ]
  },
  {
   "cell_type": "code",
   "execution_count": 457,
   "metadata": {},
   "outputs": [],
   "source": [
    "#load trees data we exported in the prior step\n",
    "trees_data = pd.read_csv('../data/data_outputs/seattle_trees.csv')\n",
    "\n",
    "#load climate data we exported in the prior step\n",
    "climate_data = pd.read_csv('../data/data_outputs/washington_climate_normals.csv')"
   ]
  },
  {
   "attachments": {},
   "cell_type": "markdown",
   "metadata": {},
   "source": [
    "#### 2.1 Precipitation Data\n",
    "\n",
    "After testing this out with climate normals data, I only ended up with 3 useful stations for data. So while I was excited to have the 'normals' which is averages over a 15-20 year period, I want to now test pulling in some other data I found.\n",
    "\\\n",
    "\\\n",
    "The Community Collaborative Rain, Hail, & Snow Network has some great tools to access data. Unfortunately, it is only for the 2022 calendar year. I don't love that, but I think it will give me more useful datapoints to and make the analysis more valuable.\n",
    "\\\n",
    "\\\n",
    "When pulling this data, I filtered down to all available weather stations in King County, Washington, which includes the Seattle proper. Upon further testing, I realized how 'collaborative' this data really is - relying on manual input. Because of this there is a lot of incomplete data we'll need to work through. I don't love this, and it comes back to me not being able to find a solid data source with long-term, complete data. I think it poses a fun and interesting challenge on how to impute information to make this data useable. My initial thoughts are to use a few of the more complete stations, calculate some \"normals\" on daily averages, and use them to beef up the others stations's data. This won't be perfect because I won't know which time of year has missing data (rainy or dry season?), but it wil have to do!\n",
    "\\\n",
    "\\\n",
    "https://merbgai.cocorahs.org/Stations/ListStations.aspx"
   ]
  },
  {
   "cell_type": "code",
   "execution_count": 458,
   "metadata": {},
   "outputs": [
    {
     "name": "stdout",
     "output_type": "stream",
     "text": [
      "<class 'pandas.core.frame.DataFrame'>\n",
      "RangeIndex: 73 entries, 0 to 72\n",
      "Data columns (total 10 columns):\n",
      " #   Column                      Non-Null Count  Dtype  \n",
      "---  ------                      --------------  -----  \n",
      " 0   Station Number              73 non-null     object \n",
      " 1   Station Name                73 non-null     object \n",
      " 2   Daily Precipitation Sum MM  73 non-null     float64\n",
      " 3   Multi-Day Precipitation mm  46 non-null     float64\n",
      " 4   Total Precipitation mm      73 non-null     float64\n",
      " 5   Daily Snow Sum cm           73 non-null     float64\n",
      " 6   # of Reports                73 non-null     int64  \n",
      " 7   Latitude                    73 non-null     float64\n",
      " 8   Longitude                   73 non-null     float64\n",
      " 9   Multi-Day Overlap Warning   8 non-null      object \n",
      "dtypes: float64(6), int64(1), object(3)\n",
      "memory usage: 5.8+ KB\n",
      "None\n"
     ]
    }
   ],
   "source": [
    "prcp_22 = pd.read_excel('../data/precip_2022.xlsx', sheet_name=0)\n",
    "print(prcp_22.info())"
   ]
  },
  {
   "cell_type": "code",
   "execution_count": 459,
   "metadata": {},
   "outputs": [
    {
     "data": {
      "text/html": [
       "<div>\n",
       "<style scoped>\n",
       "    .dataframe tbody tr th:only-of-type {\n",
       "        vertical-align: middle;\n",
       "    }\n",
       "\n",
       "    .dataframe tbody tr th {\n",
       "        vertical-align: top;\n",
       "    }\n",
       "\n",
       "    .dataframe thead th {\n",
       "        text-align: right;\n",
       "    }\n",
       "</style>\n",
       "<table border=\"1\" class=\"dataframe\">\n",
       "  <thead>\n",
       "    <tr style=\"text-align: right;\">\n",
       "      <th></th>\n",
       "      <th>Station Number</th>\n",
       "      <th>Station Name</th>\n",
       "      <th>Daily Precipitation Sum MM</th>\n",
       "      <th>Multi-Day Precipitation mm</th>\n",
       "      <th>Total Precipitation mm</th>\n",
       "      <th>Daily Snow Sum cm</th>\n",
       "      <th># of Reports</th>\n",
       "      <th>Latitude</th>\n",
       "      <th>Longitude</th>\n",
       "      <th>Multi-Day Overlap Warning</th>\n",
       "    </tr>\n",
       "  </thead>\n",
       "  <tbody>\n",
       "    <tr>\n",
       "      <th>0</th>\n",
       "      <td>WA-KG-3</td>\n",
       "      <td>Lake Forest Park 0.4 W</td>\n",
       "      <td>1111.2</td>\n",
       "      <td>NaN</td>\n",
       "      <td>1111.2</td>\n",
       "      <td>0.0</td>\n",
       "      <td>365</td>\n",
       "      <td>47.763558</td>\n",
       "      <td>-122.293917</td>\n",
       "      <td>NaN</td>\n",
       "    </tr>\n",
       "    <tr>\n",
       "      <th>1</th>\n",
       "      <td>WA-KG-4</td>\n",
       "      <td>Renton 3.2 E</td>\n",
       "      <td>149.1</td>\n",
       "      <td>NaN</td>\n",
       "      <td>149.1</td>\n",
       "      <td>0.0</td>\n",
       "      <td>21</td>\n",
       "      <td>47.484508</td>\n",
       "      <td>-122.127169</td>\n",
       "      <td>NaN</td>\n",
       "    </tr>\n",
       "    <tr>\n",
       "      <th>2</th>\n",
       "      <td>WA-KG-5</td>\n",
       "      <td>Mercer Island 1.5 NW</td>\n",
       "      <td>1043.4</td>\n",
       "      <td>NaN</td>\n",
       "      <td>1043.4</td>\n",
       "      <td>8.4</td>\n",
       "      <td>365</td>\n",
       "      <td>47.585900</td>\n",
       "      <td>-122.250900</td>\n",
       "      <td>NaN</td>\n",
       "    </tr>\n",
       "  </tbody>\n",
       "</table>\n",
       "</div>"
      ],
      "text/plain": [
       "  Station Number            Station Name  Daily Precipitation Sum MM  \\\n",
       "0        WA-KG-3  Lake Forest Park 0.4 W                      1111.2   \n",
       "1        WA-KG-4            Renton 3.2 E                       149.1   \n",
       "2        WA-KG-5    Mercer Island 1.5 NW                      1043.4   \n",
       "\n",
       "   Multi-Day Precipitation mm  Total Precipitation mm  Daily Snow Sum cm  \\\n",
       "0                         NaN                  1111.2                0.0   \n",
       "1                         NaN                   149.1                0.0   \n",
       "2                         NaN                  1043.4                8.4   \n",
       "\n",
       "   # of Reports   Latitude   Longitude Multi-Day Overlap Warning  \n",
       "0           365  47.763558 -122.293917                       NaN  \n",
       "1            21  47.484508 -122.127169                       NaN  \n",
       "2           365  47.585900 -122.250900                       NaN  "
      ]
     },
     "execution_count": 459,
     "metadata": {},
     "output_type": "execute_result"
    }
   ],
   "source": [
    "prcp_22.head(3)"
   ]
  },
  {
   "attachments": {},
   "cell_type": "markdown",
   "metadata": {},
   "source": [
    "**Observations**\n",
    "\\\n",
    "\\\n",
    "The 'Total Precipitation mm' column should be the combination of the dailiy and multi-day column and the field we use. There is no multi-day column for snow, so that will be the column we can use for snow data.\n",
    "\\\n",
    "\\\n",
    "I will need to confirm latitude & longitude data is complete. I also want to do some renaming of columns to make them a little more straight forward. So far what I've seen from the data, I don't need to worry about the multi-day 'warning', as I believe it is cumulative and not duplicative. I also think I'll convert the cm of snow into mm to match the precipitation. Go metric system!"
   ]
  },
  {
   "attachments": {},
   "cell_type": "markdown",
   "metadata": {},
   "source": [
    "### 3.0 Explore and Cleanup PRCP data"
   ]
  },
  {
   "cell_type": "code",
   "execution_count": 460,
   "metadata": {},
   "outputs": [
    {
     "data": {
      "text/plain": [
       "(73, 10)"
      ]
     },
     "execution_count": 460,
     "metadata": {},
     "output_type": "execute_result"
    }
   ],
   "source": [
    "prcp_22.shape"
   ]
  },
  {
   "cell_type": "code",
   "execution_count": 461,
   "metadata": {},
   "outputs": [
    {
     "name": "stdout",
     "output_type": "stream",
     "text": [
      "<class 'pandas.core.frame.DataFrame'>\n",
      "RangeIndex: 73 entries, 0 to 72\n",
      "Data columns (total 10 columns):\n",
      " #   Column                      Non-Null Count  Dtype  \n",
      "---  ------                      --------------  -----  \n",
      " 0   Station Number              73 non-null     object \n",
      " 1   Station Name                73 non-null     object \n",
      " 2   Daily Precipitation Sum MM  73 non-null     float64\n",
      " 3   Multi-Day Precipitation mm  46 non-null     float64\n",
      " 4   Total Precipitation mm      73 non-null     float64\n",
      " 5   Daily Snow Sum cm           73 non-null     float64\n",
      " 6   # of Reports                73 non-null     int64  \n",
      " 7   Latitude                    73 non-null     float64\n",
      " 8   Longitude                   73 non-null     float64\n",
      " 9   Multi-Day Overlap Warning   8 non-null      object \n",
      "dtypes: float64(6), int64(1), object(3)\n",
      "memory usage: 5.8+ KB\n"
     ]
    }
   ],
   "source": [
    "prcp_22.info()"
   ]
  },
  {
   "attachments": {},
   "cell_type": "markdown",
   "metadata": {},
   "source": [
    "#### 3.0.1 Rename Fields"
   ]
  },
  {
   "cell_type": "code",
   "execution_count": 462,
   "metadata": {},
   "outputs": [
    {
     "data": {
      "text/plain": [
       "Index(['station_id', 'station_name', 'daily_prcp_mm', 'multi_day_prcp_mm',\n",
       "       'total_prcp_mm', 'daily_snow_cm', 'reports_#', 'lat_prcp', 'long_prcp',\n",
       "       'md_overlap'],\n",
       "      dtype='object')"
      ]
     },
     "execution_count": 462,
     "metadata": {},
     "output_type": "execute_result"
    }
   ],
   "source": [
    "#Now I want to go through the precipitation data and rename the fields to be more Python friendly\n",
    "prcp_22.rename(columns ={'Station Number': 'station_id', 'Station Name': 'station_name', 'Daily Precipitation Sum MM': 'daily_prcp_mm',\n",
    "                         'Multi-Day Precipitation mm': 'multi_day_prcp_mm', 'Total Precipitation mm': 'total_prcp_mm',\n",
    "                         'Daily Snow Sum cm': 'daily_snow_cm', '# of Reports': 'reports_#', 'Latitude': 'lat_prcp',\n",
    "                         'Longitude': 'long_prcp', 'Multi-Day Overlap Warning': 'md_overlap'}, inplace=True)\n",
    "\n",
    "#verify the names stuck\n",
    "prcp_22.columns"
   ]
  },
  {
   "attachments": {},
   "cell_type": "markdown",
   "metadata": {},
   "source": [
    "#### 3.0.2 Missing Values"
   ]
  },
  {
   "cell_type": "code",
   "execution_count": 463,
   "metadata": {},
   "outputs": [
    {
     "data": {
      "text/plain": [
       "station_id            0.000000\n",
       "station_name          0.000000\n",
       "daily_prcp_mm         0.000000\n",
       "multi_day_prcp_mm    36.986301\n",
       "total_prcp_mm         0.000000\n",
       "daily_snow_cm         0.000000\n",
       "reports_#             0.000000\n",
       "lat_prcp              0.000000\n",
       "long_prcp             0.000000\n",
       "md_overlap           89.041096\n",
       "dtype: float64"
      ]
     },
     "execution_count": 463,
     "metadata": {},
     "output_type": "execute_result"
    }
   ],
   "source": [
    "#view the % of rows which are missing data in each field\n",
    "prcp_22.isnull().sum() / prcp_22.shape[0] * 100"
   ]
  },
  {
   "attachments": {},
   "cell_type": "markdown",
   "metadata": {},
   "source": [
    "The missing values are both related to the multi-day preciptation, which I would expect to not be 100% complete (it's only used if multi-day entries were made)\n",
    "For now, I'm actually most curious if the daily+multiday = total, which it should. Before changing or dropping anything, let's make sure those match.\n",
    "\n",
    "#### 3.0.2.0 Validate the Parts Equal the Whole"
   ]
  },
  {
   "cell_type": "code",
   "execution_count": 464,
   "metadata": {},
   "outputs": [
    {
     "name": "stdout",
     "output_type": "stream",
     "text": [
      "Number of inconsistent records:  18\n"
     ]
    }
   ],
   "source": [
    "# Store fund columns to sum against\n",
    "prcp_columns = ['daily_prcp_mm', 'multi_day_prcp_mm']\n",
    "\n",
    "# Find rows where prcp_columns row sum == total\n",
    "prcp_equ = prcp_22[prcp_columns].sum(axis=1) == prcp_22['total_prcp_mm']\n",
    "\n",
    "# Store consistent and inconsistent data\n",
    "consistent_prcp = prcp_22[prcp_equ]\n",
    "inconsistent_prcp = prcp_22[~prcp_equ]\n",
    "\n",
    "# Store consistent and inconsistent data\n",
    "print(\"Number of inconsistent records: \", inconsistent_prcp.shape[0])"
   ]
  },
  {
   "cell_type": "code",
   "execution_count": 465,
   "metadata": {},
   "outputs": [
    {
     "data": {
      "text/plain": [
       "station_name          daily_prcp_mm  multi_day_prcp_mm  total_prcp_mm\n",
       "Auburn 8.2 SE         1217.2         67.1               1284.2           1\n",
       "Bellevue 1.8 W        1073.2         83.6               1156.7           1\n",
       "Vashon 4.9 SE         373.1          101.6              474.7            1\n",
       "Sheridan Beach 3.7 S  957.8          37.3               995.2            1\n",
       "Seattle 4.9 SE        913.1          29.2               942.3            1\n",
       "Seattle 4.9 NNE       220.0          232.2              452.1            1\n",
       "Seattle 4.8 NNW       308.4          96.8               405.1            1\n",
       "Seattle 4.6 NNE       179.1          265.7              444.8            1\n",
       "Seattle 4.2 SW        931.7          98.6               1030.2           1\n",
       "Seattle 4.0 NNW       418.1          3.8                421.9            1\n",
       "Sammamish 3.0 ESE     1167.6         83.6               1251.2           1\n",
       "Redmond 6.2 ESE       423.2          90.2               513.3            1\n",
       "Redmond 1.7 N         970.8          55.1               1025.9           1\n",
       "Kent 2.9 ENE          1037.1         70.1               1107.2           1\n",
       "Kenmore 0.9 WNW       865.1          290.8              1156.0           1\n",
       "Enumclaw 2.5 NNW      358.6          34.5               393.2            1\n",
       "Bellevue 2.3 SSE      1218.9         59.9               1278.9           1\n",
       "Woodinville 2.7 NE    373.1          116.8              490.0            1\n",
       "dtype: int64"
      ]
     },
     "execution_count": 465,
     "metadata": {},
     "output_type": "execute_result"
    }
   ],
   "source": [
    "#What do those records look like? I'm going to look by unique station\n",
    "inconsistent_prcp[['station_name','daily_prcp_mm','multi_day_prcp_mm','total_prcp_mm']].value_counts()"
   ]
  },
  {
   "attachments": {},
   "cell_type": "markdown",
   "metadata": {},
   "source": [
    "These variances appear to just be rounding, but to be thorough, we will add a new calculated field using the two parts."
   ]
  },
  {
   "attachments": {},
   "cell_type": "markdown",
   "metadata": {},
   "source": [
    "#### 3.0.2.1 Re-Calculate Total Column and Drop Old Fields"
   ]
  },
  {
   "cell_type": "code",
   "execution_count": 466,
   "metadata": {},
   "outputs": [],
   "source": [
    "#Create a new field using daily + multi-day. I'm also filling NaNs with 0 on the multi day in order to add correctly.\n",
    "prcp_22['prcp_mm_22'] = prcp_22['daily_prcp_mm'] + prcp_22['multi_day_prcp_mm'].fillna(0)"
   ]
  },
  {
   "cell_type": "code",
   "execution_count": 467,
   "metadata": {},
   "outputs": [
    {
     "name": "stdout",
     "output_type": "stream",
     "text": [
      "Number of inconsistent records:  0\n"
     ]
    }
   ],
   "source": [
    "#Rechecking with our new column\n",
    "prcp_columns = ['daily_prcp_mm', 'multi_day_prcp_mm']\n",
    "prcp_equ = prcp_22[prcp_columns].sum(axis=1) == prcp_22['prcp_mm_22'] #this time checking against our new column\n",
    "\n",
    "consistent_prcp = prcp_22[prcp_equ]\n",
    "inconsistent_prcp = prcp_22[~prcp_equ]\n",
    "\n",
    "print(\"Number of inconsistent records: \", inconsistent_prcp.shape[0])"
   ]
  },
  {
   "attachments": {},
   "cell_type": "markdown",
   "metadata": {},
   "source": [
    "That's better. Now I'll drop the old total column and daily column, but I will keep the multi_day column, because I think it may come in handy when imputing missing values later."
   ]
  },
  {
   "cell_type": "code",
   "execution_count": 468,
   "metadata": {},
   "outputs": [
    {
     "data": {
      "text/plain": [
       "Index(['station_id', 'station_name', 'multi_day_prcp_mm', 'daily_snow_cm',\n",
       "       'reports_#', 'lat_prcp', 'long_prcp', 'md_overlap', 'prcp_mm_22'],\n",
       "      dtype='object')"
      ]
     },
     "execution_count": 468,
     "metadata": {},
     "output_type": "execute_result"
    }
   ],
   "source": [
    "#drop the two columns\n",
    "prcp_22.drop(columns=['daily_prcp_mm','total_prcp_mm'], inplace=True)\n",
    "\n",
    "#print columns\n",
    "prcp_22.columns"
   ]
  },
  {
   "attachments": {},
   "cell_type": "markdown",
   "metadata": {},
   "source": [
    "#### 3.0.3 Synchronize Precipitation and Snowfall Data\n",
    "\n",
    "Our data has mm for precipitation, but centimeters for snowfall. We want to convert these to the same units of measurement for furture use."
   ]
  },
  {
   "cell_type": "code",
   "execution_count": 469,
   "metadata": {},
   "outputs": [
    {
     "data": {
      "text/plain": [
       "daily_snow_cm  snow_mm_22\n",
       "0.0            0.0           37\n",
       "0.5            5.0            2\n",
       "2.0            20.0           2\n",
       "2.8            28.0           2\n",
       "5.1            51.0           2\n",
       "3.8            38.0           2\n",
       "19.0           190.0          1\n",
       "11.2           112.0          1\n",
       "13.5           135.0          1\n",
       "13.7           137.0          1\n",
       "17.8           178.0          1\n",
       "19.6           196.0          1\n",
       "10.2           102.0          1\n",
       "19.8           198.0          1\n",
       "20.0           200.0          1\n",
       "20.3           203.0          1\n",
       "63.5           635.0          1\n",
       "10.4           104.0          1\n",
       "8.1            81.0           1\n",
       "8.9            89.0           1\n",
       "8.4            84.0           1\n",
       "0.2            2.0            1\n",
       "7.1            71.0           1\n",
       "6.6            66.0           1\n",
       "5.6            56.0           1\n",
       "4.8            48.0           1\n",
       "3.5            35.0           1\n",
       "2.5            25.0           1\n",
       "1.3            13.0           1\n",
       "1.0            10.0           1\n",
       "0.8            8.0            1\n",
       "167.6          1676.0         1\n",
       "dtype: int64"
      ]
     },
     "execution_count": 469,
     "metadata": {},
     "output_type": "execute_result"
    }
   ],
   "source": [
    "#Because the metric system is the best, I can easily create a new mm field for snow by multiplying my cm by 10.\n",
    "prcp_22['snow_mm_22'] = prcp_22['daily_snow_cm']*10\n",
    "\n",
    "#validate this resulting new column\n",
    "prcp_22[['daily_snow_cm', 'snow_mm_22']].value_counts()"
   ]
  },
  {
   "cell_type": "code",
   "execution_count": 470,
   "metadata": {},
   "outputs": [
    {
     "data": {
      "text/plain": [
       "Index(['station_id', 'station_name', 'multi_day_prcp_mm', 'reports_#',\n",
       "       'lat_prcp', 'long_prcp', 'md_overlap', 'prcp_mm_22', 'snow_mm_22'],\n",
       "      dtype='object')"
      ]
     },
     "execution_count": 470,
     "metadata": {},
     "output_type": "execute_result"
    }
   ],
   "source": [
    "#This looks good so I'll drop the original field\n",
    "prcp_22.drop(columns=['daily_snow_cm'], inplace=True)\n",
    "\n",
    "prcp_22.columns"
   ]
  },
  {
   "attachments": {},
   "cell_type": "markdown",
   "metadata": {},
   "source": [
    "#### 3.0.4 Review Distribution of Rainfall and Snow Data\n",
    "\n",
    "I know from reviewing the data source that it relies on manual data entry, but let's check out how widespread the distrubtion of the data is."
   ]
  },
  {
   "cell_type": "code",
   "execution_count": 471,
   "metadata": {},
   "outputs": [
    {
     "data": {
      "image/png": "[encoded data removed]",
      "text/plain": [
       "<Figure size 640x480 with 2 Axes>"
      ]
     },
     "metadata": {},
     "output_type": "display_data"
    }
   ],
   "source": [
    "fig, ax = plt.subplots(1,2, squeeze=False)\n",
    "\n",
    "ax[0,0].hist(prcp_22['prcp_mm_22'])\n",
    "ax[0,1].hist(prcp_22['snow_mm_22'])\n",
    "ax[0,0].set_xlabel('prcp_mm')\n",
    "ax[0,1].set_xlabel('snow_mm')\n",
    "\n",
    "plt.show()"
   ]
  },
  {
   "attachments": {},
   "cell_type": "markdown",
   "metadata": {},
   "source": [
    "#### 3.0.5 Fix Incomplete Data\n",
    "I'd say those distributions are far from normal. We already know this relies on collaborative manual data entry so we have some missing days. This is further complicated by the fact that multi-day reports only are counted for 1 day of reporting in the reports_# field. As an example of this, WA-KG-225 has a full 365 days of data. But 9 of the days were entered in a multi-day batch, so it shows as having only 356 reports.\n",
    "\\\n",
    "\\\n",
    "This gives us an interesting, but solvable challenge. Using the 'prcp' and 'snow' data we do have, we can use the reports_# field to see how many days worth of precipitation we need to impute. My best idea is to set aside the stations with complete data, get their daily averages, and then map those to the nearest stations missing data. I was able to manually check a few of the more complete stations and feel the ones with at least 320 obervastion are pretty complete and could be used to create averages. But because of that issue where multi-day reports only count as 1 report_#, we'll need to make some assumptions to not over-impute.\n",
    "\n",
    "##### 3.0.5.1 Calculate an Adjusted # of Reports\n"
   ]
  },
  {
   "cell_type": "code",
   "execution_count": 472,
   "metadata": {},
   "outputs": [
    {
     "data": {
      "text/html": [
       "<div>\n",
       "<style scoped>\n",
       "    .dataframe tbody tr th:only-of-type {\n",
       "        vertical-align: middle;\n",
       "    }\n",
       "\n",
       "    .dataframe tbody tr th {\n",
       "        vertical-align: top;\n",
       "    }\n",
       "\n",
       "    .dataframe thead th {\n",
       "        text-align: right;\n",
       "    }\n",
       "</style>\n",
       "<table border=\"1\" class=\"dataframe\">\n",
       "  <thead>\n",
       "    <tr style=\"text-align: right;\">\n",
       "      <th></th>\n",
       "      <th>station_id</th>\n",
       "      <th>station_name</th>\n",
       "      <th>multi_day_prcp_mm</th>\n",
       "      <th>reports_#</th>\n",
       "      <th>lat_prcp</th>\n",
       "      <th>long_prcp</th>\n",
       "      <th>md_overlap</th>\n",
       "      <th>prcp_mm_22</th>\n",
       "      <th>snow_mm_22</th>\n",
       "      <th>adj_reports</th>\n",
       "    </tr>\n",
       "  </thead>\n",
       "  <tbody>\n",
       "    <tr>\n",
       "      <th>13</th>\n",
       "      <td>WA-KG-65</td>\n",
       "      <td>Bellevue 1.8 W</td>\n",
       "      <td>83.6</td>\n",
       "      <td>350</td>\n",
       "      <td>47.604565</td>\n",
       "      <td>-122.193107</td>\n",
       "      <td>NaN</td>\n",
       "      <td>1156.8</td>\n",
       "      <td>56.0</td>\n",
       "      <td>365</td>\n",
       "    </tr>\n",
       "    <tr>\n",
       "      <th>58</th>\n",
       "      <td>WA-KG-277</td>\n",
       "      <td>Auburn 1.3 NE</td>\n",
       "      <td>28.7</td>\n",
       "      <td>11</td>\n",
       "      <td>47.313902</td>\n",
       "      <td>-122.196595</td>\n",
       "      <td>NaN</td>\n",
       "      <td>80.3</td>\n",
       "      <td>0.0</td>\n",
       "      <td>15</td>\n",
       "    </tr>\n",
       "    <tr>\n",
       "      <th>19</th>\n",
       "      <td>WA-KG-81</td>\n",
       "      <td>Renton 0.5 SSW</td>\n",
       "      <td>18.0</td>\n",
       "      <td>364</td>\n",
       "      <td>47.475184</td>\n",
       "      <td>-122.201889</td>\n",
       "      <td>NaN</td>\n",
       "      <td>1123.4</td>\n",
       "      <td>20.0</td>\n",
       "      <td>365</td>\n",
       "    </tr>\n",
       "    <tr>\n",
       "      <th>12</th>\n",
       "      <td>WA-KG-61</td>\n",
       "      <td>Redmond 3.7 N</td>\n",
       "      <td>23.4</td>\n",
       "      <td>327</td>\n",
       "      <td>47.727397</td>\n",
       "      <td>-122.102078</td>\n",
       "      <td>NaN</td>\n",
       "      <td>1207.5</td>\n",
       "      <td>198.0</td>\n",
       "      <td>333</td>\n",
       "    </tr>\n",
       "    <tr>\n",
       "      <th>28</th>\n",
       "      <td>WA-KG-196</td>\n",
       "      <td>Des Moines 2.9 S</td>\n",
       "      <td>NaN</td>\n",
       "      <td>255</td>\n",
       "      <td>47.353863</td>\n",
       "      <td>-122.318054</td>\n",
       "      <td>NaN</td>\n",
       "      <td>646.7</td>\n",
       "      <td>0.0</td>\n",
       "      <td>255</td>\n",
       "    </tr>\n",
       "    <tr>\n",
       "      <th>53</th>\n",
       "      <td>WA-KG-270</td>\n",
       "      <td>Bothell 0.7 SSW</td>\n",
       "      <td>NaN</td>\n",
       "      <td>72</td>\n",
       "      <td>47.749712</td>\n",
       "      <td>-122.201353</td>\n",
       "      <td>NaN</td>\n",
       "      <td>298.4</td>\n",
       "      <td>0.0</td>\n",
       "      <td>72</td>\n",
       "    </tr>\n",
       "    <tr>\n",
       "      <th>29</th>\n",
       "      <td>WA-KG-199</td>\n",
       "      <td>Seattle 4.5 N</td>\n",
       "      <td>33.0</td>\n",
       "      <td>16</td>\n",
       "      <td>47.686424</td>\n",
       "      <td>-122.362209</td>\n",
       "      <td>NaN</td>\n",
       "      <td>184.9</td>\n",
       "      <td>5.0</td>\n",
       "      <td>19</td>\n",
       "    </tr>\n",
       "    <tr>\n",
       "      <th>27</th>\n",
       "      <td>WA-KG-192</td>\n",
       "      <td>Seattle 5.6 N</td>\n",
       "      <td>366.5</td>\n",
       "      <td>122</td>\n",
       "      <td>47.702387</td>\n",
       "      <td>-122.351663</td>\n",
       "      <td>* Includes multi-day report starting on 11/21...</td>\n",
       "      <td>898.9</td>\n",
       "      <td>71.0</td>\n",
       "      <td>172</td>\n",
       "    </tr>\n",
       "    <tr>\n",
       "      <th>32</th>\n",
       "      <td>WA-KG-210</td>\n",
       "      <td>Burien 2.1 NNW</td>\n",
       "      <td>487.2</td>\n",
       "      <td>213</td>\n",
       "      <td>47.491944</td>\n",
       "      <td>-122.365000</td>\n",
       "      <td>NaN</td>\n",
       "      <td>997.2</td>\n",
       "      <td>0.0</td>\n",
       "      <td>317</td>\n",
       "    </tr>\n",
       "    <tr>\n",
       "      <th>23</th>\n",
       "      <td>WA-KG-143</td>\n",
       "      <td>North Bend 5.4 ESE</td>\n",
       "      <td>NaN</td>\n",
       "      <td>364</td>\n",
       "      <td>47.466900</td>\n",
       "      <td>-121.680600</td>\n",
       "      <td>NaN</td>\n",
       "      <td>2216.2</td>\n",
       "      <td>1676.0</td>\n",
       "      <td>364</td>\n",
       "    </tr>\n",
       "  </tbody>\n",
       "</table>\n",
       "</div>"
      ],
      "text/plain": [
       "    station_id        station_name  multi_day_prcp_mm  reports_#   lat_prcp  \\\n",
       "13    WA-KG-65      Bellevue 1.8 W               83.6        350  47.604565   \n",
       "58   WA-KG-277       Auburn 1.3 NE               28.7         11  47.313902   \n",
       "19    WA-KG-81      Renton 0.5 SSW               18.0        364  47.475184   \n",
       "12    WA-KG-61       Redmond 3.7 N               23.4        327  47.727397   \n",
       "28   WA-KG-196    Des Moines 2.9 S                NaN        255  47.353863   \n",
       "53   WA-KG-270     Bothell 0.7 SSW                NaN         72  47.749712   \n",
       "29   WA-KG-199       Seattle 4.5 N               33.0         16  47.686424   \n",
       "27   WA-KG-192       Seattle 5.6 N              366.5        122  47.702387   \n",
       "32   WA-KG-210      Burien 2.1 NNW              487.2        213  47.491944   \n",
       "23   WA-KG-143  North Bend 5.4 ESE                NaN        364  47.466900   \n",
       "\n",
       "     long_prcp                                         md_overlap  prcp_mm_22  \\\n",
       "13 -122.193107                                                NaN      1156.8   \n",
       "58 -122.196595                                                NaN        80.3   \n",
       "19 -122.201889                                                NaN      1123.4   \n",
       "12 -122.102078                                                NaN      1207.5   \n",
       "28 -122.318054                                                NaN       646.7   \n",
       "53 -122.201353                                                NaN       298.4   \n",
       "29 -122.362209                                                NaN       184.9   \n",
       "27 -122.351663   * Includes multi-day report starting on 11/21...       898.9   \n",
       "32 -122.365000                                                NaN       997.2   \n",
       "23 -121.680600                                                NaN      2216.2   \n",
       "\n",
       "    snow_mm_22  adj_reports  \n",
       "13        56.0          365  \n",
       "58         0.0           15  \n",
       "19        20.0          365  \n",
       "12       198.0          333  \n",
       "28         0.0          255  \n",
       "53         0.0           72  \n",
       "29         5.0           19  \n",
       "27        71.0          172  \n",
       "32         0.0          317  \n",
       "23      1676.0          364  "
      ]
     },
     "execution_count": 472,
     "metadata": {},
     "output_type": "execute_result"
    }
   ],
   "source": [
    "#We need to estimate how many reports aren't counted due to having multi-day reporting. We can estimate this and create an adjusted reports_# field using this formula:\n",
    "# ((multi_day_prcp_mm / prcp_mm_22) * reports_#) + reports_# => % of total prcp from multi-day * counted reports = non-counted reports + counted reports = adjusted count\n",
    "\n",
    "prcp_22['adj_reports'] = round(((prcp_22['multi_day_prcp_mm'].fillna(0) / prcp_22['prcp_mm_22']).fillna(0) * prcp_22['reports_#']) + prcp_22['reports_#'],0).astype(int) #doing fillna twice, once in the division to account for possible denominator errors, and then once on the product in case there are 0 multi days AND 0 total prcp\n",
    "prcp_22['max_reports'] = 365 #create a field with the max possible days to then choose the proper adjusted days\n",
    "prcp_22['adj_reports'] = prcp_22[['adj_reports','max_reports']].min(axis=1) #update adj_reports to be the lessor of the calculated field or 365 max\n",
    "prcp_22.drop(columns=['max_reports'],inplace=True) #drop the now unecessary max column\n",
    "\n",
    "#let's check it out\n",
    "prcp_22.sample(10)"
   ]
  },
  {
   "attachments": {},
   "cell_type": "markdown",
   "metadata": {},
   "source": [
    "##### 3.0.5.2 Calculate Daily Average from Most Complete Stations\n",
    "\n",
    "These more complete stations will be the basis for imputing the rest of the incomeplete data from the others stations."
   ]
  },
  {
   "cell_type": "code",
   "execution_count": 473,
   "metadata": {},
   "outputs": [
    {
     "data": {
      "text/plain": [
       "(34, 8)"
      ]
     },
     "execution_count": 473,
     "metadata": {},
     "output_type": "execute_result"
    }
   ],
   "source": [
    "#subset my 2022 prcp dataframe to only those with reports_# of at least 200 and adj_reports of atleast 320 and drop duplicates.\n",
    "prcp_subset = prcp_22[(prcp_22['adj_reports'] >= 320) & (prcp_22['reports_#'] >= 200)][['station_id','station_name','lat_prcp','long_prcp','reports_#','adj_reports','prcp_mm_22','snow_mm_22']].drop_duplicates('station_id', keep='first')\n",
    "\n",
    "prcp_subset.shape"
   ]
  },
  {
   "cell_type": "code",
   "execution_count": 474,
   "metadata": {},
   "outputs": [
    {
     "data": {
      "text/html": [
       "<div>\n",
       "<style scoped>\n",
       "    .dataframe tbody tr th:only-of-type {\n",
       "        vertical-align: middle;\n",
       "    }\n",
       "\n",
       "    .dataframe tbody tr th {\n",
       "        vertical-align: top;\n",
       "    }\n",
       "\n",
       "    .dataframe thead th {\n",
       "        text-align: right;\n",
       "    }\n",
       "</style>\n",
       "<table border=\"1\" class=\"dataframe\">\n",
       "  <thead>\n",
       "    <tr style=\"text-align: right;\">\n",
       "      <th></th>\n",
       "      <th>station_id</th>\n",
       "      <th>station_name</th>\n",
       "      <th>lat_prcp</th>\n",
       "      <th>long_prcp</th>\n",
       "      <th>reports_#</th>\n",
       "      <th>adj_reports</th>\n",
       "      <th>prcp_mm_22</th>\n",
       "      <th>snow_mm_22</th>\n",
       "      <th>norm_prcp_daily_avg</th>\n",
       "      <th>norm_snow_daily_avg</th>\n",
       "    </tr>\n",
       "  </thead>\n",
       "  <tbody>\n",
       "    <tr>\n",
       "      <th>64</th>\n",
       "      <td>WA-KG-287</td>\n",
       "      <td>Seattle 2.5 SE</td>\n",
       "      <td>47.596610</td>\n",
       "      <td>-122.311420</td>\n",
       "      <td>236</td>\n",
       "      <td>347</td>\n",
       "      <td>1138.7</td>\n",
       "      <td>35.0</td>\n",
       "      <td>3.281556</td>\n",
       "      <td>0.100865</td>\n",
       "    </tr>\n",
       "    <tr>\n",
       "      <th>17</th>\n",
       "      <td>WA-KG-78</td>\n",
       "      <td>Woodinville 0.9 ENE</td>\n",
       "      <td>47.753074</td>\n",
       "      <td>-122.094256</td>\n",
       "      <td>298</td>\n",
       "      <td>365</td>\n",
       "      <td>1189.7</td>\n",
       "      <td>190.0</td>\n",
       "      <td>3.259452</td>\n",
       "      <td>0.520548</td>\n",
       "    </tr>\n",
       "    <tr>\n",
       "      <th>10</th>\n",
       "      <td>WA-KG-51</td>\n",
       "      <td>Kenmore 0.9 WNW</td>\n",
       "      <td>47.771401</td>\n",
       "      <td>-122.258461</td>\n",
       "      <td>304</td>\n",
       "      <td>365</td>\n",
       "      <td>1155.9</td>\n",
       "      <td>0.0</td>\n",
       "      <td>3.166849</td>\n",
       "      <td>0.000000</td>\n",
       "    </tr>\n",
       "    <tr>\n",
       "      <th>26</th>\n",
       "      <td>WA-KG-181</td>\n",
       "      <td>Lake Forest Park 0.7 WNW</td>\n",
       "      <td>47.765674</td>\n",
       "      <td>-122.300135</td>\n",
       "      <td>307</td>\n",
       "      <td>365</td>\n",
       "      <td>1069.3</td>\n",
       "      <td>0.0</td>\n",
       "      <td>2.929589</td>\n",
       "      <td>0.000000</td>\n",
       "    </tr>\n",
       "    <tr>\n",
       "      <th>31</th>\n",
       "      <td>WA-KG-204</td>\n",
       "      <td>Seattle 0.9 SSE</td>\n",
       "      <td>47.609077</td>\n",
       "      <td>-122.343988</td>\n",
       "      <td>314</td>\n",
       "      <td>359</td>\n",
       "      <td>939.8</td>\n",
       "      <td>0.0</td>\n",
       "      <td>2.617827</td>\n",
       "      <td>0.000000</td>\n",
       "    </tr>\n",
       "    <tr>\n",
       "      <th>42</th>\n",
       "      <td>WA-KG-239</td>\n",
       "      <td>Seattle 3.9 N</td>\n",
       "      <td>47.676830</td>\n",
       "      <td>-122.363210</td>\n",
       "      <td>317</td>\n",
       "      <td>341</td>\n",
       "      <td>984.5</td>\n",
       "      <td>0.0</td>\n",
       "      <td>2.887097</td>\n",
       "      <td>0.000000</td>\n",
       "    </tr>\n",
       "    <tr>\n",
       "      <th>12</th>\n",
       "      <td>WA-KG-61</td>\n",
       "      <td>Redmond 3.7 N</td>\n",
       "      <td>47.727397</td>\n",
       "      <td>-122.102078</td>\n",
       "      <td>327</td>\n",
       "      <td>333</td>\n",
       "      <td>1207.5</td>\n",
       "      <td>198.0</td>\n",
       "      <td>3.626126</td>\n",
       "      <td>0.594595</td>\n",
       "    </tr>\n",
       "    <tr>\n",
       "      <th>39</th>\n",
       "      <td>WA-KG-234</td>\n",
       "      <td>Matthews Beach 0.4 NW</td>\n",
       "      <td>47.700155</td>\n",
       "      <td>-122.280497</td>\n",
       "      <td>328</td>\n",
       "      <td>354</td>\n",
       "      <td>1045.0</td>\n",
       "      <td>0.0</td>\n",
       "      <td>2.951977</td>\n",
       "      <td>0.000000</td>\n",
       "    </tr>\n",
       "    <tr>\n",
       "      <th>36</th>\n",
       "      <td>WA-KG-229</td>\n",
       "      <td>Seattle 5.5 NNE</td>\n",
       "      <td>47.696532</td>\n",
       "      <td>-122.312907</td>\n",
       "      <td>329</td>\n",
       "      <td>364</td>\n",
       "      <td>1087.1</td>\n",
       "      <td>0.0</td>\n",
       "      <td>2.986538</td>\n",
       "      <td>0.000000</td>\n",
       "    </tr>\n",
       "    <tr>\n",
       "      <th>38</th>\n",
       "      <td>WA-KG-232</td>\n",
       "      <td>Southworth 2.7 SSE</td>\n",
       "      <td>47.470924</td>\n",
       "      <td>-122.487314</td>\n",
       "      <td>329</td>\n",
       "      <td>329</td>\n",
       "      <td>1313.9</td>\n",
       "      <td>20.0</td>\n",
       "      <td>3.993617</td>\n",
       "      <td>0.060790</td>\n",
       "    </tr>\n",
       "  </tbody>\n",
       "</table>\n",
       "</div>"
      ],
      "text/plain": [
       "    station_id              station_name   lat_prcp   long_prcp  reports_#  \\\n",
       "64   WA-KG-287            Seattle 2.5 SE  47.596610 -122.311420        236   \n",
       "17    WA-KG-78       Woodinville 0.9 ENE  47.753074 -122.094256        298   \n",
       "10    WA-KG-51           Kenmore 0.9 WNW  47.771401 -122.258461        304   \n",
       "26   WA-KG-181  Lake Forest Park 0.7 WNW  47.765674 -122.300135        307   \n",
       "31   WA-KG-204           Seattle 0.9 SSE  47.609077 -122.343988        314   \n",
       "42   WA-KG-239             Seattle 3.9 N  47.676830 -122.363210        317   \n",
       "12    WA-KG-61             Redmond 3.7 N  47.727397 -122.102078        327   \n",
       "39   WA-KG-234     Matthews Beach 0.4 NW  47.700155 -122.280497        328   \n",
       "36   WA-KG-229           Seattle 5.5 NNE  47.696532 -122.312907        329   \n",
       "38   WA-KG-232        Southworth 2.7 SSE  47.470924 -122.487314        329   \n",
       "\n",
       "    adj_reports  prcp_mm_22  snow_mm_22  norm_prcp_daily_avg  \\\n",
       "64          347      1138.7        35.0             3.281556   \n",
       "17          365      1189.7       190.0             3.259452   \n",
       "10          365      1155.9         0.0             3.166849   \n",
       "26          365      1069.3         0.0             2.929589   \n",
       "31          359       939.8         0.0             2.617827   \n",
       "42          341       984.5         0.0             2.887097   \n",
       "12          333      1207.5       198.0             3.626126   \n",
       "39          354      1045.0         0.0             2.951977   \n",
       "36          364      1087.1         0.0             2.986538   \n",
       "38          329      1313.9        20.0             3.993617   \n",
       "\n",
       "    norm_snow_daily_avg  \n",
       "64             0.100865  \n",
       "17             0.520548  \n",
       "10             0.000000  \n",
       "26             0.000000  \n",
       "31             0.000000  \n",
       "42             0.000000  \n",
       "12             0.594595  \n",
       "39             0.000000  \n",
       "36             0.000000  \n",
       "38             0.060790  "
      ]
     },
     "execution_count": 474,
     "metadata": {},
     "output_type": "execute_result"
    }
   ],
   "source": [
    "#Now let's calculate daily averages\n",
    "prcp_subset['norm_prcp_daily_avg'] = prcp_subset['prcp_mm_22'] / prcp_subset['adj_reports'] #using 'norm_' to signify these are more normalized numbers\n",
    "prcp_subset['norm_snow_daily_avg'] = prcp_subset['snow_mm_22'] / prcp_subset['adj_reports'] #using 'norm_' to signify these are more normalized numbers\n",
    "\n",
    "prcp_subset.sort_values('reports_#').head(10)"
   ]
  },
  {
   "attachments": {},
   "cell_type": "markdown",
   "metadata": {},
   "source": [
    "##### 3.0.5.3 Map Each Station to its nearest 'Complete' Station\n",
    "\n",
    "To do this we'll use a formula that will come in handy later when combining our dataframes."
   ]
  },
  {
   "cell_type": "code",
   "execution_count": 475,
   "metadata": {},
   "outputs": [],
   "source": [
    "def dist_b_points(lat1, long1, lat2, long2):\n",
    "    \"\"\"\n",
    "    Calculate the great circle distance between two points \n",
    "    on the earth (specified in decimal degrees). \n",
    "    Credit https://medium.com/analytics-vidhya/finding-nearest-pair-of-latitude-and-longitude-match-using-python-ce50d62af546\n",
    "    \"\"\"\n",
    "    # convert decimal degrees to radians \n",
    "    lat1, long1, lat2, long2 = map(radians, [lat1, long1, lat2, long2])\n",
    "    # haversine formula \n",
    "    dlon = long2 - long1 \n",
    "    dlat = lat2 - lat1 \n",
    "    a = sin(dlat/2)**2 + cos(lat1) * cos(lat2) * sin(dlon/2)**2\n",
    "    c = 2 * asin(sqrt(a)) \n",
    "    # Radius of earth in kilometers is 6371\n",
    "    km = 6371* c\n",
    "    return km"
   ]
  },
  {
   "cell_type": "code",
   "execution_count": 476,
   "metadata": {},
   "outputs": [],
   "source": [
    "def flag_nearest(lat, long, df2):\n",
    "    \"\"\" \n",
    "    Label the closest weather station using the results of the dist_b_points function.\n",
    "    I want to research and test this more. It seems weird to me that we specify the fields and df in the function, rather than use dynamic inputs.\n",
    "    Credit https://medium.com/analytics-vidhya/finding-nearest-pair-of-latitude-and-longitude-match-using-python-ce50d62af546\n",
    "    \"\"\"\n",
    "    distances = df2.apply(\n",
    "        lambda row: dist_b_points(lat, long, row['lat_prcp'], row['long_prcp']), axis = 1)\n",
    "    return df2.loc[distances.idxmin(), 'station_id']"
   ]
  },
  {
   "cell_type": "code",
   "execution_count": 477,
   "metadata": {},
   "outputs": [],
   "source": [
    "#Use tje defined functions to add another field to pull in the ID from the nearest \"complete\" station\n",
    "prcp_22['nearest_complete'] = prcp_22.apply(\n",
    "    lambda row: flag_nearest(row['lat_prcp'], row['long_prcp'],prcp_subset), axis=1)"
   ]
  },
  {
   "cell_type": "code",
   "execution_count": 478,
   "metadata": {},
   "outputs": [
    {
     "data": {
      "text/html": [
       "<div>\n",
       "<style scoped>\n",
       "    .dataframe tbody tr th:only-of-type {\n",
       "        vertical-align: middle;\n",
       "    }\n",
       "\n",
       "    .dataframe tbody tr th {\n",
       "        vertical-align: top;\n",
       "    }\n",
       "\n",
       "    .dataframe thead th {\n",
       "        text-align: right;\n",
       "    }\n",
       "</style>\n",
       "<table border=\"1\" class=\"dataframe\">\n",
       "  <thead>\n",
       "    <tr style=\"text-align: right;\">\n",
       "      <th></th>\n",
       "      <th>station_id</th>\n",
       "      <th>station_name</th>\n",
       "      <th>multi_day_prcp_mm</th>\n",
       "      <th>reports_#</th>\n",
       "      <th>lat_prcp</th>\n",
       "      <th>long_prcp</th>\n",
       "      <th>md_overlap</th>\n",
       "      <th>prcp_mm_22</th>\n",
       "      <th>snow_mm_22</th>\n",
       "      <th>adj_reports</th>\n",
       "      <th>nearest_complete</th>\n",
       "    </tr>\n",
       "  </thead>\n",
       "  <tbody>\n",
       "    <tr>\n",
       "      <th>0</th>\n",
       "      <td>WA-KG-3</td>\n",
       "      <td>Lake Forest Park 0.4 W</td>\n",
       "      <td>NaN</td>\n",
       "      <td>365</td>\n",
       "      <td>47.763558</td>\n",
       "      <td>-122.293917</td>\n",
       "      <td>NaN</td>\n",
       "      <td>1111.2</td>\n",
       "      <td>0.0</td>\n",
       "      <td>365</td>\n",
       "      <td>WA-KG-3</td>\n",
       "    </tr>\n",
       "    <tr>\n",
       "      <th>1</th>\n",
       "      <td>WA-KG-4</td>\n",
       "      <td>Renton 3.2 E</td>\n",
       "      <td>NaN</td>\n",
       "      <td>21</td>\n",
       "      <td>47.484508</td>\n",
       "      <td>-122.127169</td>\n",
       "      <td>NaN</td>\n",
       "      <td>149.1</td>\n",
       "      <td>0.0</td>\n",
       "      <td>21</td>\n",
       "      <td>WA-KG-253</td>\n",
       "    </tr>\n",
       "    <tr>\n",
       "      <th>2</th>\n",
       "      <td>WA-KG-5</td>\n",
       "      <td>Mercer Island 1.5 NW</td>\n",
       "      <td>NaN</td>\n",
       "      <td>365</td>\n",
       "      <td>47.585900</td>\n",
       "      <td>-122.250900</td>\n",
       "      <td>NaN</td>\n",
       "      <td>1043.4</td>\n",
       "      <td>84.0</td>\n",
       "      <td>365</td>\n",
       "      <td>WA-KG-5</td>\n",
       "    </tr>\n",
       "  </tbody>\n",
       "</table>\n",
       "</div>"
      ],
      "text/plain": [
       "  station_id            station_name  multi_day_prcp_mm  reports_#   lat_prcp  \\\n",
       "0    WA-KG-3  Lake Forest Park 0.4 W                NaN        365  47.763558   \n",
       "1    WA-KG-4            Renton 3.2 E                NaN         21  47.484508   \n",
       "2    WA-KG-5    Mercer Island 1.5 NW                NaN        365  47.585900   \n",
       "\n",
       "    long_prcp md_overlap  prcp_mm_22  snow_mm_22  adj_reports nearest_complete  \n",
       "0 -122.293917        NaN      1111.2         0.0          365          WA-KG-3  \n",
       "1 -122.127169        NaN       149.1         0.0           21        WA-KG-253  \n",
       "2 -122.250900        NaN      1043.4        84.0          365          WA-KG-5  "
      ]
     },
     "execution_count": 478,
     "metadata": {},
     "output_type": "execute_result"
    }
   ],
   "source": [
    "prcp_22.head(3)"
   ]
  },
  {
   "attachments": {},
   "cell_type": "markdown",
   "metadata": {},
   "source": [
    "##### 3.0.5.4 Merge Subset into Main DF\n",
    "\n",
    "This will get our orginal data and daily averages into the same dataframe to then do calculations on."
   ]
  },
  {
   "cell_type": "code",
   "execution_count": 479,
   "metadata": {},
   "outputs": [
    {
     "data": {
      "text/html": [
       "<div>\n",
       "<style scoped>\n",
       "    .dataframe tbody tr th:only-of-type {\n",
       "        vertical-align: middle;\n",
       "    }\n",
       "\n",
       "    .dataframe tbody tr th {\n",
       "        vertical-align: top;\n",
       "    }\n",
       "\n",
       "    .dataframe thead th {\n",
       "        text-align: right;\n",
       "    }\n",
       "</style>\n",
       "<table border=\"1\" class=\"dataframe\">\n",
       "  <thead>\n",
       "    <tr style=\"text-align: right;\">\n",
       "      <th></th>\n",
       "      <th>station_id</th>\n",
       "      <th>station_name</th>\n",
       "      <th>multi_day_prcp_mm</th>\n",
       "      <th>reports_#</th>\n",
       "      <th>lat_prcp</th>\n",
       "      <th>long_prcp</th>\n",
       "      <th>md_overlap</th>\n",
       "      <th>prcp_mm_22</th>\n",
       "      <th>snow_mm_22</th>\n",
       "      <th>adj_reports</th>\n",
       "      <th>nearest_complete</th>\n",
       "      <th>station_name_nearest</th>\n",
       "      <th>norm_prcp_daily_avg</th>\n",
       "      <th>norm_snow_daily_avg</th>\n",
       "    </tr>\n",
       "  </thead>\n",
       "  <tbody>\n",
       "    <tr>\n",
       "      <th>0</th>\n",
       "      <td>WA-KG-3</td>\n",
       "      <td>Lake Forest Park 0.4 W</td>\n",
       "      <td>NaN</td>\n",
       "      <td>365</td>\n",
       "      <td>47.763558</td>\n",
       "      <td>-122.293917</td>\n",
       "      <td>NaN</td>\n",
       "      <td>1111.2</td>\n",
       "      <td>0.0</td>\n",
       "      <td>365</td>\n",
       "      <td>WA-KG-3</td>\n",
       "      <td>Lake Forest Park 0.4 W</td>\n",
       "      <td>3.044384</td>\n",
       "      <td>0.000000</td>\n",
       "    </tr>\n",
       "    <tr>\n",
       "      <th>1</th>\n",
       "      <td>WA-KG-263</td>\n",
       "      <td>Lake Forest Park 0.8 SSE</td>\n",
       "      <td>NaN</td>\n",
       "      <td>199</td>\n",
       "      <td>47.751720</td>\n",
       "      <td>-122.279500</td>\n",
       "      <td>NaN</td>\n",
       "      <td>1032.0</td>\n",
       "      <td>0.0</td>\n",
       "      <td>199</td>\n",
       "      <td>WA-KG-3</td>\n",
       "      <td>Lake Forest Park 0.4 W</td>\n",
       "      <td>3.044384</td>\n",
       "      <td>0.000000</td>\n",
       "    </tr>\n",
       "    <tr>\n",
       "      <th>2</th>\n",
       "      <td>WA-KG-4</td>\n",
       "      <td>Renton 3.2 E</td>\n",
       "      <td>NaN</td>\n",
       "      <td>21</td>\n",
       "      <td>47.484508</td>\n",
       "      <td>-122.127169</td>\n",
       "      <td>NaN</td>\n",
       "      <td>149.1</td>\n",
       "      <td>0.0</td>\n",
       "      <td>21</td>\n",
       "      <td>WA-KG-253</td>\n",
       "      <td>Renton 2.7 NE</td>\n",
       "      <td>3.341758</td>\n",
       "      <td>0.549451</td>\n",
       "    </tr>\n",
       "  </tbody>\n",
       "</table>\n",
       "</div>"
      ],
      "text/plain": [
       "   station_id              station_name  multi_day_prcp_mm  reports_#  \\\n",
       "0     WA-KG-3    Lake Forest Park 0.4 W                NaN        365   \n",
       "1   WA-KG-263  Lake Forest Park 0.8 SSE                NaN        199   \n",
       "2     WA-KG-4              Renton 3.2 E                NaN         21   \n",
       "\n",
       "    lat_prcp   long_prcp md_overlap  prcp_mm_22  snow_mm_22  adj_reports  \\\n",
       "0  47.763558 -122.293917        NaN      1111.2         0.0          365   \n",
       "1  47.751720 -122.279500        NaN      1032.0         0.0          199   \n",
       "2  47.484508 -122.127169        NaN       149.1         0.0           21   \n",
       "\n",
       "  nearest_complete    station_name_nearest  norm_prcp_daily_avg  \\\n",
       "0          WA-KG-3  Lake Forest Park 0.4 W             3.044384   \n",
       "1          WA-KG-3  Lake Forest Park 0.4 W             3.044384   \n",
       "2        WA-KG-253           Renton 2.7 NE             3.341758   \n",
       "\n",
       "   norm_snow_daily_avg  \n",
       "0             0.000000  \n",
       "1             0.000000  \n",
       "2             0.549451  "
      ]
     },
     "execution_count": 479,
     "metadata": {},
     "output_type": "execute_result"
    }
   ],
   "source": [
    "#merge in our new \"complete\" daily averages that we will then use to fill in the gaps an drop the duplicative id column\n",
    "prcp_22 = pd.merge(prcp_22, prcp_subset[['station_id','station_name','norm_prcp_daily_avg','norm_snow_daily_avg']], left_on='nearest_complete', right_on='station_id', how='inner', suffixes=('','_nearest')).drop(columns=['station_id_nearest'])\n",
    "\n",
    "prcp_22.head(3)\n"
   ]
  },
  {
   "attachments": {},
   "cell_type": "markdown",
   "metadata": {},
   "source": [
    "##### 3.0.5.5 Calculate New Totals\n",
    "\n",
    "Now that we have averages from the nearest 'complete' station in the same record as each station, we can calculate new totals."
   ]
  },
  {
   "cell_type": "code",
   "execution_count": 480,
   "metadata": {},
   "outputs": [],
   "source": [
    "#fill in missing days with daily avg prcp from our nearest \"complete\" station if the reports are less than 300\n",
    "prcp_22['norm_prcp_mm_total'] = np.where((prcp_22['adj_reports'] < 320), prcp_22['prcp_mm_22'] + ((365-prcp_22['adj_reports'])*prcp_22['norm_prcp_daily_avg']), prcp_22['prcp_mm_22'])\n",
    "\n",
    "#fill in missing days with daily avg prcp from our nearest \"complete\" station if the reports are less than 300\n",
    "#but since snow can be very elevation base, let's only imput values if the original records include snow as well. To do this I'll use np.where to make it coniditonal.\n",
    "prcp_22['norm_snow_mm_total'] = np.where((prcp_22['snow_mm_22'] > 0) & (prcp_22['adj_reports'] < 320), prcp_22['snow_mm_22'] + ((365-prcp_22['adj_reports'])*prcp_22['norm_snow_daily_avg']), prcp_22['snow_mm_22'])"
   ]
  },
  {
   "cell_type": "code",
   "execution_count": 481,
   "metadata": {},
   "outputs": [
    {
     "data": {
      "text/html": [
       "<div>\n",
       "<style scoped>\n",
       "    .dataframe tbody tr th:only-of-type {\n",
       "        vertical-align: middle;\n",
       "    }\n",
       "\n",
       "    .dataframe tbody tr th {\n",
       "        vertical-align: top;\n",
       "    }\n",
       "\n",
       "    .dataframe thead th {\n",
       "        text-align: right;\n",
       "    }\n",
       "</style>\n",
       "<table border=\"1\" class=\"dataframe\">\n",
       "  <thead>\n",
       "    <tr style=\"text-align: right;\">\n",
       "      <th></th>\n",
       "      <th>station_id</th>\n",
       "      <th>station_name</th>\n",
       "      <th>multi_day_prcp_mm</th>\n",
       "      <th>reports_#</th>\n",
       "      <th>lat_prcp</th>\n",
       "      <th>long_prcp</th>\n",
       "      <th>md_overlap</th>\n",
       "      <th>prcp_mm_22</th>\n",
       "      <th>snow_mm_22</th>\n",
       "      <th>adj_reports</th>\n",
       "      <th>nearest_complete</th>\n",
       "      <th>station_name_nearest</th>\n",
       "      <th>norm_prcp_daily_avg</th>\n",
       "      <th>norm_snow_daily_avg</th>\n",
       "      <th>norm_prcp_mm_total</th>\n",
       "      <th>norm_snow_mm_total</th>\n",
       "    </tr>\n",
       "  </thead>\n",
       "  <tbody>\n",
       "    <tr>\n",
       "      <th>14</th>\n",
       "      <td>WA-KG-226</td>\n",
       "      <td>Redmond 1.7 N</td>\n",
       "      <td>55.1</td>\n",
       "      <td>348</td>\n",
       "      <td>47.697944</td>\n",
       "      <td>-122.108127</td>\n",
       "      <td>NaN</td>\n",
       "      <td>1025.9</td>\n",
       "      <td>135.0</td>\n",
       "      <td>365</td>\n",
       "      <td>WA-KG-226</td>\n",
       "      <td>Redmond 1.7 N</td>\n",
       "      <td>2.810685</td>\n",
       "      <td>0.369863</td>\n",
       "      <td>1025.900000</td>\n",
       "      <td>135.0</td>\n",
       "    </tr>\n",
       "    <tr>\n",
       "      <th>4</th>\n",
       "      <td>WA-KG-253</td>\n",
       "      <td>Renton 2.7 NE</td>\n",
       "      <td>NaN</td>\n",
       "      <td>364</td>\n",
       "      <td>47.513200</td>\n",
       "      <td>-122.163100</td>\n",
       "      <td>NaN</td>\n",
       "      <td>1216.4</td>\n",
       "      <td>200.0</td>\n",
       "      <td>364</td>\n",
       "      <td>WA-KG-253</td>\n",
       "      <td>Renton 2.7 NE</td>\n",
       "      <td>3.341758</td>\n",
       "      <td>0.549451</td>\n",
       "      <td>1216.400000</td>\n",
       "      <td>200.0</td>\n",
       "    </tr>\n",
       "    <tr>\n",
       "      <th>54</th>\n",
       "      <td>WA-KG-240</td>\n",
       "      <td>Sammamish 3.0 ESE</td>\n",
       "      <td>83.6</td>\n",
       "      <td>349</td>\n",
       "      <td>47.599420</td>\n",
       "      <td>-121.975690</td>\n",
       "      <td>NaN</td>\n",
       "      <td>1251.2</td>\n",
       "      <td>89.0</td>\n",
       "      <td>365</td>\n",
       "      <td>WA-KG-240</td>\n",
       "      <td>Sammamish 3.0 ESE</td>\n",
       "      <td>3.427945</td>\n",
       "      <td>0.243836</td>\n",
       "      <td>1251.200000</td>\n",
       "      <td>89.0</td>\n",
       "    </tr>\n",
       "    <tr>\n",
       "      <th>51</th>\n",
       "      <td>WA-KG-105</td>\n",
       "      <td>Vashon 4.9 SE</td>\n",
       "      <td>101.6</td>\n",
       "      <td>86</td>\n",
       "      <td>47.394400</td>\n",
       "      <td>-122.392500</td>\n",
       "      <td>NaN</td>\n",
       "      <td>474.7</td>\n",
       "      <td>0.0</td>\n",
       "      <td>104</td>\n",
       "      <td>WA-KG-275</td>\n",
       "      <td>Des Moines 2.4 SSW</td>\n",
       "      <td>2.914783</td>\n",
       "      <td>0.000000</td>\n",
       "      <td>1235.458261</td>\n",
       "      <td>0.0</td>\n",
       "    </tr>\n",
       "    <tr>\n",
       "      <th>2</th>\n",
       "      <td>WA-KG-4</td>\n",
       "      <td>Renton 3.2 E</td>\n",
       "      <td>NaN</td>\n",
       "      <td>21</td>\n",
       "      <td>47.484508</td>\n",
       "      <td>-122.127169</td>\n",
       "      <td>NaN</td>\n",
       "      <td>149.1</td>\n",
       "      <td>0.0</td>\n",
       "      <td>21</td>\n",
       "      <td>WA-KG-253</td>\n",
       "      <td>Renton 2.7 NE</td>\n",
       "      <td>3.341758</td>\n",
       "      <td>0.549451</td>\n",
       "      <td>1298.664835</td>\n",
       "      <td>0.0</td>\n",
       "    </tr>\n",
       "    <tr>\n",
       "      <th>52</th>\n",
       "      <td>WA-KG-275</td>\n",
       "      <td>Des Moines 2.4 SSW</td>\n",
       "      <td>NaN</td>\n",
       "      <td>345</td>\n",
       "      <td>47.362500</td>\n",
       "      <td>-122.322770</td>\n",
       "      <td>NaN</td>\n",
       "      <td>1005.6</td>\n",
       "      <td>0.0</td>\n",
       "      <td>345</td>\n",
       "      <td>WA-KG-275</td>\n",
       "      <td>Des Moines 2.4 SSW</td>\n",
       "      <td>2.914783</td>\n",
       "      <td>0.000000</td>\n",
       "      <td>1005.600000</td>\n",
       "      <td>0.0</td>\n",
       "    </tr>\n",
       "    <tr>\n",
       "      <th>6</th>\n",
       "      <td>WA-KG-5</td>\n",
       "      <td>Mercer Island 1.5 NW</td>\n",
       "      <td>NaN</td>\n",
       "      <td>365</td>\n",
       "      <td>47.585900</td>\n",
       "      <td>-122.250900</td>\n",
       "      <td>NaN</td>\n",
       "      <td>1043.4</td>\n",
       "      <td>84.0</td>\n",
       "      <td>365</td>\n",
       "      <td>WA-KG-5</td>\n",
       "      <td>Mercer Island 1.5 NW</td>\n",
       "      <td>2.858630</td>\n",
       "      <td>0.230137</td>\n",
       "      <td>1043.400000</td>\n",
       "      <td>84.0</td>\n",
       "    </tr>\n",
       "    <tr>\n",
       "      <th>23</th>\n",
       "      <td>WA-KG-270</td>\n",
       "      <td>Bothell 0.7 SSW</td>\n",
       "      <td>NaN</td>\n",
       "      <td>72</td>\n",
       "      <td>47.749712</td>\n",
       "      <td>-122.201353</td>\n",
       "      <td>NaN</td>\n",
       "      <td>298.4</td>\n",
       "      <td>0.0</td>\n",
       "      <td>72</td>\n",
       "      <td>WA-KG-51</td>\n",
       "      <td>Kenmore 0.9 WNW</td>\n",
       "      <td>3.166849</td>\n",
       "      <td>0.000000</td>\n",
       "      <td>1226.286849</td>\n",
       "      <td>0.0</td>\n",
       "    </tr>\n",
       "    <tr>\n",
       "      <th>3</th>\n",
       "      <td>WA-KG-42</td>\n",
       "      <td>Newport Hills 1.9 SSE</td>\n",
       "      <td>65.8</td>\n",
       "      <td>98</td>\n",
       "      <td>47.521080</td>\n",
       "      <td>-122.161270</td>\n",
       "      <td>* Includes multi-day report starting on 12/25...</td>\n",
       "      <td>507.0</td>\n",
       "      <td>0.0</td>\n",
       "      <td>111</td>\n",
       "      <td>WA-KG-253</td>\n",
       "      <td>Renton 2.7 NE</td>\n",
       "      <td>3.341758</td>\n",
       "      <td>0.549451</td>\n",
       "      <td>1355.806593</td>\n",
       "      <td>0.0</td>\n",
       "    </tr>\n",
       "    <tr>\n",
       "      <th>47</th>\n",
       "      <td>WA-KG-301</td>\n",
       "      <td>Seattle 4.8 NNW</td>\n",
       "      <td>96.8</td>\n",
       "      <td>52</td>\n",
       "      <td>47.688467</td>\n",
       "      <td>-122.382492</td>\n",
       "      <td>NaN</td>\n",
       "      <td>405.2</td>\n",
       "      <td>0.0</td>\n",
       "      <td>64</td>\n",
       "      <td>WA-KG-239</td>\n",
       "      <td>Seattle 3.9 N</td>\n",
       "      <td>2.887097</td>\n",
       "      <td>0.000000</td>\n",
       "      <td>1274.216129</td>\n",
       "      <td>0.0</td>\n",
       "    </tr>\n",
       "  </tbody>\n",
       "</table>\n",
       "</div>"
      ],
      "text/plain": [
       "    station_id           station_name  multi_day_prcp_mm  reports_#  \\\n",
       "14   WA-KG-226          Redmond 1.7 N               55.1        348   \n",
       "4    WA-KG-253          Renton 2.7 NE                NaN        364   \n",
       "54   WA-KG-240      Sammamish 3.0 ESE               83.6        349   \n",
       "51   WA-KG-105          Vashon 4.9 SE              101.6         86   \n",
       "2      WA-KG-4           Renton 3.2 E                NaN         21   \n",
       "52   WA-KG-275     Des Moines 2.4 SSW                NaN        345   \n",
       "6      WA-KG-5   Mercer Island 1.5 NW                NaN        365   \n",
       "23   WA-KG-270        Bothell 0.7 SSW                NaN         72   \n",
       "3     WA-KG-42  Newport Hills 1.9 SSE               65.8         98   \n",
       "47   WA-KG-301        Seattle 4.8 NNW               96.8         52   \n",
       "\n",
       "     lat_prcp   long_prcp                                         md_overlap  \\\n",
       "14  47.697944 -122.108127                                                NaN   \n",
       "4   47.513200 -122.163100                                                NaN   \n",
       "54  47.599420 -121.975690                                                NaN   \n",
       "51  47.394400 -122.392500                                                NaN   \n",
       "2   47.484508 -122.127169                                                NaN   \n",
       "52  47.362500 -122.322770                                                NaN   \n",
       "6   47.585900 -122.250900                                                NaN   \n",
       "23  47.749712 -122.201353                                                NaN   \n",
       "3   47.521080 -122.161270   * Includes multi-day report starting on 12/25...   \n",
       "47  47.688467 -122.382492                                                NaN   \n",
       "\n",
       "    prcp_mm_22  snow_mm_22  adj_reports nearest_complete  \\\n",
       "14      1025.9       135.0          365        WA-KG-226   \n",
       "4       1216.4       200.0          364        WA-KG-253   \n",
       "54      1251.2        89.0          365        WA-KG-240   \n",
       "51       474.7         0.0          104        WA-KG-275   \n",
       "2        149.1         0.0           21        WA-KG-253   \n",
       "52      1005.6         0.0          345        WA-KG-275   \n",
       "6       1043.4        84.0          365          WA-KG-5   \n",
       "23       298.4         0.0           72         WA-KG-51   \n",
       "3        507.0         0.0          111        WA-KG-253   \n",
       "47       405.2         0.0           64        WA-KG-239   \n",
       "\n",
       "    station_name_nearest  norm_prcp_daily_avg  norm_snow_daily_avg  \\\n",
       "14         Redmond 1.7 N             2.810685             0.369863   \n",
       "4          Renton 2.7 NE             3.341758             0.549451   \n",
       "54     Sammamish 3.0 ESE             3.427945             0.243836   \n",
       "51    Des Moines 2.4 SSW             2.914783             0.000000   \n",
       "2          Renton 2.7 NE             3.341758             0.549451   \n",
       "52    Des Moines 2.4 SSW             2.914783             0.000000   \n",
       "6   Mercer Island 1.5 NW             2.858630             0.230137   \n",
       "23       Kenmore 0.9 WNW             3.166849             0.000000   \n",
       "3          Renton 2.7 NE             3.341758             0.549451   \n",
       "47         Seattle 3.9 N             2.887097             0.000000   \n",
       "\n",
       "    norm_prcp_mm_total  norm_snow_mm_total  \n",
       "14         1025.900000               135.0  \n",
       "4          1216.400000               200.0  \n",
       "54         1251.200000                89.0  \n",
       "51         1235.458261                 0.0  \n",
       "2          1298.664835                 0.0  \n",
       "52         1005.600000                 0.0  \n",
       "6          1043.400000                84.0  \n",
       "23         1226.286849                 0.0  \n",
       "3          1355.806593                 0.0  \n",
       "47         1274.216129                 0.0  "
      ]
     },
     "execution_count": 481,
     "metadata": {},
     "output_type": "execute_result"
    }
   ],
   "source": [
    "prcp_22.sample(10, replace=False)"
   ]
  },
  {
   "cell_type": "code",
   "execution_count": 482,
   "metadata": {},
   "outputs": [
    {
     "data": {
      "text/html": [
       "<div>\n",
       "<style scoped>\n",
       "    .dataframe tbody tr th:only-of-type {\n",
       "        vertical-align: middle;\n",
       "    }\n",
       "\n",
       "    .dataframe tbody tr th {\n",
       "        vertical-align: top;\n",
       "    }\n",
       "\n",
       "    .dataframe thead th {\n",
       "        text-align: right;\n",
       "    }\n",
       "</style>\n",
       "<table border=\"1\" class=\"dataframe\">\n",
       "  <thead>\n",
       "    <tr style=\"text-align: right;\">\n",
       "      <th></th>\n",
       "      <th>norm_prcp_mm_total</th>\n",
       "      <th>norm_snow_mm_total</th>\n",
       "    </tr>\n",
       "  </thead>\n",
       "  <tbody>\n",
       "    <tr>\n",
       "      <th>count</th>\n",
       "      <td>73.000000</td>\n",
       "      <td>73.000000</td>\n",
       "    </tr>\n",
       "    <tr>\n",
       "      <th>mean</th>\n",
       "      <td>1225.150577</td>\n",
       "      <td>76.403379</td>\n",
       "    </tr>\n",
       "    <tr>\n",
       "      <th>std</th>\n",
       "      <td>219.621114</td>\n",
       "      <td>222.568051</td>\n",
       "    </tr>\n",
       "    <tr>\n",
       "      <th>min</th>\n",
       "      <td>849.190323</td>\n",
       "      <td>0.000000</td>\n",
       "    </tr>\n",
       "    <tr>\n",
       "      <th>25%</th>\n",
       "      <td>1088.900000</td>\n",
       "      <td>0.000000</td>\n",
       "    </tr>\n",
       "    <tr>\n",
       "      <th>50%</th>\n",
       "      <td>1196.480274</td>\n",
       "      <td>0.000000</td>\n",
       "    </tr>\n",
       "    <tr>\n",
       "      <th>75%</th>\n",
       "      <td>1298.664835</td>\n",
       "      <td>82.375342</td>\n",
       "    </tr>\n",
       "    <tr>\n",
       "      <th>max</th>\n",
       "      <td>2216.200000</td>\n",
       "      <td>1676.000000</td>\n",
       "    </tr>\n",
       "  </tbody>\n",
       "</table>\n",
       "</div>"
      ],
      "text/plain": [
       "       norm_prcp_mm_total  norm_snow_mm_total\n",
       "count           73.000000           73.000000\n",
       "mean          1225.150577           76.403379\n",
       "std            219.621114          222.568051\n",
       "min            849.190323            0.000000\n",
       "25%           1088.900000            0.000000\n",
       "50%           1196.480274            0.000000\n",
       "75%           1298.664835           82.375342\n",
       "max           2216.200000         1676.000000"
      ]
     },
     "execution_count": 482,
     "metadata": {},
     "output_type": "execute_result"
    }
   ],
   "source": [
    "#recheck numerical values\n",
    "prcp_22[['norm_prcp_mm_total','norm_snow_mm_total']].describe()"
   ]
  },
  {
   "cell_type": "code",
   "execution_count": 483,
   "metadata": {},
   "outputs": [
    {
     "data": {
      "image/png": "[encoded data removed]",
      "text/plain": [
       "<Figure size 640x480 with 2 Axes>"
      ]
     },
     "metadata": {},
     "output_type": "display_data"
    }
   ],
   "source": [
    "fig, ax = plt.subplots(1,2, squeeze=False)\n",
    "\n",
    "ax[0,0].hist(prcp_22['norm_prcp_mm_total'])\n",
    "ax[0,1].hist(prcp_22['norm_prcp_mm_total'])\n",
    "ax[0,0].set_xlabel('prcp_mm')\n",
    "ax[0,1].set_xlabel('snow_mm')\n",
    "\n",
    "plt.show()"
   ]
  },
  {
   "attachments": {},
   "cell_type": "markdown",
   "metadata": {},
   "source": [
    "That looks a bit better but there are still some extreme values in each. I'll look specifically at the lowest and highest values."
   ]
  },
  {
   "cell_type": "code",
   "execution_count": 484,
   "metadata": {},
   "outputs": [
    {
     "data": {
      "text/html": [
       "<div>\n",
       "<style scoped>\n",
       "    .dataframe tbody tr th:only-of-type {\n",
       "        vertical-align: middle;\n",
       "    }\n",
       "\n",
       "    .dataframe tbody tr th {\n",
       "        vertical-align: top;\n",
       "    }\n",
       "\n",
       "    .dataframe thead th {\n",
       "        text-align: right;\n",
       "    }\n",
       "</style>\n",
       "<table border=\"1\" class=\"dataframe\">\n",
       "  <thead>\n",
       "    <tr style=\"text-align: right;\">\n",
       "      <th></th>\n",
       "      <th>station_id</th>\n",
       "      <th>station_name</th>\n",
       "      <th>reports_#</th>\n",
       "      <th>adj_reports</th>\n",
       "      <th>multi_day_prcp_mm</th>\n",
       "      <th>prcp_mm_22</th>\n",
       "      <th>snow_mm_22</th>\n",
       "      <th>norm_prcp_daily_avg</th>\n",
       "      <th>norm_snow_daily_avg</th>\n",
       "      <th>norm_prcp_mm_total</th>\n",
       "      <th>norm_snow_mm_total</th>\n",
       "    </tr>\n",
       "  </thead>\n",
       "  <tbody>\n",
       "    <tr>\n",
       "      <th>10</th>\n",
       "      <td>WA-KG-143</td>\n",
       "      <td>North Bend 5.4 ESE</td>\n",
       "      <td>364</td>\n",
       "      <td>364</td>\n",
       "      <td>NaN</td>\n",
       "      <td>2216.2</td>\n",
       "      <td>1676.0</td>\n",
       "      <td>6.088462</td>\n",
       "      <td>4.604396</td>\n",
       "      <td>2216.200000</td>\n",
       "      <td>1676.000000</td>\n",
       "    </tr>\n",
       "    <tr>\n",
       "      <th>1</th>\n",
       "      <td>WA-KG-263</td>\n",
       "      <td>Lake Forest Park 0.8 SSE</td>\n",
       "      <td>199</td>\n",
       "      <td>199</td>\n",
       "      <td>NaN</td>\n",
       "      <td>1032.0</td>\n",
       "      <td>0.0</td>\n",
       "      <td>3.044384</td>\n",
       "      <td>0.000000</td>\n",
       "      <td>1537.367671</td>\n",
       "      <td>0.000000</td>\n",
       "    </tr>\n",
       "    <tr>\n",
       "      <th>67</th>\n",
       "      <td>WA-KG-268</td>\n",
       "      <td>Vashon 0.4 W</td>\n",
       "      <td>210</td>\n",
       "      <td>210</td>\n",
       "      <td>NaN</td>\n",
       "      <td>1139.7</td>\n",
       "      <td>0.0</td>\n",
       "      <td>3.993617</td>\n",
       "      <td>0.060790</td>\n",
       "      <td>1758.710638</td>\n",
       "      <td>0.000000</td>\n",
       "    </tr>\n",
       "    <tr>\n",
       "      <th>13</th>\n",
       "      <td>WA-KG-28</td>\n",
       "      <td>Redmond 1.0 N</td>\n",
       "      <td>107</td>\n",
       "      <td>112</td>\n",
       "      <td>41.9</td>\n",
       "      <td>922.5</td>\n",
       "      <td>51.0</td>\n",
       "      <td>2.810685</td>\n",
       "      <td>0.369863</td>\n",
       "      <td>1633.603288</td>\n",
       "      <td>144.575342</td>\n",
       "    </tr>\n",
       "    <tr>\n",
       "      <th>8</th>\n",
       "      <td>WA-KG-281</td>\n",
       "      <td>Mercer Island 1.3 SSE</td>\n",
       "      <td>127</td>\n",
       "      <td>127</td>\n",
       "      <td>NaN</td>\n",
       "      <td>911.9</td>\n",
       "      <td>102.0</td>\n",
       "      <td>2.858630</td>\n",
       "      <td>0.230137</td>\n",
       "      <td>1592.253973</td>\n",
       "      <td>156.772603</td>\n",
       "    </tr>\n",
       "    <tr>\n",
       "      <th>9</th>\n",
       "      <td>WA-KG-7</td>\n",
       "      <td>North Bend 2.8 SE</td>\n",
       "      <td>312</td>\n",
       "      <td>312</td>\n",
       "      <td>NaN</td>\n",
       "      <td>1486.9</td>\n",
       "      <td>635.0</td>\n",
       "      <td>6.088462</td>\n",
       "      <td>4.604396</td>\n",
       "      <td>1809.588462</td>\n",
       "      <td>879.032967</td>\n",
       "    </tr>\n",
       "  </tbody>\n",
       "</table>\n",
       "</div>"
      ],
      "text/plain": [
       "    station_id              station_name  reports_#  adj_reports  \\\n",
       "10   WA-KG-143        North Bend 5.4 ESE        364          364   \n",
       "1    WA-KG-263  Lake Forest Park 0.8 SSE        199          199   \n",
       "67   WA-KG-268              Vashon 0.4 W        210          210   \n",
       "13    WA-KG-28             Redmond 1.0 N        107          112   \n",
       "8    WA-KG-281     Mercer Island 1.3 SSE        127          127   \n",
       "9      WA-KG-7         North Bend 2.8 SE        312          312   \n",
       "\n",
       "    multi_day_prcp_mm  prcp_mm_22  snow_mm_22  norm_prcp_daily_avg  \\\n",
       "10                NaN      2216.2      1676.0             6.088462   \n",
       "1                 NaN      1032.0         0.0             3.044384   \n",
       "67                NaN      1139.7         0.0             3.993617   \n",
       "13               41.9       922.5        51.0             2.810685   \n",
       "8                 NaN       911.9       102.0             2.858630   \n",
       "9                 NaN      1486.9       635.0             6.088462   \n",
       "\n",
       "    norm_snow_daily_avg  norm_prcp_mm_total  norm_snow_mm_total  \n",
       "10             4.604396         2216.200000         1676.000000  \n",
       "1              0.000000         1537.367671            0.000000  \n",
       "67             0.060790         1758.710638            0.000000  \n",
       "13             0.369863         1633.603288          144.575342  \n",
       "8              0.230137         1592.253973          156.772603  \n",
       "9              4.604396         1809.588462          879.032967  "
      ]
     },
     "execution_count": 484,
     "metadata": {},
     "output_type": "execute_result"
    }
   ],
   "source": [
    "#Create another unique df with my fields in question\n",
    "unique_updated = prcp_22[['station_id','station_name','reports_#','adj_reports','multi_day_prcp_mm','prcp_mm_22','snow_mm_22','norm_prcp_daily_avg','norm_snow_daily_avg','norm_prcp_mm_total','norm_snow_mm_total']].drop_duplicates()\n",
    "\n",
    "#Now let's recheck values, this time above 1,500\n",
    "unique_updated[(unique_updated['norm_prcp_mm_total'] > 1500.0)].sort_values('station_id')"
   ]
  },
  {
   "cell_type": "code",
   "execution_count": 485,
   "metadata": {},
   "outputs": [
    {
     "data": {
      "text/html": [
       "<div>\n",
       "<style scoped>\n",
       "    .dataframe tbody tr th:only-of-type {\n",
       "        vertical-align: middle;\n",
       "    }\n",
       "\n",
       "    .dataframe tbody tr th {\n",
       "        vertical-align: top;\n",
       "    }\n",
       "\n",
       "    .dataframe thead th {\n",
       "        text-align: right;\n",
       "    }\n",
       "</style>\n",
       "<table border=\"1\" class=\"dataframe\">\n",
       "  <thead>\n",
       "    <tr style=\"text-align: right;\">\n",
       "      <th></th>\n",
       "      <th>station_id</th>\n",
       "      <th>station_name</th>\n",
       "      <th>reports_#</th>\n",
       "      <th>adj_reports</th>\n",
       "      <th>multi_day_prcp_mm</th>\n",
       "      <th>prcp_mm_22</th>\n",
       "      <th>snow_mm_22</th>\n",
       "      <th>norm_prcp_daily_avg</th>\n",
       "      <th>norm_snow_daily_avg</th>\n",
       "      <th>norm_prcp_mm_total</th>\n",
       "      <th>norm_snow_mm_total</th>\n",
       "    </tr>\n",
       "  </thead>\n",
       "  <tbody>\n",
       "    <tr>\n",
       "      <th>50</th>\n",
       "      <td>WA-KG-196</td>\n",
       "      <td>Des Moines 2.9 S</td>\n",
       "      <td>255</td>\n",
       "      <td>255</td>\n",
       "      <td>NaN</td>\n",
       "      <td>646.7</td>\n",
       "      <td>0.0</td>\n",
       "      <td>3.110685</td>\n",
       "      <td>0.180822</td>\n",
       "      <td>988.875342</td>\n",
       "      <td>0.000000</td>\n",
       "    </tr>\n",
       "    <tr>\n",
       "      <th>57</th>\n",
       "      <td>WA-KG-200</td>\n",
       "      <td>Seattle 5.8 SSE</td>\n",
       "      <td>290</td>\n",
       "      <td>290</td>\n",
       "      <td>NaN</td>\n",
       "      <td>669.3</td>\n",
       "      <td>8.0</td>\n",
       "      <td>3.118356</td>\n",
       "      <td>0.104110</td>\n",
       "      <td>903.176712</td>\n",
       "      <td>15.808219</td>\n",
       "    </tr>\n",
       "    <tr>\n",
       "      <th>60</th>\n",
       "      <td>WA-KG-204</td>\n",
       "      <td>Seattle 0.9 SSE</td>\n",
       "      <td>314</td>\n",
       "      <td>359</td>\n",
       "      <td>134.9</td>\n",
       "      <td>939.8</td>\n",
       "      <td>0.0</td>\n",
       "      <td>2.617827</td>\n",
       "      <td>0.000000</td>\n",
       "      <td>939.800000</td>\n",
       "      <td>0.000000</td>\n",
       "    </tr>\n",
       "    <tr>\n",
       "      <th>45</th>\n",
       "      <td>WA-KG-239</td>\n",
       "      <td>Seattle 3.9 N</td>\n",
       "      <td>317</td>\n",
       "      <td>341</td>\n",
       "      <td>75.9</td>\n",
       "      <td>984.5</td>\n",
       "      <td>0.0</td>\n",
       "      <td>2.887097</td>\n",
       "      <td>0.000000</td>\n",
       "      <td>984.500000</td>\n",
       "      <td>0.000000</td>\n",
       "    </tr>\n",
       "    <tr>\n",
       "      <th>46</th>\n",
       "      <td>WA-KG-294</td>\n",
       "      <td>Seattle 4.0 NNW</td>\n",
       "      <td>215</td>\n",
       "      <td>217</td>\n",
       "      <td>3.8</td>\n",
       "      <td>421.9</td>\n",
       "      <td>0.0</td>\n",
       "      <td>2.887097</td>\n",
       "      <td>0.000000</td>\n",
       "      <td>849.190323</td>\n",
       "      <td>0.000000</td>\n",
       "    </tr>\n",
       "    <tr>\n",
       "      <th>15</th>\n",
       "      <td>WA-KG-33</td>\n",
       "      <td>Sheridan Beach 3.7 S</td>\n",
       "      <td>353</td>\n",
       "      <td>365</td>\n",
       "      <td>37.3</td>\n",
       "      <td>995.1</td>\n",
       "      <td>104.0</td>\n",
       "      <td>2.726301</td>\n",
       "      <td>0.284932</td>\n",
       "      <td>995.100000</td>\n",
       "      <td>104.000000</td>\n",
       "    </tr>\n",
       "  </tbody>\n",
       "</table>\n",
       "</div>"
      ],
      "text/plain": [
       "    station_id          station_name  reports_#  adj_reports  \\\n",
       "50   WA-KG-196      Des Moines 2.9 S        255          255   \n",
       "57   WA-KG-200       Seattle 5.8 SSE        290          290   \n",
       "60   WA-KG-204       Seattle 0.9 SSE        314          359   \n",
       "45   WA-KG-239         Seattle 3.9 N        317          341   \n",
       "46   WA-KG-294       Seattle 4.0 NNW        215          217   \n",
       "15    WA-KG-33  Sheridan Beach 3.7 S        353          365   \n",
       "\n",
       "    multi_day_prcp_mm  prcp_mm_22  snow_mm_22  norm_prcp_daily_avg  \\\n",
       "50                NaN       646.7         0.0             3.110685   \n",
       "57                NaN       669.3         8.0             3.118356   \n",
       "60              134.9       939.8         0.0             2.617827   \n",
       "45               75.9       984.5         0.0             2.887097   \n",
       "46                3.8       421.9         0.0             2.887097   \n",
       "15               37.3       995.1       104.0             2.726301   \n",
       "\n",
       "    norm_snow_daily_avg  norm_prcp_mm_total  norm_snow_mm_total  \n",
       "50             0.180822          988.875342            0.000000  \n",
       "57             0.104110          903.176712           15.808219  \n",
       "60             0.000000          939.800000            0.000000  \n",
       "45             0.000000          984.500000            0.000000  \n",
       "46             0.000000          849.190323            0.000000  \n",
       "15             0.284932          995.100000          104.000000  "
      ]
     },
     "execution_count": 485,
     "metadata": {},
     "output_type": "execute_result"
    }
   ],
   "source": [
    "#how about abnormally low values below the min of our more complete values?\n",
    "unique_updated[(unique_updated['norm_prcp_mm_total'] < 1000)].sort_values('station_id')"
   ]
  },
  {
   "attachments": {},
   "cell_type": "markdown",
   "metadata": {},
   "source": [
    "There are some low values, but my main concern is on that right tail. Looking at the larger records, I don't think any of these will fit into my future analysis. I'm looking at Seattle Proper, but I have climate data from all of King County Washington. So I won't spend anymore time on fixing these largeer outliers and move onto focusing on Seattle specific data.\n",
    "\n",
    "##### 3.0.5.6 Drop Columns No Longer Needed\n",
    "\n",
    "I no longer need the columns that helped me get to my final normalized amounts. So I'll drop those now."
   ]
  },
  {
   "cell_type": "code",
   "execution_count": 486,
   "metadata": {},
   "outputs": [
    {
     "data": {
      "text/plain": [
       "Index(['station_id', 'station_name', 'multi_day_prcp_mm', 'reports_#',\n",
       "       'lat_prcp', 'long_prcp', 'md_overlap', 'prcp_mm_22', 'snow_mm_22',\n",
       "       'adj_reports', 'nearest_complete', 'station_name_nearest',\n",
       "       'norm_prcp_daily_avg', 'norm_snow_daily_avg', 'norm_prcp_mm_total',\n",
       "       'norm_snow_mm_total'],\n",
       "      dtype='object')"
      ]
     },
     "execution_count": 486,
     "metadata": {},
     "output_type": "execute_result"
    }
   ],
   "source": [
    "prcp_22.columns"
   ]
  },
  {
   "cell_type": "code",
   "execution_count": 487,
   "metadata": {},
   "outputs": [
    {
     "data": {
      "text/html": [
       "<div>\n",
       "<style scoped>\n",
       "    .dataframe tbody tr th:only-of-type {\n",
       "        vertical-align: middle;\n",
       "    }\n",
       "\n",
       "    .dataframe tbody tr th {\n",
       "        vertical-align: top;\n",
       "    }\n",
       "\n",
       "    .dataframe thead th {\n",
       "        text-align: right;\n",
       "    }\n",
       "</style>\n",
       "<table border=\"1\" class=\"dataframe\">\n",
       "  <thead>\n",
       "    <tr style=\"text-align: right;\">\n",
       "      <th></th>\n",
       "      <th>station_id</th>\n",
       "      <th>station_name</th>\n",
       "      <th>lat_prcp</th>\n",
       "      <th>long_prcp</th>\n",
       "      <th>adj_reports</th>\n",
       "      <th>norm_prcp_mm_total</th>\n",
       "      <th>norm_snow_mm_total</th>\n",
       "    </tr>\n",
       "  </thead>\n",
       "  <tbody>\n",
       "    <tr>\n",
       "      <th>0</th>\n",
       "      <td>WA-KG-3</td>\n",
       "      <td>Lake Forest Park 0.4 W</td>\n",
       "      <td>47.763558</td>\n",
       "      <td>-122.293917</td>\n",
       "      <td>365</td>\n",
       "      <td>1111.200000</td>\n",
       "      <td>0.0</td>\n",
       "    </tr>\n",
       "    <tr>\n",
       "      <th>1</th>\n",
       "      <td>WA-KG-263</td>\n",
       "      <td>Lake Forest Park 0.8 SSE</td>\n",
       "      <td>47.751720</td>\n",
       "      <td>-122.279500</td>\n",
       "      <td>199</td>\n",
       "      <td>1537.367671</td>\n",
       "      <td>0.0</td>\n",
       "    </tr>\n",
       "    <tr>\n",
       "      <th>2</th>\n",
       "      <td>WA-KG-4</td>\n",
       "      <td>Renton 3.2 E</td>\n",
       "      <td>47.484508</td>\n",
       "      <td>-122.127169</td>\n",
       "      <td>21</td>\n",
       "      <td>1298.664835</td>\n",
       "      <td>0.0</td>\n",
       "    </tr>\n",
       "  </tbody>\n",
       "</table>\n",
       "</div>"
      ],
      "text/plain": [
       "   station_id              station_name   lat_prcp   long_prcp  adj_reports  \\\n",
       "0     WA-KG-3    Lake Forest Park 0.4 W  47.763558 -122.293917          365   \n",
       "1   WA-KG-263  Lake Forest Park 0.8 SSE  47.751720 -122.279500          199   \n",
       "2     WA-KG-4              Renton 3.2 E  47.484508 -122.127169           21   \n",
       "\n",
       "   norm_prcp_mm_total  norm_snow_mm_total  \n",
       "0         1111.200000                 0.0  \n",
       "1         1537.367671                 0.0  \n",
       "2         1298.664835                 0.0  "
      ]
     },
     "execution_count": 487,
     "metadata": {},
     "output_type": "execute_result"
    }
   ],
   "source": [
    "prcp_22.drop(columns=['multi_day_prcp_mm', 'reports_#','md_overlap', 'prcp_mm_22', 'snow_mm_22','nearest_complete', 'station_name_nearest',\n",
    "       'norm_prcp_daily_avg', 'norm_snow_daily_avg'], inplace=True)\n",
    "\n",
    "prcp_22.head(3)"
   ]
  },
  {
   "attachments": {},
   "cell_type": "markdown",
   "metadata": {},
   "source": [
    "#### 3.1 Tie Together The Two Dataframes Using Lat-Lon\n",
    "\n",
    "##### 3.1.1 Rename Fields"
   ]
  },
  {
   "cell_type": "code",
   "execution_count": 488,
   "metadata": {},
   "outputs": [
    {
     "name": "stdout",
     "output_type": "stream",
     "text": [
      "<class 'pandas.core.frame.DataFrame'>\n",
      "RangeIndex: 162080 entries, 0 to 162079\n",
      "Data columns (total 10 columns):\n",
      " #   Column                     Non-Null Count   Dtype  \n",
      "---  ------                     --------------   -----  \n",
      " 0   planted_date               159111 non-null  object \n",
      " 1   most_recent_observation    162075 non-null  object \n",
      " 2   common_name                161408 non-null  object \n",
      " 3   longitude_coordinate       162080 non-null  float64\n",
      " 4   latitude_coordinate        162080 non-null  float64\n",
      " 5   diameter_breast_height_CM  162080 non-null  float64\n",
      " 6   condition                  162080 non-null  object \n",
      " 7   native                     162080 non-null  object \n",
      " 8   age_at_obs                 159106 non-null  float64\n",
      " 9   condition_index            162080 non-null  float64\n",
      "dtypes: float64(5), object(5)\n",
      "memory usage: 12.4+ MB\n"
     ]
    }
   ],
   "source": [
    "#Need a reminder of my fields\n",
    "trees_data.info()"
   ]
  },
  {
   "cell_type": "code",
   "execution_count": 489,
   "metadata": {},
   "outputs": [
    {
     "name": "stdout",
     "output_type": "stream",
     "text": [
      "<class 'pandas.core.frame.DataFrame'>\n",
      "Int64Index: 73 entries, 0 to 72\n",
      "Data columns (total 7 columns):\n",
      " #   Column              Non-Null Count  Dtype  \n",
      "---  ------              --------------  -----  \n",
      " 0   station_id          73 non-null     object \n",
      " 1   station_name        73 non-null     object \n",
      " 2   lat_prcp            73 non-null     float64\n",
      " 3   long_prcp           73 non-null     float64\n",
      " 4   adj_reports         73 non-null     int64  \n",
      " 5   norm_prcp_mm_total  73 non-null     float64\n",
      " 6   norm_snow_mm_total  73 non-null     float64\n",
      "dtypes: float64(4), int64(1), object(2)\n",
      "memory usage: 4.6+ KB\n"
     ]
    }
   ],
   "source": [
    "prcp_22.info()"
   ]
  },
  {
   "cell_type": "code",
   "execution_count": 490,
   "metadata": {},
   "outputs": [],
   "source": [
    "#Rename lat-long field in trees data to signify it is from this datasource. I could do this on a merge later, but I like to keep them seperate.\n",
    "trees_data.rename(columns = {'longitude_coordinate': 'long_trees', 'latitude_coordinate': 'lat_trees'}, inplace=True)"
   ]
  },
  {
   "attachments": {},
   "cell_type": "markdown",
   "metadata": {},
   "source": [
    "##### 3.1.2 Map the Nearest Station to Each Tree Record"
   ]
  },
  {
   "cell_type": "code",
   "execution_count": 491,
   "metadata": {},
   "outputs": [],
   "source": [
    "#Using my defined functions to add a field to my trees_data df which will list the ID for the nearest weather station.\n",
    "trees_data['nearest_station'] = trees_data.apply(\n",
    "    lambda row: flag_nearest(row['lat_trees'], row['long_trees'],prcp_22), axis=1)"
   ]
  },
  {
   "cell_type": "code",
   "execution_count": 492,
   "metadata": {},
   "outputs": [
    {
     "data": {
      "text/plain": [
       " WA-KG-239    16065\n",
       " WA-KG-204    12400\n",
       " WA-KG-280    11640\n",
       " WA-KG-225    11626\n",
       " WA-KG-258    11472\n",
       " WA-KG-287    10225\n",
       " WA-KG-200     9474\n",
       " WA-KG-79      8940\n",
       " WA-KG-266     8921\n",
       " WA-KG-243     8778\n",
       " WA-KG-272     8279\n",
       " WA-KG-294     6749\n",
       " WA-KG-301     6495\n",
       " WA-KG-229     4918\n",
       " WA-KG-238     4825\n",
       " WA-KG-192     4377\n",
       " WA-KG-199     4195\n",
       " WA-KG-72      2565\n",
       " WA-KG-234     2544\n",
       " WA-KG-145     2369\n",
       " WA-KG-33      1830\n",
       " WA-KG-286     1138\n",
       " WA-KG-299      796\n",
       " WA-KG-297      676\n",
       " WA-KG-263      492\n",
       " WA-KG-5        236\n",
       " WA-KG-81        34\n",
       " WA-KG-210       21\n",
       "Name: nearest_station, dtype: int64"
      ]
     },
     "execution_count": 492,
     "metadata": {},
     "output_type": "execute_result"
    }
   ],
   "source": [
    "#explore results\n",
    "trees_data['nearest_station'].value_counts()"
   ]
  },
  {
   "attachments": {},
   "cell_type": "markdown",
   "metadata": {},
   "source": [
    "This looks a lot better than the last data source, which only had 3 'nearest' stations. Let's now merge these in and explore a bit more.\n",
    "##### 3.2.5 Merge Datasets Into a Single Table"
   ]
  },
  {
   "cell_type": "code",
   "execution_count": 493,
   "metadata": {},
   "outputs": [],
   "source": [
    "#inner join on the station_id to create a master df to continue with my EDA.\n",
    "trees_prcp_all = pd.merge(trees_data, prcp_22, left_on='nearest_station', right_on='station_id', how='inner')"
   ]
  },
  {
   "cell_type": "code",
   "execution_count": 495,
   "metadata": {},
   "outputs": [
    {
     "data": {
      "text/plain": [
       "station_id  station_name            \n",
       " WA-KG-239  Seattle 3.9 N               16065\n",
       " WA-KG-204  Seattle 0.9 SSE             12400\n",
       " WA-KG-280  Seattle 4.6 NNE             11640\n",
       " WA-KG-225  Seattle 2.1 ESE             11626\n",
       " WA-KG-258  Seattle 6.4 S               11472\n",
       " WA-KG-287  Seattle 2.5 SE              10225\n",
       " WA-KG-200  Seattle 5.8 SSE              9474\n",
       " WA-KG-79   Seattle 3.0 WNW              8940\n",
       " WA-KG-266  Seattle 2.9 ENE              8921\n",
       " WA-KG-243  Seattle 3.9 SSW              8778\n",
       " WA-KG-272  Seattle 4.9 SE               8279\n",
       " WA-KG-294  Seattle 4.0 NNW              6749\n",
       " WA-KG-301  Seattle 4.8 NNW              6495\n",
       " WA-KG-229  Seattle 5.5 NNE              4918\n",
       " WA-KG-238  Seattle 5.0 NE               4825\n",
       " WA-KG-192  Seattle 5.6 N                4377\n",
       " WA-KG-199  Seattle 4.5 N                4195\n",
       " WA-KG-72   Seattle 4.2 SW               2565\n",
       " WA-KG-234  Matthews Beach 0.4 NW        2544\n",
       " WA-KG-145  Seattle 4.2 N                2369\n",
       " WA-KG-33   Sheridan Beach 3.7 S         1830\n",
       " WA-KG-286  Renton 2.8 N                 1138\n",
       " WA-KG-299  Seattle 4.9 NNE               796\n",
       " WA-KG-297  Seattle 4.9 NNE               676\n",
       " WA-KG-263  Lake Forest Park 0.8 SSE      492\n",
       " WA-KG-5    Mercer Island 1.5 NW          236\n",
       " WA-KG-81   Renton 0.5 SSW                 34\n",
       " WA-KG-210  Burien 2.1 NNW                 21\n",
       "dtype: int64"
      ]
     },
     "execution_count": 495,
     "metadata": {},
     "output_type": "execute_result"
    }
   ],
   "source": [
    "#check which stations came back, we'll use the station id later to split out for our map\n",
    "trees_prcp_all[['station_id','station_name']].value_counts()"
   ]
  },
  {
   "cell_type": "code",
   "execution_count": 508,
   "metadata": {},
   "outputs": [
    {
     "data": {
      "text/plain": [
       "28"
      ]
     },
     "execution_count": 508,
     "metadata": {},
     "output_type": "execute_result"
    }
   ],
   "source": [
    "#Check how manyunique values of nearest station\n",
    "len(trees_prcp_all['nearest_station'].unique())"
   ]
  },
  {
   "attachments": {},
   "cell_type": "markdown",
   "metadata": {},
   "source": [
    "##### 3.2.6 Validate Visually\n",
    "\n",
    "I want to plot both the stations an the trees on the same plot/map to see if these make sense visually."
   ]
  },
  {
   "cell_type": "code",
   "execution_count": 507,
   "metadata": {},
   "outputs": [
    {
     "data": {
      "image/png": "[encoded data removed]",
      "text/plain": [
       "<Figure size 1000x1000 with 1 Axes>"
      ]
     },
     "metadata": {},
     "output_type": "display_data"
    }
   ],
   "source": [
    "#Create a plot, splitting out the different points by color for their different closest stations and plot them on the same plane as the stations.\n",
    "fig, ax = plt.subplots(figsize = (10,10))\n",
    "sns.scatterplot(ax=ax, x='long_trees', y='lat_trees', data=trees_prcp_all, hue='nearest_station', marker='o', s=1, alpha=0.1)\n",
    "sns.scatterplot(ax=ax, x='long_prcp', y='lat_prcp', data=trees_prcp_all, hue='nearest_station', marker='+', s=100)\n",
    "\n",
    "#zoom into rough seattle area by adding some space around the min and max values\n",
    "plt.axis([trees_prcp_all['long_trees'].min()*1.0005, trees_prcp_all['long_trees'].max()*.9995, trees_prcp_all['lat_trees'].min()*0.9995, trees_prcp_all['lat_trees'].max()*1.0005])\n",
    "\n",
    "#create list for legend\n",
    "leg_label = trees_prcp_all['nearest_station'].unique()\n",
    "\n",
    "#set title, change legend font size, and rotate axis labels\n",
    "ax.set_title('Mapped Trees and Nearest Weather Station, Matched by Color')\n",
    "plt.legend(leg_label)\n",
    "plt.setp(ax.get_legend().get_texts(), fontsize='5')\n",
    "plt.xticks(rotation=90)\n",
    "plt.show()"
   ]
  },
  {
   "attachments": {},
   "cell_type": "markdown",
   "metadata": {},
   "source": [
    "**Observations**\n",
    "\\\n",
    "This isn't the prettiest graph, which such a long legend and no actual underlying map, but it does what I needed and shows the mapping function did work to flag the closest weather station to each tree. There are some some tree-station pair groupings, with the smallest being 26 tree records mapping closest to Burien 2.1 NNW station, I will let these play out as I do more EDA.\n",
    "\\\n",
    "\\\n",
    "A next question I have is the location to the nearest station. I see some station '+' markers pretty isolated. They may still be the 'closest' but aren't close enough to be fully valuable. We can add another field with distance to the nearest station before moving on to the rest of our more 'traditional' EDA. This will give our data another variable that could prove useful.\n",
    "\n",
    "##### 3.2.7 Distance Between Points"
   ]
  },
  {
   "cell_type": "code",
   "execution_count": 509,
   "metadata": {},
   "outputs": [],
   "source": [
    "# Use our handy formula created above on our trees_prcp_all df using list comprehension on each row. This could be a lenghty run so let's see how it goes.\n",
    "\n",
    "trees_prcp_all['distance_between'] = [dist_b_points(trees_prcp_all.long_trees[i], trees_prcp_all.lat_trees[i]\n",
    "                                                    , trees_prcp_all.long_prcp[i], trees_prcp_all.lat_prcp[i]) \n",
    "                                                    for i in range(len(trees_prcp_all))]"
   ]
  },
  {
   "cell_type": "code",
   "execution_count": 510,
   "metadata": {},
   "outputs": [
    {
     "data": {
      "text/plain": [
       "count    162080.000000\n",
       "mean          1.517032\n",
       "std           0.977325\n",
       "min           0.004214\n",
       "25%           0.807316\n",
       "50%           1.334919\n",
       "75%           1.988311\n",
       "max           7.514261\n",
       "Name: distance_between, dtype: float64"
      ]
     },
     "execution_count": 510,
     "metadata": {},
     "output_type": "execute_result"
    }
   ],
   "source": [
    "#That actually ran really fast. Let's see how it went.\n",
    "trees_prcp_all['distance_between'].describe()"
   ]
  },
  {
   "attachments": {},
   "cell_type": "markdown",
   "metadata": {},
   "source": [
    "It is a little hard to tell without mapping out a full map, but I know a quarter degree of longitude is around 8.5 miles. Looking at our plot above this appears plausible that the max disstance would be around 7.5km."
   ]
  },
  {
   "cell_type": "code",
   "execution_count": 511,
   "metadata": {},
   "outputs": [
    {
     "data": {
      "text/html": [
       "<div>\n",
       "<style scoped>\n",
       "    .dataframe tbody tr th:only-of-type {\n",
       "        vertical-align: middle;\n",
       "    }\n",
       "\n",
       "    .dataframe tbody tr th {\n",
       "        vertical-align: top;\n",
       "    }\n",
       "\n",
       "    .dataframe thead th {\n",
       "        text-align: right;\n",
       "    }\n",
       "</style>\n",
       "<table border=\"1\" class=\"dataframe\">\n",
       "  <thead>\n",
       "    <tr style=\"text-align: right;\">\n",
       "      <th></th>\n",
       "      <th>planted_date</th>\n",
       "      <th>most_recent_observation</th>\n",
       "      <th>common_name</th>\n",
       "      <th>long_trees</th>\n",
       "      <th>lat_trees</th>\n",
       "      <th>diameter_breast_height_CM</th>\n",
       "      <th>condition</th>\n",
       "      <th>native</th>\n",
       "      <th>age_at_obs</th>\n",
       "      <th>condition_index</th>\n",
       "      <th>nearest_station</th>\n",
       "      <th>station_id</th>\n",
       "      <th>station_name</th>\n",
       "      <th>lat_prcp</th>\n",
       "      <th>long_prcp</th>\n",
       "      <th>adj_reports</th>\n",
       "      <th>norm_prcp_mm_total</th>\n",
       "      <th>norm_snow_mm_total</th>\n",
       "      <th>distance_between</th>\n",
       "    </tr>\n",
       "  </thead>\n",
       "  <tbody>\n",
       "    <tr>\n",
       "      <th>0</th>\n",
       "      <td>1991-07-22</td>\n",
       "      <td>2019-04-27</td>\n",
       "      <td>(european) white birch</td>\n",
       "      <td>-122.282080</td>\n",
       "      <td>47.635207</td>\n",
       "      <td>40.64</td>\n",
       "      <td>excellent</td>\n",
       "      <td>introduced</td>\n",
       "      <td>27.765115</td>\n",
       "      <td>5.0</td>\n",
       "      <td>WA-KG-266</td>\n",
       "      <td>WA-KG-266</td>\n",
       "      <td>Seattle 2.9 ENE</td>\n",
       "      <td>47.630883</td>\n",
       "      <td>-122.290286</td>\n",
       "      <td>237</td>\n",
       "      <td>1071.925479</td>\n",
       "      <td>0.0</td>\n",
       "      <td>0.947927</td>\n",
       "    </tr>\n",
       "    <tr>\n",
       "      <th>1</th>\n",
       "      <td>1991-07-30</td>\n",
       "      <td>2019-04-27</td>\n",
       "      <td>Kwanzan flowering cherry</td>\n",
       "      <td>-122.318952</td>\n",
       "      <td>47.649141</td>\n",
       "      <td>5.08</td>\n",
       "      <td>fair</td>\n",
       "      <td>no_info</td>\n",
       "      <td>27.743212</td>\n",
       "      <td>3.0</td>\n",
       "      <td>WA-KG-266</td>\n",
       "      <td>WA-KG-266</td>\n",
       "      <td>Seattle 2.9 ENE</td>\n",
       "      <td>47.630883</td>\n",
       "      <td>-122.290286</td>\n",
       "      <td>237</td>\n",
       "      <td>1071.925479</td>\n",
       "      <td>0.0</td>\n",
       "      <td>3.367105</td>\n",
       "    </tr>\n",
       "    <tr>\n",
       "      <th>2</th>\n",
       "      <td>1991-07-25</td>\n",
       "      <td>2019-04-27</td>\n",
       "      <td>Japanese snowbell tree</td>\n",
       "      <td>-122.299891</td>\n",
       "      <td>47.637863</td>\n",
       "      <td>2.54</td>\n",
       "      <td>excellent</td>\n",
       "      <td>introduced</td>\n",
       "      <td>27.756901</td>\n",
       "      <td>5.0</td>\n",
       "      <td>WA-KG-266</td>\n",
       "      <td>WA-KG-266</td>\n",
       "      <td>Seattle 2.9 ENE</td>\n",
       "      <td>47.630883</td>\n",
       "      <td>-122.290286</td>\n",
       "      <td>237</td>\n",
       "      <td>1071.925479</td>\n",
       "      <td>0.0</td>\n",
       "      <td>1.145690</td>\n",
       "    </tr>\n",
       "  </tbody>\n",
       "</table>\n",
       "</div>"
      ],
      "text/plain": [
       "  planted_date most_recent_observation               common_name  long_trees  \\\n",
       "0   1991-07-22              2019-04-27    (european) white birch -122.282080   \n",
       "1   1991-07-30              2019-04-27  Kwanzan flowering cherry -122.318952   \n",
       "2   1991-07-25              2019-04-27    Japanese snowbell tree -122.299891   \n",
       "\n",
       "   lat_trees  diameter_breast_height_CM  condition      native  age_at_obs  \\\n",
       "0  47.635207                      40.64  excellent  introduced   27.765115   \n",
       "1  47.649141                       5.08       fair     no_info   27.743212   \n",
       "2  47.637863                       2.54  excellent  introduced   27.756901   \n",
       "\n",
       "   condition_index nearest_station  station_id     station_name   lat_prcp  \\\n",
       "0              5.0       WA-KG-266   WA-KG-266  Seattle 2.9 ENE  47.630883   \n",
       "1              3.0       WA-KG-266   WA-KG-266  Seattle 2.9 ENE  47.630883   \n",
       "2              5.0       WA-KG-266   WA-KG-266  Seattle 2.9 ENE  47.630883   \n",
       "\n",
       "    long_prcp  adj_reports  norm_prcp_mm_total  norm_snow_mm_total  \\\n",
       "0 -122.290286          237         1071.925479                 0.0   \n",
       "1 -122.290286          237         1071.925479                 0.0   \n",
       "2 -122.290286          237         1071.925479                 0.0   \n",
       "\n",
       "   distance_between  \n",
       "0          0.947927  \n",
       "1          3.367105  \n",
       "2          1.145690  "
      ]
     },
     "execution_count": 511,
     "metadata": {},
     "output_type": "execute_result"
    }
   ],
   "source": [
    "#Let's see how that looks in our df\n",
    "trees_prcp_all.head(3)"
   ]
  },
  {
   "attachments": {},
   "cell_type": "markdown",
   "metadata": {},
   "source": [
    "### 3.3 \"Traditional\" EDA\n",
    "\n",
    "Now that we have a combined dataframe, let's move on to exploring it further with some fun EDA.\n",
    "\n",
    "#### 3.3.1 Shape\n",
    "\n",
    "We've done a lot of work on this, so let's get a reminder of the shape."
   ]
  },
  {
   "cell_type": "code",
   "execution_count": 512,
   "metadata": {},
   "outputs": [
    {
     "data": {
      "text/plain": [
       "(162080, 19)"
      ]
     },
     "execution_count": 512,
     "metadata": {},
     "output_type": "execute_result"
    }
   ],
   "source": [
    "trees_prcp_all.shape"
   ]
  },
  {
   "attachments": {},
   "cell_type": "markdown",
   "metadata": {},
   "source": [
    "We're up to 19 fields, and still have all our 160k tree records. Let's keep going.\n",
    "\n",
    "#### 3.3.2 Data Types and Column Info"
   ]
  },
  {
   "cell_type": "code",
   "execution_count": 513,
   "metadata": {},
   "outputs": [
    {
     "name": "stdout",
     "output_type": "stream",
     "text": [
      "<class 'pandas.core.frame.DataFrame'>\n",
      "Int64Index: 162080 entries, 0 to 162079\n",
      "Data columns (total 19 columns):\n",
      " #   Column                     Non-Null Count   Dtype  \n",
      "---  ------                     --------------   -----  \n",
      " 0   planted_date               159111 non-null  object \n",
      " 1   most_recent_observation    162075 non-null  object \n",
      " 2   common_name                161408 non-null  object \n",
      " 3   long_trees                 162080 non-null  float64\n",
      " 4   lat_trees                  162080 non-null  float64\n",
      " 5   diameter_breast_height_CM  162080 non-null  float64\n",
      " 6   condition                  162080 non-null  object \n",
      " 7   native                     162080 non-null  object \n",
      " 8   age_at_obs                 159106 non-null  float64\n",
      " 9   condition_index            162080 non-null  float64\n",
      " 10  nearest_station            162080 non-null  object \n",
      " 11  station_id                 162080 non-null  object \n",
      " 12  station_name               162080 non-null  object \n",
      " 13  lat_prcp                   162080 non-null  float64\n",
      " 14  long_prcp                  162080 non-null  float64\n",
      " 15  adj_reports                162080 non-null  int64  \n",
      " 16  norm_prcp_mm_total         162080 non-null  float64\n",
      " 17  norm_snow_mm_total         162080 non-null  float64\n",
      " 18  distance_between           162080 non-null  float64\n",
      "dtypes: float64(10), int64(1), object(8)\n",
      "memory usage: 28.8+ MB\n"
     ]
    }
   ],
   "source": [
    "trees_prcp_all.info()"
   ]
  },
  {
   "attachments": {},
   "cell_type": "markdown",
   "metadata": {},
   "source": [
    "We have some missing values in planted_date, most_recent_observation, age_at_obs (expected as this was calculated of the prior two).\n",
    "\\\n",
    "\\\n",
    "I feel like we will want to impute values for missing ages later but I will update some data types!"
   ]
  },
  {
   "cell_type": "code",
   "execution_count": 515,
   "metadata": {},
   "outputs": [
    {
     "name": "stdout",
     "output_type": "stream",
     "text": [
      "<class 'pandas.core.frame.DataFrame'>\n",
      "Int64Index: 162080 entries, 0 to 162079\n",
      "Data columns (total 2 columns):\n",
      " #   Column                   Non-Null Count   Dtype         \n",
      "---  ------                   --------------   -----         \n",
      " 0   planted_date             159111 non-null  datetime64[ns]\n",
      " 1   most_recent_observation  162075 non-null  datetime64[ns]\n",
      "dtypes: datetime64[ns](2)\n",
      "memory usage: 7.7 MB\n"
     ]
    }
   ],
   "source": [
    "#We need to update our data fields to be datetime dtypes\n",
    "trees_prcp_all['planted_date'] = pd.to_datetime(trees_prcp_all['planted_date'])\n",
    "trees_prcp_all['most_recent_observation'] = pd.to_datetime(trees_prcp_all['most_recent_observation'])\n",
    "\n",
    "trees_prcp_all[['planted_date','most_recent_observation']].info()"
   ]
  },
  {
   "attachments": {},
   "cell_type": "markdown",
   "metadata": {},
   "source": [
    "#### 3.3.2 Add Unique tree_id field\n",
    "\n",
    "This may not be totally necessary, but I think it will help me as I continue my EDA to assign each tree a simple unique numerical value."
   ]
  },
  {
   "cell_type": "code",
   "execution_count": 518,
   "metadata": {},
   "outputs": [],
   "source": [
    "#add id using index+1 to skip 0 and set the starting point to 1\n",
    "trees_prcp_all['tree_id'] = trees_data.index+1\n",
    "\n",
    "#convert this to an object\n",
    "trees_prcp_all['tree_id'] = trees_prcp_all['tree_id'].astype(object)"
   ]
  },
  {
   "cell_type": "code",
   "execution_count": 522,
   "metadata": {},
   "outputs": [
    {
     "data": {
      "text/plain": [
       "1         1\n",
       "108057    1\n",
       "108050    1\n",
       "108051    1\n",
       "108052    1\n",
       "Name: tree_id, dtype: int64"
      ]
     },
     "execution_count": 522,
     "metadata": {},
     "output_type": "execute_result"
    }
   ],
   "source": [
    "#validate these are unique by value counting as taking the first 5 records, since value_counts defaults to sorted greatest to least\n",
    "trees_prcp_all['tree_id'].value_counts().head(5)"
   ]
  },
  {
   "attachments": {},
   "cell_type": "markdown",
   "metadata": {},
   "source": [
    "#### 3.3.2 Check for Duplicates\n",
    "\n",
    "Duplicates may be realistic if two trees are planted next to eachother on the same date, but let's see if we find any."
   ]
  },
  {
   "cell_type": "code",
   "execution_count": 523,
   "metadata": {},
   "outputs": [
    {
     "data": {
      "text/html": [
       "<div>\n",
       "<style scoped>\n",
       "    .dataframe tbody tr th:only-of-type {\n",
       "        vertical-align: middle;\n",
       "    }\n",
       "\n",
       "    .dataframe tbody tr th {\n",
       "        vertical-align: top;\n",
       "    }\n",
       "\n",
       "    .dataframe thead th {\n",
       "        text-align: right;\n",
       "    }\n",
       "</style>\n",
       "<table border=\"1\" class=\"dataframe\">\n",
       "  <thead>\n",
       "    <tr style=\"text-align: right;\">\n",
       "      <th></th>\n",
       "      <th>planted_date</th>\n",
       "      <th>most_recent_observation</th>\n",
       "      <th>common_name</th>\n",
       "      <th>long_trees</th>\n",
       "      <th>lat_trees</th>\n",
       "      <th>diameter_breast_height_CM</th>\n",
       "      <th>condition</th>\n",
       "      <th>native</th>\n",
       "      <th>age_at_obs</th>\n",
       "      <th>condition_index</th>\n",
       "      <th>nearest_station</th>\n",
       "      <th>station_id</th>\n",
       "      <th>station_name</th>\n",
       "      <th>lat_prcp</th>\n",
       "      <th>long_prcp</th>\n",
       "      <th>adj_reports</th>\n",
       "      <th>norm_prcp_mm_total</th>\n",
       "      <th>norm_snow_mm_total</th>\n",
       "      <th>distance_between</th>\n",
       "      <th>tree_id</th>\n",
       "    </tr>\n",
       "  </thead>\n",
       "  <tbody>\n",
       "  </tbody>\n",
       "</table>\n",
       "</div>"
      ],
      "text/plain": [
       "Empty DataFrame\n",
       "Columns: [planted_date, most_recent_observation, common_name, long_trees, lat_trees, diameter_breast_height_CM, condition, native, age_at_obs, condition_index, nearest_station, station_id, station_name, lat_prcp, long_prcp, adj_reports, norm_prcp_mm_total, norm_snow_mm_total, distance_between, tree_id]\n",
       "Index: []"
      ]
     },
     "execution_count": 523,
     "metadata": {},
     "output_type": "execute_result"
    }
   ],
   "source": [
    "duplicates = trees_prcp_all.duplicated()\n",
    "duplicated_records = trees_prcp_all[duplicates].sort_values('tree_id')\n",
    "\n",
    "duplicated_records"
   ]
  },
  {
   "attachments": {},
   "cell_type": "markdown",
   "metadata": {},
   "source": [
    "Nice! No exact duplicates\n",
    "\n",
    "#### 3.5.2 Visualize Distributions"
   ]
  },
  {
   "cell_type": "code",
   "execution_count": 524,
   "metadata": {},
   "outputs": [
    {
     "data": {
      "image/png": "[encoded data removed]",
      "text/plain": [
       "<Figure size 1500x1000 with 16 Axes>"
      ]
     },
     "metadata": {},
     "output_type": "display_data"
    }
   ],
   "source": [
    "#Histograms\n",
    "trees_prcp_all.hist(figsize=(15,10))\n",
    "plt.subplots_adjust(hspace=0.5);"
   ]
  },
  {
   "attachments": {},
   "cell_type": "markdown",
   "metadata": {},
   "source": [
    "**Observations:**\n",
    "- Planted_date: There is a big jump in the 90s. It's possible there is an older section of the city that wasn't mapped with tree records, but the plot of trees looked pretty widely spread and the lat, lon above fits with the general area of the city. So for now I won't do anything.\n",
    "- Diameter_breast_height_cm: There is likely a large record out to the right, so we'll need to check that out.\n",
    "- Condition_index: Not many 1s and 2s. So we'll have to apply some steps in preprocessing to deal with this imbalance.\n",
    "- Reports_# & Adj_reports: More shifted into that complete 365 window, making me think a lot of our trees are in the area that was just a few short.\n",
    "- Distance_between: Most of are trees were fairly close to our nearest station data point.\n",
    "- Precipitation & Snow Fields: Our largest outlier is gone, but it will still be worth looking again at the larger amounts now that we've filtered out the station outside of our scope of data."
   ]
  },
  {
   "attachments": {},
   "cell_type": "markdown",
   "metadata": {},
   "source": [
    "#### 3.5.3 Explore Diameter Field\n",
    "\n",
    "It looks like there may be some outliers here."
   ]
  },
  {
   "cell_type": "code",
   "execution_count": 526,
   "metadata": {},
   "outputs": [
    {
     "data": {
      "image/png": "[encoded data removed]",
      "text/plain": [
       "<Figure size 500x500 with 1 Axes>"
      ]
     },
     "metadata": {},
     "output_type": "display_data"
    },
    {
     "name": "stdout",
     "output_type": "stream",
     "text": [
      "count    162080.000000\n",
      "mean         21.514417\n",
      "std          18.640934\n",
      "min           0.000000\n",
      "25%           7.620000\n",
      "50%          15.240000\n",
      "75%          30.480000\n",
      "max         330.200000\n",
      "Name: diameter_breast_height_CM, dtype: float64\n"
     ]
    }
   ],
   "source": [
    "#Visualize the data with a boxplot\n",
    "sns.catplot(y=\"diameter_breast_height_CM\", data=trees_prcp_all, kind=\"box\")\n",
    "\n",
    "plt.show()\n",
    "\n",
    "print(trees_prcp_all['diameter_breast_height_CM'].describe())"
   ]
  },
  {
   "cell_type": "code",
   "execution_count": 527,
   "metadata": {},
   "outputs": [
    {
     "data": {
      "text/plain": [
       "common_name\n",
       "Quaking aspen                       330.20\n",
       "Giant sequoia                       297.18\n",
       "Portugal laurel                     292.10\n",
       "Bigleaf maple                       259.08\n",
       "Port orford cedar lawson cypress    254.00\n",
       "                                     ...  \n",
       "Tatarian maple                       48.26\n",
       "Swamp white oak                      48.26\n",
       "Smooth sumac                         48.26\n",
       "Sterling linden                      48.26\n",
       "Autumn gold ginkgo                   48.26\n",
       "Name: diameter_breast_height_CM, Length: 326, dtype: float64"
      ]
     },
     "execution_count": 527,
     "metadata": {},
     "output_type": "execute_result"
    }
   ],
   "source": [
    "#filter down to values > 1.5x the IQR\n",
    "outliers = trees_prcp_all[trees_prcp_all['diameter_breast_height_CM'] > 30.48*1.5]\n",
    "\n",
    "#display largest value of each tree\n",
    "outliers.groupby('common_name').max('diameter_breast_height_CM').sort_values('diameter_breast_height_CM', ascending=False)['diameter_breast_height_CM']"
   ]
  },
  {
   "attachments": {},
   "cell_type": "markdown",
   "metadata": {},
   "source": [
    "We have 326 species with atleast one record over 1.5x the IQR. Breast height diameter is simply the diameter of the tree (width) at breast height. Not specifically the trunk, but reach of the tree. This could vary greatly for specifc trees, so I think it will be best to expand our view to see records which are beyond the typical range for a grouping of that species.\n",
    "\\\n",
    "\\\n",
    "For consistency, I will consider a record an outlier if it is 1.5x the IQR."
   ]
  },
  {
   "cell_type": "code",
   "execution_count": 547,
   "metadata": {},
   "outputs": [],
   "source": [
    "#define function to establish what is an outlier\n",
    "def get_outliers(col):\n",
    "    q1 = np.percentile(col, 25)\n",
    "    q3 = np.percentile(col, 75)\n",
    "    iqr = q3-q1\n",
    "    lower_threshold = q1 - (1.5*iqr)\n",
    "    upper_threshold = q3 + (1.5*iqr)\n",
    "    return sum((col<lower_threshold) | (col>upper_threshold))"
   ]
  },
  {
   "cell_type": "code",
   "execution_count": 548,
   "metadata": {},
   "outputs": [
    {
     "name": "stdout",
     "output_type": "stream",
     "text": [
      "                                get_outliers\n",
      "common_name                                 \n",
      "Eddie's white wonder dogwood             153\n",
      "American hornbeam                        150\n",
      "(smooth) japanese maple                  117\n",
      "Norway maple                             116\n",
      "Autumn brilliance serviceberry            95\n",
      "...                                      ...\n",
      "New horizon elm                            0\n",
      "Net leaf oak                               0\n",
      "Myrtle california wax                      0\n",
      "Chancelor littleleaf linden                0\n",
      "Judas tree                                 0\n",
      "\n",
      "[705 rows x 1 columns]\n",
      "4537\n"
     ]
    }
   ],
   "source": [
    "outliers_by_group = trees_prcp_all.groupby('common_name')['diameter_breast_height_CM'].agg([get_outliers]).sort_values('get_outliers', ascending=False)\n",
    "\n",
    "print(outliers_by_group)\n",
    "print(outliers_by_group['get_outliers'].sum())"
   ]
  },
  {
   "attachments": {},
   "cell_type": "markdown",
   "metadata": {},
   "source": [
    "According to that formula, Eddie's white wonder dogwood produced 153 outliers within it's own grouping. Let's explore the distribution for this one specifically."
   ]
  },
  {
   "cell_type": "code",
   "execution_count": 549,
   "metadata": {},
   "outputs": [
    {
     "data": {
      "image/png": "[encoded data removed]",
      "text/plain": [
       "<Figure size 500x500 with 1 Axes>"
      ]
     },
     "metadata": {},
     "output_type": "display_data"
    },
    {
     "name": "stdout",
     "output_type": "stream",
     "text": [
      "count    408.000000\n",
      "mean       6.188137\n",
      "std        5.197746\n",
      "min        0.000000\n",
      "25%        5.080000\n",
      "50%        5.080000\n",
      "75%        5.080000\n",
      "max       83.820000\n",
      "Name: diameter_breast_height_CM, dtype: float64\n"
     ]
    }
   ],
   "source": [
    "#Visualize the data with a boxplot\n",
    "sns.catplot(y=\"diameter_breast_height_CM\", data=trees_prcp_all[trees_prcp_all['common_name'] == \"Eddie's white wonder dogwood\"], kind=\"box\")\n",
    "\n",
    "plt.show()\n",
    "\n",
    "print(trees_prcp_all[trees_prcp_all['common_name'] == \"Eddie's white wonder dogwood\"]['diameter_breast_height_CM'].describe())"
   ]
  },
  {
   "cell_type": "code",
   "execution_count": 550,
   "metadata": {},
   "outputs": [
    {
     "data": {
      "text/plain": [
       "5.08     255\n",
       "2.54      54\n",
       "7.62      36\n",
       "10.16     32\n",
       "12.70     24\n",
       "0.00       2\n",
       "17.78      1\n",
       "22.86      1\n",
       "48.26      1\n",
       "83.82      1\n",
       "15.24      1\n",
       "Name: diameter_breast_height_CM, dtype: int64"
      ]
     },
     "execution_count": 550,
     "metadata": {},
     "output_type": "execute_result"
    }
   ],
   "source": [
    "#it looks like there is a really big cluster at the same diameter, let's see the value counts.\n",
    "trees_prcp_all[trees_prcp_all['common_name'] == \"Eddie's white wonder dogwood\"]['diameter_breast_height_CM'].value_counts()"
   ]
  },
  {
   "attachments": {},
   "cell_type": "markdown",
   "metadata": {},
   "source": [
    "This is likely some generalization in the measurement, vs. 255 measured example at 5.08 centimeters. In total our calculation found 4,537 in-group outliers. That is less than 3% of our total dataset. Because it's such a small subset, I'm comfortable dropping our \"outliers\". I do wonder if there is a why I can make the dropping dynamic and only use the 1.5x IQR if the IQR is > 0 to avoid dropping records like we have for Eddie's Dogwood that are valid, but ouside of the 0 IQR.\n",
    "\n",
    "#### 3.5.4 Drop Diameter Outliers\n",
    "\n",
    "I think I'll actually go a bit manual and add the statistics to the data frame and then drop using a filter clause of some sort.\n",
    "\n",
    "##### 3.5.4.1 Calculate Limits"
   ]
  },
  {
   "cell_type": "code",
   "execution_count": 573,
   "metadata": {},
   "outputs": [],
   "source": [
    "def percentile(n):\n",
    "    def percentile_(x):\n",
    "        return np.percentile(x, n)\n",
    "    percentile_.__name__ = 'percentile_%s' % n\n",
    "    return percentile_"
   ]
  },
  {
   "cell_type": "code",
   "execution_count": 589,
   "metadata": {},
   "outputs": [],
   "source": [
    "#create summary statistics in a dataframe for each common_name gourping\n",
    "df2 = (trees_prcp_all.groupby('common_name')\n",
    "             .agg(Count=('diameter_breast_height_CM', 'count'),    \n",
    "                  Mean=('diameter_breast_height_CM','mean'),\n",
    "                  StDv=('diameter_breast_height_CM', 'std'),        \n",
    "                  P25= ('diameter_breast_height_CM',percentile(25)), #This is for first quartile\n",
    "                  P50= ('diameter_breast_height_CM',percentile(50)), #2nd Quartile\n",
    "                  P75= ('diameter_breast_height_CM',percentile(75)),\n",
    "                  )) #This is for Quartile 3"
   ]
  },
  {
   "cell_type": "code",
   "execution_count": 592,
   "metadata": {},
   "outputs": [
    {
     "data": {
      "text/html": [
       "<div>\n",
       "<style scoped>\n",
       "    .dataframe tbody tr th:only-of-type {\n",
       "        vertical-align: middle;\n",
       "    }\n",
       "\n",
       "    .dataframe tbody tr th {\n",
       "        vertical-align: top;\n",
       "    }\n",
       "\n",
       "    .dataframe thead th {\n",
       "        text-align: right;\n",
       "    }\n",
       "</style>\n",
       "<table border=\"1\" class=\"dataframe\">\n",
       "  <thead>\n",
       "    <tr style=\"text-align: right;\">\n",
       "      <th></th>\n",
       "      <th>Count</th>\n",
       "      <th>Mean</th>\n",
       "      <th>StDv</th>\n",
       "      <th>P25</th>\n",
       "      <th>P50</th>\n",
       "      <th>P75</th>\n",
       "      <th>IQR</th>\n",
       "      <th>lower_a</th>\n",
       "      <th>upper_a</th>\n",
       "      <th>lower_b</th>\n",
       "      <th>upper_b</th>\n",
       "    </tr>\n",
       "    <tr>\n",
       "      <th>common_name</th>\n",
       "      <th></th>\n",
       "      <th></th>\n",
       "      <th></th>\n",
       "      <th></th>\n",
       "      <th></th>\n",
       "      <th></th>\n",
       "      <th></th>\n",
       "      <th></th>\n",
       "      <th></th>\n",
       "      <th></th>\n",
       "      <th></th>\n",
       "    </tr>\n",
       "  </thead>\n",
       "  <tbody>\n",
       "    <tr>\n",
       "      <th>(american) arborvitae</th>\n",
       "      <td>603</td>\n",
       "      <td>17.573599</td>\n",
       "      <td>15.765731</td>\n",
       "      <td>7.620</td>\n",
       "      <td>12.70</td>\n",
       "      <td>20.32</td>\n",
       "      <td>12.700</td>\n",
       "      <td>-11.4300</td>\n",
       "      <td>39.3700</td>\n",
       "      <td>-29.723594</td>\n",
       "      <td>64.870791</td>\n",
       "    </tr>\n",
       "    <tr>\n",
       "      <th>(arnold) tulip tree</th>\n",
       "      <td>65</td>\n",
       "      <td>10.550769</td>\n",
       "      <td>7.257230</td>\n",
       "      <td>5.080</td>\n",
       "      <td>7.62</td>\n",
       "      <td>12.70</td>\n",
       "      <td>7.620</td>\n",
       "      <td>-6.3500</td>\n",
       "      <td>24.1300</td>\n",
       "      <td>-11.220921</td>\n",
       "      <td>32.322459</td>\n",
       "    </tr>\n",
       "    <tr>\n",
       "      <th>(california) incense cedar</th>\n",
       "      <td>220</td>\n",
       "      <td>29.267727</td>\n",
       "      <td>19.684401</td>\n",
       "      <td>14.605</td>\n",
       "      <td>27.94</td>\n",
       "      <td>40.64</td>\n",
       "      <td>26.035</td>\n",
       "      <td>-24.4475</td>\n",
       "      <td>79.6925</td>\n",
       "      <td>-29.785474</td>\n",
       "      <td>88.320929</td>\n",
       "    </tr>\n",
       "    <tr>\n",
       "      <th>(common) goldenchain</th>\n",
       "      <td>216</td>\n",
       "      <td>16.251296</td>\n",
       "      <td>8.997380</td>\n",
       "      <td>10.160</td>\n",
       "      <td>15.24</td>\n",
       "      <td>20.32</td>\n",
       "      <td>10.160</td>\n",
       "      <td>-5.0800</td>\n",
       "      <td>35.5600</td>\n",
       "      <td>-10.740845</td>\n",
       "      <td>43.243438</td>\n",
       "    </tr>\n",
       "    <tr>\n",
       "      <th>(european) bird cherry</th>\n",
       "      <td>21</td>\n",
       "      <td>22.013333</td>\n",
       "      <td>13.662587</td>\n",
       "      <td>12.700</td>\n",
       "      <td>17.78</td>\n",
       "      <td>30.48</td>\n",
       "      <td>17.780</td>\n",
       "      <td>-13.9700</td>\n",
       "      <td>57.1500</td>\n",
       "      <td>-18.974429</td>\n",
       "      <td>63.001095</td>\n",
       "    </tr>\n",
       "  </tbody>\n",
       "</table>\n",
       "</div>"
      ],
      "text/plain": [
       "                            Count       Mean       StDv     P25    P50    P75  \\\n",
       "common_name                                                                     \n",
       "(american) arborvitae         603  17.573599  15.765731   7.620  12.70  20.32   \n",
       "(arnold) tulip tree            65  10.550769   7.257230   5.080   7.62  12.70   \n",
       "(california) incense cedar    220  29.267727  19.684401  14.605  27.94  40.64   \n",
       "(common) goldenchain          216  16.251296   8.997380  10.160  15.24  20.32   \n",
       "(european) bird cherry         21  22.013333  13.662587  12.700  17.78  30.48   \n",
       "\n",
       "                               IQR  lower_a  upper_a    lower_b    upper_b  \n",
       "common_name                                                                 \n",
       "(american) arborvitae       12.700 -11.4300  39.3700 -29.723594  64.870791  \n",
       "(arnold) tulip tree          7.620  -6.3500  24.1300 -11.220921  32.322459  \n",
       "(california) incense cedar  26.035 -24.4475  79.6925 -29.785474  88.320929  \n",
       "(common) goldenchain        10.160  -5.0800  35.5600 -10.740845  43.243438  \n",
       "(european) bird cherry      17.780 -13.9700  57.1500 -18.974429  63.001095  "
      ]
     },
     "execution_count": 592,
     "metadata": {},
     "output_type": "execute_result"
    }
   ],
   "source": [
    "#calculate upper and lower outlier limits based on 1. 1.5X the IQR and 2. 3 STDEVs from the mean\n",
    "df2['IQR'] = (df2['P75']-df2['P25'])\n",
    "df2['lower_a'] = df2['P25'] - (df2['IQR']*1.5)\n",
    "df2['upper_a'] = df2['P75'] + (df2['IQR']*1.5)\n",
    "df2['lower_b'] = df2['Mean'] - (df2['StDv']*3)\n",
    "df2['upper_b'] = df2['Mean'] + (df2['StDv']*3)\n",
    "\n",
    "df2.head()"
   ]
  },
  {
   "attachments": {},
   "cell_type": "markdown",
   "metadata": {},
   "source": [
    "##### 3.5.4.2 Merge Limits into Main DataFrame"
   ]
  },
  {
   "cell_type": "code",
   "execution_count": 595,
   "metadata": {},
   "outputs": [
    {
     "data": {
      "text/html": [
       "<div>\n",
       "<style scoped>\n",
       "    .dataframe tbody tr th:only-of-type {\n",
       "        vertical-align: middle;\n",
       "    }\n",
       "\n",
       "    .dataframe tbody tr th {\n",
       "        vertical-align: top;\n",
       "    }\n",
       "\n",
       "    .dataframe thead th {\n",
       "        text-align: right;\n",
       "    }\n",
       "</style>\n",
       "<table border=\"1\" class=\"dataframe\">\n",
       "  <thead>\n",
       "    <tr style=\"text-align: right;\">\n",
       "      <th></th>\n",
       "      <th>planted_date</th>\n",
       "      <th>most_recent_observation</th>\n",
       "      <th>common_name</th>\n",
       "      <th>long_trees</th>\n",
       "      <th>lat_trees</th>\n",
       "      <th>diameter_breast_height_CM</th>\n",
       "      <th>condition</th>\n",
       "      <th>native</th>\n",
       "      <th>age_at_obs</th>\n",
       "      <th>condition_index</th>\n",
       "      <th>...</th>\n",
       "      <th>Mean</th>\n",
       "      <th>StDv</th>\n",
       "      <th>P25</th>\n",
       "      <th>P50</th>\n",
       "      <th>P75</th>\n",
       "      <th>IQR</th>\n",
       "      <th>lower_a</th>\n",
       "      <th>upper_a</th>\n",
       "      <th>lower_b</th>\n",
       "      <th>upper_b</th>\n",
       "    </tr>\n",
       "  </thead>\n",
       "  <tbody>\n",
       "    <tr>\n",
       "      <th>0</th>\n",
       "      <td>1991-07-22</td>\n",
       "      <td>2019-04-27</td>\n",
       "      <td>(european) white birch</td>\n",
       "      <td>-122.282080</td>\n",
       "      <td>47.635207</td>\n",
       "      <td>40.64</td>\n",
       "      <td>excellent</td>\n",
       "      <td>introduced</td>\n",
       "      <td>27.765115</td>\n",
       "      <td>5.0</td>\n",
       "      <td>...</td>\n",
       "      <td>30.539531</td>\n",
       "      <td>14.880132</td>\n",
       "      <td>20.32</td>\n",
       "      <td>30.48</td>\n",
       "      <td>38.10</td>\n",
       "      <td>17.78</td>\n",
       "      <td>-6.35</td>\n",
       "      <td>64.77</td>\n",
       "      <td>-14.100865</td>\n",
       "      <td>75.179928</td>\n",
       "    </tr>\n",
       "    <tr>\n",
       "      <th>1</th>\n",
       "      <td>1991-07-30</td>\n",
       "      <td>2019-04-27</td>\n",
       "      <td>Kwanzan flowering cherry</td>\n",
       "      <td>-122.318952</td>\n",
       "      <td>47.649141</td>\n",
       "      <td>5.08</td>\n",
       "      <td>fair</td>\n",
       "      <td>no_info</td>\n",
       "      <td>27.743212</td>\n",
       "      <td>3.0</td>\n",
       "      <td>...</td>\n",
       "      <td>24.325238</td>\n",
       "      <td>14.743777</td>\n",
       "      <td>12.70</td>\n",
       "      <td>22.86</td>\n",
       "      <td>33.02</td>\n",
       "      <td>20.32</td>\n",
       "      <td>-17.78</td>\n",
       "      <td>63.50</td>\n",
       "      <td>-19.906092</td>\n",
       "      <td>68.556569</td>\n",
       "    </tr>\n",
       "    <tr>\n",
       "      <th>2</th>\n",
       "      <td>1991-07-25</td>\n",
       "      <td>2019-04-27</td>\n",
       "      <td>Japanese snowbell tree</td>\n",
       "      <td>-122.299891</td>\n",
       "      <td>47.637863</td>\n",
       "      <td>2.54</td>\n",
       "      <td>excellent</td>\n",
       "      <td>introduced</td>\n",
       "      <td>27.756901</td>\n",
       "      <td>5.0</td>\n",
       "      <td>...</td>\n",
       "      <td>9.593424</td>\n",
       "      <td>5.650118</td>\n",
       "      <td>5.08</td>\n",
       "      <td>7.62</td>\n",
       "      <td>12.70</td>\n",
       "      <td>7.62</td>\n",
       "      <td>-6.35</td>\n",
       "      <td>24.13</td>\n",
       "      <td>-7.356929</td>\n",
       "      <td>26.543777</td>\n",
       "    </tr>\n",
       "    <tr>\n",
       "      <th>3</th>\n",
       "      <td>1991-07-17</td>\n",
       "      <td>2019-04-27</td>\n",
       "      <td>Carriere (lavallei) hawthorn</td>\n",
       "      <td>-122.281439</td>\n",
       "      <td>47.630559</td>\n",
       "      <td>38.10</td>\n",
       "      <td>good</td>\n",
       "      <td>no_info</td>\n",
       "      <td>27.778804</td>\n",
       "      <td>4.0</td>\n",
       "      <td>...</td>\n",
       "      <td>16.948507</td>\n",
       "      <td>9.378874</td>\n",
       "      <td>10.16</td>\n",
       "      <td>15.24</td>\n",
       "      <td>22.86</td>\n",
       "      <td>12.70</td>\n",
       "      <td>-8.89</td>\n",
       "      <td>41.91</td>\n",
       "      <td>-11.188114</td>\n",
       "      <td>45.085128</td>\n",
       "    </tr>\n",
       "    <tr>\n",
       "      <th>4</th>\n",
       "      <td>1991-07-16</td>\n",
       "      <td>2019-04-27</td>\n",
       "      <td>Evergreen (southern) magnolia</td>\n",
       "      <td>-122.282837</td>\n",
       "      <td>47.627876</td>\n",
       "      <td>15.24</td>\n",
       "      <td>fair</td>\n",
       "      <td>introduced</td>\n",
       "      <td>27.781542</td>\n",
       "      <td>3.0</td>\n",
       "      <td>...</td>\n",
       "      <td>14.438071</td>\n",
       "      <td>9.985277</td>\n",
       "      <td>7.62</td>\n",
       "      <td>12.70</td>\n",
       "      <td>20.32</td>\n",
       "      <td>12.70</td>\n",
       "      <td>-11.43</td>\n",
       "      <td>39.37</td>\n",
       "      <td>-15.517758</td>\n",
       "      <td>44.393901</td>\n",
       "    </tr>\n",
       "  </tbody>\n",
       "</table>\n",
       "<p>5 rows × 31 columns</p>\n",
       "</div>"
      ],
      "text/plain": [
       "  planted_date most_recent_observation                    common_name  \\\n",
       "0   1991-07-22              2019-04-27         (european) white birch   \n",
       "1   1991-07-30              2019-04-27       Kwanzan flowering cherry   \n",
       "2   1991-07-25              2019-04-27         Japanese snowbell tree   \n",
       "3   1991-07-17              2019-04-27   Carriere (lavallei) hawthorn   \n",
       "4   1991-07-16              2019-04-27  Evergreen (southern) magnolia   \n",
       "\n",
       "   long_trees  lat_trees  diameter_breast_height_CM  condition      native  \\\n",
       "0 -122.282080  47.635207                      40.64  excellent  introduced   \n",
       "1 -122.318952  47.649141                       5.08       fair     no_info   \n",
       "2 -122.299891  47.637863                       2.54  excellent  introduced   \n",
       "3 -122.281439  47.630559                      38.10       good     no_info   \n",
       "4 -122.282837  47.627876                      15.24       fair  introduced   \n",
       "\n",
       "   age_at_obs  condition_index  ...       Mean       StDv    P25    P50  \\\n",
       "0   27.765115              5.0  ...  30.539531  14.880132  20.32  30.48   \n",
       "1   27.743212              3.0  ...  24.325238  14.743777  12.70  22.86   \n",
       "2   27.756901              5.0  ...   9.593424   5.650118   5.08   7.62   \n",
       "3   27.778804              4.0  ...  16.948507   9.378874  10.16  15.24   \n",
       "4   27.781542              3.0  ...  14.438071   9.985277   7.62  12.70   \n",
       "\n",
       "     P75    IQR  lower_a  upper_a    lower_b    upper_b  \n",
       "0  38.10  17.78    -6.35    64.77 -14.100865  75.179928  \n",
       "1  33.02  20.32   -17.78    63.50 -19.906092  68.556569  \n",
       "2  12.70   7.62    -6.35    24.13  -7.356929  26.543777  \n",
       "3  22.86  12.70    -8.89    41.91 -11.188114  45.085128  \n",
       "4  20.32  12.70   -11.43    39.37 -15.517758  44.393901  \n",
       "\n",
       "[5 rows x 31 columns]"
      ]
     },
     "execution_count": 595,
     "metadata": {},
     "output_type": "execute_result"
    }
   ],
   "source": [
    "trees_stats = pd.merge(trees_prcp_all, df2, on='common_name', how='left', suffixes=(\"\", '_stats'))\n",
    "\n",
    "trees_stats.head()"
   ]
  },
  {
   "cell_type": "markdown",
   "metadata": {},
   "source": [
    "##### 3.5.4.3 Flag As Outlier or Not"
   ]
  },
  {
   "cell_type": "code",
   "execution_count": 626,
   "metadata": {},
   "outputs": [],
   "source": [
    "#add outlier column using where clause that checks 1.5X the IQR if the IQR > 0. If it's not > 0 then it uses > 3 standard devaiations from the mean.\n",
    "trees_stats['outlier'] = np.where((trees_stats['IQR'] > 0), ~trees_stats['diameter_breast_height_CM'].between(trees_stats['lower_a'], trees_stats['upper_a']), ~trees_stats['diameter_breast_height_CM'].between(trees_stats['lower_b'], trees_stats['upper_b']))\n",
    "#now overwrite NaN values to not count as outliers\n",
    "trees_stats['outlier'] = np.where((trees_stats['IQR'].isna()),'NoData', trees_stats['outlier'])"
   ]
  },
  {
   "cell_type": "markdown",
   "metadata": {},
   "source": [
    "##### 3.5.4.4 Drop Outliers and Unecessary Fields"
   ]
  },
  {
   "cell_type": "code",
   "execution_count": 644,
   "metadata": {},
   "outputs": [],
   "source": [
    "#create new dataframe by filtering out outlier columns equal to 'True'\n",
    "outliers = trees_stats['outlier'] == 'True'\n",
    "trees_climate = trees_stats[~outliers]"
   ]
  },
  {
   "cell_type": "code",
   "execution_count": 645,
   "metadata": {},
   "outputs": [
    {
     "data": {
      "text/plain": [
       "Index(['planted_date', 'most_recent_observation', 'common_name', 'long_trees',\n",
       "       'lat_trees', 'diameter_breast_height_CM', 'condition', 'native',\n",
       "       'age_at_obs', 'condition_index', 'nearest_station', 'station_id',\n",
       "       'station_name', 'lat_prcp', 'long_prcp', 'adj_reports',\n",
       "       'norm_prcp_mm_total', 'norm_snow_mm_total', 'distance_between',\n",
       "       'tree_id', 'Count', 'Mean', 'StDv', 'P25', 'P50', 'P75', 'IQR',\n",
       "       'lower_a', 'upper_a', 'lower_b', 'upper_b', 'outlier'],\n",
       "      dtype='object')"
      ]
     },
     "execution_count": 645,
     "metadata": {},
     "output_type": "execute_result"
    }
   ],
   "source": [
    "trees_climate.columns"
   ]
  },
  {
   "cell_type": "code",
   "execution_count": 646,
   "metadata": {},
   "outputs": [
    {
     "name": "stderr",
     "output_type": "stream",
     "text": [
      "/var/folders/_z/9zltq2bj1dz1k05g4mtz4gq00000gn/T/ipykernel_8511/1321155297.py:1: SettingWithCopyWarning: \n",
      "A value is trying to be set on a copy of a slice from a DataFrame\n",
      "\n",
      "See the caveats in the documentation: https://pandas.pydata.org/pandas-docs/stable/user_guide/indexing.html#returning-a-view-versus-a-copy\n",
      "  trees_climate.drop(columns=['Count', 'Mean', 'StDv', 'P25', 'P50', 'P75', 'IQR',\n"
     ]
    }
   ],
   "source": [
    "trees_climate.drop(columns=['Count', 'Mean', 'StDv', 'P25', 'P50', 'P75', 'IQR',\n",
    "       'lower_a', 'upper_a', 'lower_b', 'upper_b', 'outlier'], inplace=True)"
   ]
  },
  {
   "cell_type": "code",
   "execution_count": 647,
   "metadata": {},
   "outputs": [
    {
     "data": {
      "text/plain": [
       "Index(['planted_date', 'most_recent_observation', 'common_name', 'long_trees',\n",
       "       'lat_trees', 'diameter_breast_height_CM', 'condition', 'native',\n",
       "       'age_at_obs', 'condition_index', 'nearest_station', 'station_id',\n",
       "       'station_name', 'lat_prcp', 'long_prcp', 'adj_reports',\n",
       "       'norm_prcp_mm_total', 'norm_snow_mm_total', 'distance_between',\n",
       "       'tree_id'],\n",
       "      dtype='object')"
      ]
     },
     "execution_count": 647,
     "metadata": {},
     "output_type": "execute_result"
    }
   ],
   "source": [
    "trees_climate.columns"
   ]
  },
  {
   "attachments": {},
   "cell_type": "markdown",
   "metadata": {},
   "source": [
    "#### 3.5.5 Validate Normalized/Imputed Precipitation and Snow Numbers"
   ]
  },
  {
   "cell_type": "code",
   "execution_count": 58,
   "metadata": {},
   "outputs": [
    {
     "data": {
      "text/plain": [
       "count      12.000000\n",
       "mean     1039.700000\n",
       "std        67.255429\n",
       "min       939.800000\n",
       "25%       992.450000\n",
       "50%      1036.850000\n",
       "75%      1094.725000\n",
       "max      1138.200000\n",
       "Name: prcp_mm_22, dtype: float64"
      ]
     },
     "execution_count": 58,
     "metadata": {},
     "output_type": "execute_result"
    }
   ],
   "source": [
    "#First, I'll check the summary stats of our more \"complete\" stations to get a good sense of where most values will likely lie.\n",
    "prcp_subset['prcp_mm_22'].describe()"
   ]
  },
  {
   "cell_type": "code",
   "execution_count": 59,
   "metadata": {},
   "outputs": [],
   "source": [
    "#now I'll look at stations which didn't have a more complete dataset and are greater than the 75th percentile of the above subset\n",
    "trees_climate_unique = trees_climate[['station_id','reports_#','adj_reports','station_id_norm','prcp_mm_22','daily_snow_mm','norm_prcp_daily_avg','norm_snow_daily_avg','norm_prcp_mm_total','norm_snow_mm_total']].drop_duplicates()\n",
    "\n",
    "#there are some pesky '\\xa0' text before my station_id fields. This will remove that.\n",
    "trees_climate_unique['station_id'] = trees_climate_unique['station_id'].str.split().str.join(' ')\n",
    "\n",
    "trees_climate_normalized = trees_climate_unique[(trees_climate_unique['reports_#'] < 300) & (trees_climate_unique['norm_prcp_mm_total'] > 1094.725)].sort_values('station_id')"
   ]
  },
  {
   "attachments": {},
   "cell_type": "markdown",
   "metadata": {},
   "source": [
    "I have some limited ability to searched daily data for stations, so I'll do a manual look online here: https://merbgai.cocorahs.org/ViewData/StationPrecipSummary.aspx\n",
    "\\\n",
    "\\\n",
    "**Observations:**\n",
    "These largely look like unexpected amounts of multi-reported days. Here are the differences between manually counted and estimated reported days.\n",
    "- WA-KG-287: Manually calculated 309, estimated 245.\n",
    "- WA-KG-280: Manually calculated 110, estimated 52.\n",
    "- WA-KG-192: Manually calculated 172, estimated 127.\n",
    "- WA-KG-297: Manually calculated 90, estimated 63.\n",
    "- WA-KG-263: Manually calculated 199, estimated 207. Pretty close, I'll leave.\n",
    "- WA-KG-210: Manually calculated 365, estimated 222.\n",
    "- WA-KG-301: Manually calculated 66, estimated 54.\n",
    "\n",
    "##### 3.5.4.1 Re-Calculate Normalized Numbers\n",
    "\n",
    "I'll update the adj_reports field for these 7 and then reclaculate the normalized amounts."
   ]
  },
  {
   "cell_type": "code",
   "execution_count": 60,
   "metadata": {},
   "outputs": [],
   "source": [
    "#create a dictionary of updated record counts to add back into our dataframe\n",
    "manual_report_count = {245: 309, #'WA-KG-287'\n",
    "52: 110, #'WA-KG-280'\n",
    "127: 172, #'WA-KG-192'\n",
    "63: 90, #'WA-KG-297'\n",
    "222: 365, #'WA-KG-210'\n",
    "54: 66 #'WA-KG-301'\n",
    "}"
   ]
  },
  {
   "cell_type": "code",
   "execution_count": 61,
   "metadata": {},
   "outputs": [
    {
     "data": {
      "text/html": [
       "<div>\n",
       "<style scoped>\n",
       "    .dataframe tbody tr th:only-of-type {\n",
       "        vertical-align: middle;\n",
       "    }\n",
       "\n",
       "    .dataframe tbody tr th {\n",
       "        vertical-align: top;\n",
       "    }\n",
       "\n",
       "    .dataframe thead th {\n",
       "        text-align: right;\n",
       "    }\n",
       "</style>\n",
       "<table border=\"1\" class=\"dataframe\">\n",
       "  <thead>\n",
       "    <tr style=\"text-align: right;\">\n",
       "      <th></th>\n",
       "      <th>station_id</th>\n",
       "      <th>reports_#</th>\n",
       "      <th>adj_reports</th>\n",
       "      <th>station_id_norm</th>\n",
       "      <th>prcp_mm_22</th>\n",
       "      <th>daily_snow_mm</th>\n",
       "      <th>norm_prcp_daily_avg</th>\n",
       "      <th>norm_snow_daily_avg</th>\n",
       "      <th>norm_prcp_mm_total</th>\n",
       "      <th>norm_snow_mm_total</th>\n",
       "    </tr>\n",
       "  </thead>\n",
       "  <tbody>\n",
       "    <tr>\n",
       "      <th>72786</th>\n",
       "      <td>WA-KG-192</td>\n",
       "      <td>122</td>\n",
       "      <td>127</td>\n",
       "      <td>WA-KG-239</td>\n",
       "      <td>898.9</td>\n",
       "      <td>71.0</td>\n",
       "      <td>2.983333</td>\n",
       "      <td>0.000000</td>\n",
       "      <td>1431.425000</td>\n",
       "      <td>71.000000</td>\n",
       "    </tr>\n",
       "    <tr>\n",
       "      <th>123691</th>\n",
       "      <td>WA-KG-192</td>\n",
       "      <td>122</td>\n",
       "      <td>127</td>\n",
       "      <td>WA-KG-229</td>\n",
       "      <td>898.9</td>\n",
       "      <td>71.0</td>\n",
       "      <td>3.178655</td>\n",
       "      <td>0.000000</td>\n",
       "      <td>1466.289912</td>\n",
       "      <td>71.000000</td>\n",
       "    </tr>\n",
       "    <tr>\n",
       "      <th>158699</th>\n",
       "      <td>WA-KG-210</td>\n",
       "      <td>213</td>\n",
       "      <td>222</td>\n",
       "      <td>WA-KG-258</td>\n",
       "      <td>997.2</td>\n",
       "      <td>0.0</td>\n",
       "      <td>3.252000</td>\n",
       "      <td>0.108571</td>\n",
       "      <td>1345.977000</td>\n",
       "      <td>0.000000</td>\n",
       "    </tr>\n",
       "    <tr>\n",
       "      <th>128433</th>\n",
       "      <td>WA-KG-263</td>\n",
       "      <td>199</td>\n",
       "      <td>207</td>\n",
       "      <td>WA-KG-229</td>\n",
       "      <td>1032.0</td>\n",
       "      <td>0.0</td>\n",
       "      <td>3.178655</td>\n",
       "      <td>0.000000</td>\n",
       "      <td>1408.670614</td>\n",
       "      <td>0.000000</td>\n",
       "    </tr>\n",
       "    <tr>\n",
       "      <th>158720</th>\n",
       "      <td>WA-KG-263</td>\n",
       "      <td>199</td>\n",
       "      <td>207</td>\n",
       "      <td>WA-KG-234</td>\n",
       "      <td>1032.0</td>\n",
       "      <td>0.0</td>\n",
       "      <td>3.064516</td>\n",
       "      <td>0.000000</td>\n",
       "      <td>1395.145161</td>\n",
       "      <td>0.000000</td>\n",
       "    </tr>\n",
       "    <tr>\n",
       "      <th>27595</th>\n",
       "      <td>WA-KG-280</td>\n",
       "      <td>50</td>\n",
       "      <td>52</td>\n",
       "      <td>WA-KG-238</td>\n",
       "      <td>444.8</td>\n",
       "      <td>0.0</td>\n",
       "      <td>3.002041</td>\n",
       "      <td>0.072886</td>\n",
       "      <td>1149.529082</td>\n",
       "      <td>0.000000</td>\n",
       "    </tr>\n",
       "    <tr>\n",
       "      <th>74398</th>\n",
       "      <td>WA-KG-280</td>\n",
       "      <td>50</td>\n",
       "      <td>52</td>\n",
       "      <td>WA-KG-239</td>\n",
       "      <td>444.8</td>\n",
       "      <td>0.0</td>\n",
       "      <td>2.983333</td>\n",
       "      <td>0.000000</td>\n",
       "      <td>1145.137500</td>\n",
       "      <td>0.000000</td>\n",
       "    </tr>\n",
       "    <tr>\n",
       "      <th>126456</th>\n",
       "      <td>WA-KG-280</td>\n",
       "      <td>50</td>\n",
       "      <td>52</td>\n",
       "      <td>WA-KG-229</td>\n",
       "      <td>444.8</td>\n",
       "      <td>0.0</td>\n",
       "      <td>3.178655</td>\n",
       "      <td>0.000000</td>\n",
       "      <td>1190.989254</td>\n",
       "      <td>0.000000</td>\n",
       "    </tr>\n",
       "    <tr>\n",
       "      <th>8131</th>\n",
       "      <td>WA-KG-287</td>\n",
       "      <td>236</td>\n",
       "      <td>245</td>\n",
       "      <td>WA-KG-225</td>\n",
       "      <td>1138.7</td>\n",
       "      <td>35.0</td>\n",
       "      <td>3.061918</td>\n",
       "      <td>0.536986</td>\n",
       "      <td>1414.272603</td>\n",
       "      <td>83.328767</td>\n",
       "    </tr>\n",
       "    <tr>\n",
       "      <th>84473</th>\n",
       "      <td>WA-KG-287</td>\n",
       "      <td>236</td>\n",
       "      <td>245</td>\n",
       "      <td>WA-KG-272</td>\n",
       "      <td>1138.7</td>\n",
       "      <td>35.0</td>\n",
       "      <td>3.020192</td>\n",
       "      <td>0.000000</td>\n",
       "      <td>1410.517308</td>\n",
       "      <td>35.000000</td>\n",
       "    </tr>\n",
       "    <tr>\n",
       "      <th>101516</th>\n",
       "      <td>WA-KG-287</td>\n",
       "      <td>236</td>\n",
       "      <td>245</td>\n",
       "      <td>WA-KG-5</td>\n",
       "      <td>1138.7</td>\n",
       "      <td>35.0</td>\n",
       "      <td>2.858630</td>\n",
       "      <td>0.230137</td>\n",
       "      <td>1395.976712</td>\n",
       "      <td>55.712329</td>\n",
       "    </tr>\n",
       "    <tr>\n",
       "      <th>102782</th>\n",
       "      <td>WA-KG-287</td>\n",
       "      <td>236</td>\n",
       "      <td>245</td>\n",
       "      <td>WA-KG-204</td>\n",
       "      <td>1138.7</td>\n",
       "      <td>35.0</td>\n",
       "      <td>2.874006</td>\n",
       "      <td>0.000000</td>\n",
       "      <td>1397.360550</td>\n",
       "      <td>35.000000</td>\n",
       "    </tr>\n",
       "    <tr>\n",
       "      <th>27562</th>\n",
       "      <td>WA-KG-297</td>\n",
       "      <td>61</td>\n",
       "      <td>63</td>\n",
       "      <td>WA-KG-238</td>\n",
       "      <td>452.2</td>\n",
       "      <td>0.0</td>\n",
       "      <td>3.002041</td>\n",
       "      <td>0.072886</td>\n",
       "      <td>1132.162245</td>\n",
       "      <td>0.000000</td>\n",
       "    </tr>\n",
       "    <tr>\n",
       "      <th>123679</th>\n",
       "      <td>WA-KG-297</td>\n",
       "      <td>61</td>\n",
       "      <td>63</td>\n",
       "      <td>WA-KG-229</td>\n",
       "      <td>452.2</td>\n",
       "      <td>0.0</td>\n",
       "      <td>3.178655</td>\n",
       "      <td>0.000000</td>\n",
       "      <td>1172.165351</td>\n",
       "      <td>0.000000</td>\n",
       "    </tr>\n",
       "    <tr>\n",
       "      <th>52700</th>\n",
       "      <td>WA-KG-301</td>\n",
       "      <td>52</td>\n",
       "      <td>54</td>\n",
       "      <td>WA-KG-239</td>\n",
       "      <td>405.2</td>\n",
       "      <td>0.0</td>\n",
       "      <td>2.983333</td>\n",
       "      <td>0.000000</td>\n",
       "      <td>1101.062500</td>\n",
       "      <td>0.000000</td>\n",
       "    </tr>\n",
       "  </tbody>\n",
       "</table>\n",
       "</div>"
      ],
      "text/plain": [
       "       station_id  reports_#  adj_reports station_id_norm  prcp_mm_22  \\\n",
       "72786   WA-KG-192        122          127       WA-KG-239       898.9   \n",
       "123691  WA-KG-192        122          127       WA-KG-229       898.9   \n",
       "158699  WA-KG-210        213          222       WA-KG-258       997.2   \n",
       "128433  WA-KG-263        199          207       WA-KG-229      1032.0   \n",
       "158720  WA-KG-263        199          207       WA-KG-234      1032.0   \n",
       "27595   WA-KG-280         50           52       WA-KG-238       444.8   \n",
       "74398   WA-KG-280         50           52       WA-KG-239       444.8   \n",
       "126456  WA-KG-280         50           52       WA-KG-229       444.8   \n",
       "8131    WA-KG-287        236          245       WA-KG-225      1138.7   \n",
       "84473   WA-KG-287        236          245       WA-KG-272      1138.7   \n",
       "101516  WA-KG-287        236          245         WA-KG-5      1138.7   \n",
       "102782  WA-KG-287        236          245       WA-KG-204      1138.7   \n",
       "27562   WA-KG-297         61           63       WA-KG-238       452.2   \n",
       "123679  WA-KG-297         61           63       WA-KG-229       452.2   \n",
       "52700   WA-KG-301         52           54       WA-KG-239       405.2   \n",
       "\n",
       "        daily_snow_mm  norm_prcp_daily_avg  norm_snow_daily_avg  \\\n",
       "72786            71.0             2.983333             0.000000   \n",
       "123691           71.0             3.178655             0.000000   \n",
       "158699            0.0             3.252000             0.108571   \n",
       "128433            0.0             3.178655             0.000000   \n",
       "158720            0.0             3.064516             0.000000   \n",
       "27595             0.0             3.002041             0.072886   \n",
       "74398             0.0             2.983333             0.000000   \n",
       "126456            0.0             3.178655             0.000000   \n",
       "8131             35.0             3.061918             0.536986   \n",
       "84473            35.0             3.020192             0.000000   \n",
       "101516           35.0             2.858630             0.230137   \n",
       "102782           35.0             2.874006             0.000000   \n",
       "27562             0.0             3.002041             0.072886   \n",
       "123679            0.0             3.178655             0.000000   \n",
       "52700             0.0             2.983333             0.000000   \n",
       "\n",
       "        norm_prcp_mm_total  norm_snow_mm_total  \n",
       "72786          1431.425000           71.000000  \n",
       "123691         1466.289912           71.000000  \n",
       "158699         1345.977000            0.000000  \n",
       "128433         1408.670614            0.000000  \n",
       "158720         1395.145161            0.000000  \n",
       "27595          1149.529082            0.000000  \n",
       "74398          1145.137500            0.000000  \n",
       "126456         1190.989254            0.000000  \n",
       "8131           1414.272603           83.328767  \n",
       "84473          1410.517308           35.000000  \n",
       "101516         1395.976712           55.712329  \n",
       "102782         1397.360550           35.000000  \n",
       "27562          1132.162245            0.000000  \n",
       "123679         1172.165351            0.000000  \n",
       "52700          1101.062500            0.000000  "
      ]
     },
     "execution_count": 61,
     "metadata": {},
     "output_type": "execute_result"
    }
   ],
   "source": [
    "#test replacement of values on a smaller df - create new dataframe\n",
    "test_df = trees_climate_normalized[trees_climate_normalized['station_id'].isin(trees_climate_normalized['station_id'].unique())]\n",
    "\n",
    "test_df"
   ]
  },
  {
   "cell_type": "code",
   "execution_count": 62,
   "metadata": {},
   "outputs": [
    {
     "data": {
      "text/plain": [
       "station_id  adj_reports\n",
       " WA-KG-239  330            16065\n",
       " WA-KG-204  327            12400\n",
       " WA-KG-280  110            11640\n",
       " WA-KG-225  365            11625\n",
       " WA-KG-258  350            11472\n",
       " WA-KG-287  309            10224\n",
       " WA-KG-200  302             9474\n",
       " WA-KG-79   233             8940\n",
       " WA-KG-266  246             8921\n",
       " WA-KG-243  3               8778\n",
       " WA-KG-272  312             8279\n",
       " WA-KG-294  224             6749\n",
       " WA-KG-301  66              6495\n",
       " WA-KG-229  342             4918\n",
       " WA-KG-238  343             4825\n",
       " WA-KG-192  172             4377\n",
       " WA-KG-199  17              4194\n",
       " WA-KG-72   356             2565\n",
       " WA-KG-234  341             2544\n",
       " WA-KG-145  93              2369\n",
       " WA-KG-33   365             1830\n",
       " WA-KG-286  32              1138\n",
       " WA-KG-299  90               796\n",
       " WA-KG-297  90               676\n",
       " WA-KG-263  207              492\n",
       " WA-KG-5    365              236\n",
       " WA-KG-81   365               34\n",
       " WA-KG-210  365               21\n",
       "dtype: int64"
      ]
     },
     "execution_count": 62,
     "metadata": {},
     "output_type": "execute_result"
    }
   ],
   "source": [
    "#replace old adj_reports values with manually counted values .replace()\n",
    "trees_climate['adj_reports'] = trees_climate['adj_reports'].replace(manual_report_count)\n",
    "\n",
    "#validate results\n",
    "trees_climate[['station_id','adj_reports']].value_counts()"
   ]
  },
  {
   "cell_type": "code",
   "execution_count": 63,
   "metadata": {},
   "outputs": [
    {
     "name": "stdout",
     "output_type": "stream",
     "text": [
      "(162077, 28)\n",
      "(162077, 28)\n"
     ]
    }
   ],
   "source": [
    "#Now that my adj_report numbers are updated, I'll re-do my calculated 'total' fields under the new assumptions\n",
    "#But first, will all these changes, let's update to a new replicated df\n",
    "trees_climate_updated = trees_climate.reset_index(drop=True)\n",
    "\n",
    "#Let's again remove the excess text if it is there\n",
    "trees_climate_updated['station_id'] = trees_climate_updated['station_id'].str.split().str.join(' ')\n",
    "\n",
    "print(trees_climate.shape)\n",
    "print(trees_climate_updated.shape)"
   ]
  },
  {
   "cell_type": "code",
   "execution_count": 64,
   "metadata": {},
   "outputs": [],
   "source": [
    "#reuse my formulas from above\n",
    "trees_climate_updated['norm_prcp_mm_total'] = trees_climate_updated['prcp_mm_22'] + ((365-trees_climate_updated['adj_reports'])*trees_climate_updated['norm_prcp_daily_avg']*0.75)\n",
    "\n",
    "#fill in missing days with daily avg prcp from our nearest \"complete\" station\n",
    "trees_climate_updated['norm_snow_mm_total'] = np.where(trees_climate_updated['daily_snow_mm'] > 0, trees_climate_updated['daily_snow_mm'] + ((365-trees_climate_updated['adj_reports'])*trees_climate_updated['norm_snow_daily_avg']*0.75), trees_climate_updated['daily_snow_mm'])"
   ]
  },
  {
   "cell_type": "code",
   "execution_count": 65,
   "metadata": {},
   "outputs": [
    {
     "data": {
      "text/html": [
       "<div>\n",
       "<style scoped>\n",
       "    .dataframe tbody tr th:only-of-type {\n",
       "        vertical-align: middle;\n",
       "    }\n",
       "\n",
       "    .dataframe tbody tr th {\n",
       "        vertical-align: top;\n",
       "    }\n",
       "\n",
       "    .dataframe thead th {\n",
       "        text-align: right;\n",
       "    }\n",
       "</style>\n",
       "<table border=\"1\" class=\"dataframe\">\n",
       "  <thead>\n",
       "    <tr style=\"text-align: right;\">\n",
       "      <th></th>\n",
       "      <th>station_id</th>\n",
       "      <th>reports_#</th>\n",
       "      <th>adj_reports</th>\n",
       "      <th>station_id_norm</th>\n",
       "      <th>prcp_mm_22</th>\n",
       "      <th>daily_snow_mm</th>\n",
       "      <th>norm_prcp_daily_avg</th>\n",
       "      <th>norm_snow_daily_avg</th>\n",
       "      <th>norm_prcp_mm_total</th>\n",
       "      <th>norm_snow_mm_total</th>\n",
       "    </tr>\n",
       "  </thead>\n",
       "  <tbody>\n",
       "    <tr>\n",
       "      <th>72784</th>\n",
       "      <td>WA-KG-192</td>\n",
       "      <td>122</td>\n",
       "      <td>172</td>\n",
       "      <td>WA-KG-239</td>\n",
       "      <td>898.9</td>\n",
       "      <td>71.0</td>\n",
       "      <td>2.983333</td>\n",
       "      <td>0.000000</td>\n",
       "      <td>1330.737500</td>\n",
       "      <td>71.000000</td>\n",
       "    </tr>\n",
       "    <tr>\n",
       "      <th>123688</th>\n",
       "      <td>WA-KG-192</td>\n",
       "      <td>122</td>\n",
       "      <td>172</td>\n",
       "      <td>WA-KG-229</td>\n",
       "      <td>898.9</td>\n",
       "      <td>71.0</td>\n",
       "      <td>3.178655</td>\n",
       "      <td>0.000000</td>\n",
       "      <td>1359.010307</td>\n",
       "      <td>71.000000</td>\n",
       "    </tr>\n",
       "    <tr>\n",
       "      <th>128430</th>\n",
       "      <td>WA-KG-263</td>\n",
       "      <td>199</td>\n",
       "      <td>207</td>\n",
       "      <td>WA-KG-229</td>\n",
       "      <td>1032.0</td>\n",
       "      <td>0.0</td>\n",
       "      <td>3.178655</td>\n",
       "      <td>0.000000</td>\n",
       "      <td>1408.670614</td>\n",
       "      <td>0.000000</td>\n",
       "    </tr>\n",
       "    <tr>\n",
       "      <th>158717</th>\n",
       "      <td>WA-KG-263</td>\n",
       "      <td>199</td>\n",
       "      <td>207</td>\n",
       "      <td>WA-KG-234</td>\n",
       "      <td>1032.0</td>\n",
       "      <td>0.0</td>\n",
       "      <td>3.064516</td>\n",
       "      <td>0.000000</td>\n",
       "      <td>1395.145161</td>\n",
       "      <td>0.000000</td>\n",
       "    </tr>\n",
       "    <tr>\n",
       "      <th>8131</th>\n",
       "      <td>WA-KG-287</td>\n",
       "      <td>236</td>\n",
       "      <td>309</td>\n",
       "      <td>WA-KG-225</td>\n",
       "      <td>1138.7</td>\n",
       "      <td>35.0</td>\n",
       "      <td>3.061918</td>\n",
       "      <td>0.536986</td>\n",
       "      <td>1267.300548</td>\n",
       "      <td>57.553425</td>\n",
       "    </tr>\n",
       "    <tr>\n",
       "      <th>84470</th>\n",
       "      <td>WA-KG-287</td>\n",
       "      <td>236</td>\n",
       "      <td>309</td>\n",
       "      <td>WA-KG-272</td>\n",
       "      <td>1138.7</td>\n",
       "      <td>35.0</td>\n",
       "      <td>3.020192</td>\n",
       "      <td>0.000000</td>\n",
       "      <td>1265.548077</td>\n",
       "      <td>35.000000</td>\n",
       "    </tr>\n",
       "    <tr>\n",
       "      <th>101513</th>\n",
       "      <td>WA-KG-287</td>\n",
       "      <td>236</td>\n",
       "      <td>309</td>\n",
       "      <td>WA-KG-5</td>\n",
       "      <td>1138.7</td>\n",
       "      <td>35.0</td>\n",
       "      <td>2.858630</td>\n",
       "      <td>0.230137</td>\n",
       "      <td>1258.762466</td>\n",
       "      <td>44.665753</td>\n",
       "    </tr>\n",
       "    <tr>\n",
       "      <th>102779</th>\n",
       "      <td>WA-KG-287</td>\n",
       "      <td>236</td>\n",
       "      <td>309</td>\n",
       "      <td>WA-KG-204</td>\n",
       "      <td>1138.7</td>\n",
       "      <td>35.0</td>\n",
       "      <td>2.874006</td>\n",
       "      <td>0.000000</td>\n",
       "      <td>1259.408257</td>\n",
       "      <td>35.000000</td>\n",
       "    </tr>\n",
       "  </tbody>\n",
       "</table>\n",
       "</div>"
      ],
      "text/plain": [
       "       station_id  reports_#  adj_reports station_id_norm  prcp_mm_22  \\\n",
       "72784   WA-KG-192        122          172       WA-KG-239       898.9   \n",
       "123688  WA-KG-192        122          172       WA-KG-229       898.9   \n",
       "128430  WA-KG-263        199          207       WA-KG-229      1032.0   \n",
       "158717  WA-KG-263        199          207       WA-KG-234      1032.0   \n",
       "8131    WA-KG-287        236          309       WA-KG-225      1138.7   \n",
       "84470   WA-KG-287        236          309       WA-KG-272      1138.7   \n",
       "101513  WA-KG-287        236          309         WA-KG-5      1138.7   \n",
       "102779  WA-KG-287        236          309       WA-KG-204      1138.7   \n",
       "\n",
       "        daily_snow_mm  norm_prcp_daily_avg  norm_snow_daily_avg  \\\n",
       "72784            71.0             2.983333             0.000000   \n",
       "123688           71.0             3.178655             0.000000   \n",
       "128430            0.0             3.178655             0.000000   \n",
       "158717            0.0             3.064516             0.000000   \n",
       "8131             35.0             3.061918             0.536986   \n",
       "84470            35.0             3.020192             0.000000   \n",
       "101513           35.0             2.858630             0.230137   \n",
       "102779           35.0             2.874006             0.000000   \n",
       "\n",
       "        norm_prcp_mm_total  norm_snow_mm_total  \n",
       "72784          1330.737500           71.000000  \n",
       "123688         1359.010307           71.000000  \n",
       "128430         1408.670614            0.000000  \n",
       "158717         1395.145161            0.000000  \n",
       "8131           1267.300548           57.553425  \n",
       "84470          1265.548077           35.000000  \n",
       "101513         1258.762466           44.665753  \n",
       "102779         1259.408257           35.000000  "
      ]
     },
     "execution_count": 65,
     "metadata": {},
     "output_type": "execute_result"
    }
   ],
   "source": [
    "#Create another unique df with my fields in question\n",
    "unique_updated = trees_climate_updated[['station_id','reports_#','adj_reports','station_id_norm','prcp_mm_22','daily_snow_mm','norm_prcp_daily_avg','norm_snow_daily_avg','norm_prcp_mm_total','norm_snow_mm_total']].drop_duplicates()\n",
    "\n",
    "#Now let's recheck values, this time above 1,200\n",
    "unique_updated[(unique_updated['reports_#'] < 300) & (unique_updated['norm_prcp_mm_total'] > 1200.0)].sort_values('station_id')"
   ]
  },
  {
   "cell_type": "code",
   "execution_count": 66,
   "metadata": {},
   "outputs": [
    {
     "data": {
      "image/png": "[encoded data removed]",
      "text/plain": [
       "<Figure size 640x480 with 1 Axes>"
      ]
     },
     "metadata": {},
     "output_type": "display_data"
    }
   ],
   "source": [
    "#With those updated, let's take a look at our distribution of precipitation\n",
    "plt.hist(trees_climate_updated['norm_prcp_mm_total'])\n",
    "plt.show()"
   ]
  },
  {
   "cell_type": "code",
   "execution_count": 67,
   "metadata": {},
   "outputs": [
    {
     "data": {
      "text/html": [
       "<div>\n",
       "<style scoped>\n",
       "    .dataframe tbody tr th:only-of-type {\n",
       "        vertical-align: middle;\n",
       "    }\n",
       "\n",
       "    .dataframe tbody tr th {\n",
       "        vertical-align: top;\n",
       "    }\n",
       "\n",
       "    .dataframe thead th {\n",
       "        text-align: right;\n",
       "    }\n",
       "</style>\n",
       "<table border=\"1\" class=\"dataframe\">\n",
       "  <thead>\n",
       "    <tr style=\"text-align: right;\">\n",
       "      <th></th>\n",
       "      <th>station_id</th>\n",
       "      <th>reports_#</th>\n",
       "      <th>adj_reports</th>\n",
       "      <th>station_id_norm</th>\n",
       "      <th>prcp_mm_22</th>\n",
       "      <th>daily_snow_mm</th>\n",
       "      <th>norm_prcp_daily_avg</th>\n",
       "      <th>norm_snow_daily_avg</th>\n",
       "      <th>norm_prcp_mm_total</th>\n",
       "      <th>norm_snow_mm_total</th>\n",
       "    </tr>\n",
       "  </thead>\n",
       "  <tbody>\n",
       "    <tr>\n",
       "      <th>85172</th>\n",
       "      <td>WA-KG-200</td>\n",
       "      <td>290</td>\n",
       "      <td>302</td>\n",
       "      <td>WA-KG-272</td>\n",
       "      <td>669.3</td>\n",
       "      <td>8.0</td>\n",
       "      <td>3.020192</td>\n",
       "      <td>0.000000</td>\n",
       "      <td>812.004087</td>\n",
       "      <td>8.000000</td>\n",
       "    </tr>\n",
       "    <tr>\n",
       "      <th>118688</th>\n",
       "      <td>WA-KG-200</td>\n",
       "      <td>290</td>\n",
       "      <td>302</td>\n",
       "      <td>WA-KG-204</td>\n",
       "      <td>669.3</td>\n",
       "      <td>8.0</td>\n",
       "      <td>2.874006</td>\n",
       "      <td>0.000000</td>\n",
       "      <td>805.096789</td>\n",
       "      <td>8.000000</td>\n",
       "    </tr>\n",
       "    <tr>\n",
       "      <th>145247</th>\n",
       "      <td>WA-KG-200</td>\n",
       "      <td>290</td>\n",
       "      <td>302</td>\n",
       "      <td>WA-KG-258</td>\n",
       "      <td>669.3</td>\n",
       "      <td>8.0</td>\n",
       "      <td>3.252000</td>\n",
       "      <td>0.108571</td>\n",
       "      <td>822.957000</td>\n",
       "      <td>13.130000</td>\n",
       "    </tr>\n",
       "    <tr>\n",
       "      <th>118498</th>\n",
       "      <td>WA-KG-243</td>\n",
       "      <td>3</td>\n",
       "      <td>3</td>\n",
       "      <td>WA-KG-204</td>\n",
       "      <td>0.0</td>\n",
       "      <td>48.0</td>\n",
       "      <td>2.874006</td>\n",
       "      <td>0.000000</td>\n",
       "      <td>780.292661</td>\n",
       "      <td>48.000000</td>\n",
       "    </tr>\n",
       "    <tr>\n",
       "      <th>134094</th>\n",
       "      <td>WA-KG-243</td>\n",
       "      <td>3</td>\n",
       "      <td>3</td>\n",
       "      <td>WA-KG-72</td>\n",
       "      <td>0.0</td>\n",
       "      <td>48.0</td>\n",
       "      <td>2.894101</td>\n",
       "      <td>0.143258</td>\n",
       "      <td>785.748455</td>\n",
       "      <td>86.894663</td>\n",
       "    </tr>\n",
       "    <tr>\n",
       "      <th>142273</th>\n",
       "      <td>WA-KG-243</td>\n",
       "      <td>3</td>\n",
       "      <td>3</td>\n",
       "      <td>WA-KG-258</td>\n",
       "      <td>0.0</td>\n",
       "      <td>48.0</td>\n",
       "      <td>3.252000</td>\n",
       "      <td>0.108571</td>\n",
       "      <td>882.918000</td>\n",
       "      <td>77.477143</td>\n",
       "    </tr>\n",
       "    <tr>\n",
       "      <th>100868</th>\n",
       "      <td>WA-KG-286</td>\n",
       "      <td>31</td>\n",
       "      <td>32</td>\n",
       "      <td>WA-KG-272</td>\n",
       "      <td>181.6</td>\n",
       "      <td>0.0</td>\n",
       "      <td>3.020192</td>\n",
       "      <td>0.000000</td>\n",
       "      <td>935.893029</td>\n",
       "      <td>0.000000</td>\n",
       "    </tr>\n",
       "    <tr>\n",
       "      <th>66035</th>\n",
       "      <td>WA-KG-294</td>\n",
       "      <td>215</td>\n",
       "      <td>224</td>\n",
       "      <td>WA-KG-239</td>\n",
       "      <td>421.9</td>\n",
       "      <td>0.0</td>\n",
       "      <td>2.983333</td>\n",
       "      <td>0.000000</td>\n",
       "      <td>737.387500</td>\n",
       "      <td>0.000000</td>\n",
       "    </tr>\n",
       "    <tr>\n",
       "      <th>123358</th>\n",
       "      <td>WA-KG-299</td>\n",
       "      <td>61</td>\n",
       "      <td>90</td>\n",
       "      <td>WA-KG-33</td>\n",
       "      <td>369.3</td>\n",
       "      <td>0.0</td>\n",
       "      <td>2.726301</td>\n",
       "      <td>0.284932</td>\n",
       "      <td>931.599658</td>\n",
       "      <td>0.000000</td>\n",
       "    </tr>\n",
       "    <tr>\n",
       "      <th>59193</th>\n",
       "      <td>WA-KG-79</td>\n",
       "      <td>224</td>\n",
       "      <td>233</td>\n",
       "      <td>WA-KG-239</td>\n",
       "      <td>638.8</td>\n",
       "      <td>13.0</td>\n",
       "      <td>2.983333</td>\n",
       "      <td>0.000000</td>\n",
       "      <td>934.150000</td>\n",
       "      <td>13.000000</td>\n",
       "    </tr>\n",
       "    <tr>\n",
       "      <th>116400</th>\n",
       "      <td>WA-KG-79</td>\n",
       "      <td>224</td>\n",
       "      <td>233</td>\n",
       "      <td>WA-KG-204</td>\n",
       "      <td>638.8</td>\n",
       "      <td>13.0</td>\n",
       "      <td>2.874006</td>\n",
       "      <td>0.000000</td>\n",
       "      <td>923.326606</td>\n",
       "      <td>13.000000</td>\n",
       "    </tr>\n",
       "  </tbody>\n",
       "</table>\n",
       "</div>"
      ],
      "text/plain": [
       "       station_id  reports_#  adj_reports station_id_norm  prcp_mm_22  \\\n",
       "85172   WA-KG-200        290          302       WA-KG-272       669.3   \n",
       "118688  WA-KG-200        290          302       WA-KG-204       669.3   \n",
       "145247  WA-KG-200        290          302       WA-KG-258       669.3   \n",
       "118498  WA-KG-243          3            3       WA-KG-204         0.0   \n",
       "134094  WA-KG-243          3            3        WA-KG-72         0.0   \n",
       "142273  WA-KG-243          3            3       WA-KG-258         0.0   \n",
       "100868  WA-KG-286         31           32       WA-KG-272       181.6   \n",
       "66035   WA-KG-294        215          224       WA-KG-239       421.9   \n",
       "123358  WA-KG-299         61           90        WA-KG-33       369.3   \n",
       "59193    WA-KG-79        224          233       WA-KG-239       638.8   \n",
       "116400   WA-KG-79        224          233       WA-KG-204       638.8   \n",
       "\n",
       "        daily_snow_mm  norm_prcp_daily_avg  norm_snow_daily_avg  \\\n",
       "85172             8.0             3.020192             0.000000   \n",
       "118688            8.0             2.874006             0.000000   \n",
       "145247            8.0             3.252000             0.108571   \n",
       "118498           48.0             2.874006             0.000000   \n",
       "134094           48.0             2.894101             0.143258   \n",
       "142273           48.0             3.252000             0.108571   \n",
       "100868            0.0             3.020192             0.000000   \n",
       "66035             0.0             2.983333             0.000000   \n",
       "123358            0.0             2.726301             0.284932   \n",
       "59193            13.0             2.983333             0.000000   \n",
       "116400           13.0             2.874006             0.000000   \n",
       "\n",
       "        norm_prcp_mm_total  norm_snow_mm_total  \n",
       "85172           812.004087            8.000000  \n",
       "118688          805.096789            8.000000  \n",
       "145247          822.957000           13.130000  \n",
       "118498          780.292661           48.000000  \n",
       "134094          785.748455           86.894663  \n",
       "142273          882.918000           77.477143  \n",
       "100868          935.893029            0.000000  \n",
       "66035           737.387500            0.000000  \n",
       "123358          931.599658            0.000000  \n",
       "59193           934.150000           13.000000  \n",
       "116400          923.326606           13.000000  "
      ]
     },
     "execution_count": 67,
     "metadata": {},
     "output_type": "execute_result"
    }
   ],
   "source": [
    "#how about abnormally low values below the min of our more complete values?\n",
    "unique_updated[(unique_updated['reports_#'] < 300) & (unique_updated['norm_prcp_mm_total'] < 939.0)].sort_values('station_id')"
   ]
  },
  {
   "cell_type": "code",
   "execution_count": 68,
   "metadata": {},
   "outputs": [],
   "source": [
    "#I don't want to mess with the data too much, but I did a 25% adjustment (75% adj factor) on my imputation based on the assumption that days are more likely to be tracked when there is rain, than when there isn't.\n",
    "#But this breaks down for station WA-KG-243 which had 3 days and 0 rainfall tracked. For this one I will simply imput new values\n",
    "\n",
    "target_station = 'WA-KG-243' #set this up for locating which records to update\n",
    "prcp_median = trees_climate_updated['norm_prcp_mm_total'].median() #using median here since each location will have data and this will normalize it better\n",
    "\n",
    "trees_climate_updated.loc[trees_climate_updated.station_id == target_station, 'norm_prcp_mm_total'] = prcp_median\n"
   ]
  },
  {
   "cell_type": "code",
   "execution_count": 69,
   "metadata": {},
   "outputs": [
    {
     "data": {
      "text/plain": [
       "station_id  norm_prcp_mm_total\n",
       "WA-KG-243   1062.352644           8778\n",
       "dtype: int64"
      ]
     },
     "execution_count": 69,
     "metadata": {},
     "output_type": "execute_result"
    }
   ],
   "source": [
    "#validate that stuck\n",
    "trees_climate_updated[trees_climate_updated['station_id'] == target_station][['station_id','norm_prcp_mm_total']].value_counts()"
   ]
  },
  {
   "cell_type": "code",
   "execution_count": 70,
   "metadata": {},
   "outputs": [
    {
     "data": {
      "image/png": "[encoded data removed]",
      "text/plain": [
       "<Figure size 640x480 with 1 Axes>"
      ]
     },
     "metadata": {},
     "output_type": "display_data"
    }
   ],
   "source": [
    "#Last distribution check - this time on our snowfall\n",
    "plt.hist(trees_climate_updated['norm_snow_mm_total'])\n",
    "plt.show()\n"
   ]
  },
  {
   "cell_type": "code",
   "execution_count": 71,
   "metadata": {},
   "outputs": [
    {
     "data": {
      "text/html": [
       "<div>\n",
       "<style scoped>\n",
       "    .dataframe tbody tr th:only-of-type {\n",
       "        vertical-align: middle;\n",
       "    }\n",
       "\n",
       "    .dataframe tbody tr th {\n",
       "        vertical-align: top;\n",
       "    }\n",
       "\n",
       "    .dataframe thead th {\n",
       "        text-align: right;\n",
       "    }\n",
       "</style>\n",
       "<table border=\"1\" class=\"dataframe\">\n",
       "  <thead>\n",
       "    <tr style=\"text-align: right;\">\n",
       "      <th></th>\n",
       "      <th>station_id</th>\n",
       "      <th>reports_#</th>\n",
       "      <th>adj_reports</th>\n",
       "      <th>station_id_norm</th>\n",
       "      <th>prcp_mm_22</th>\n",
       "      <th>daily_snow_mm</th>\n",
       "      <th>norm_prcp_daily_avg</th>\n",
       "      <th>norm_snow_daily_avg</th>\n",
       "      <th>norm_prcp_mm_total</th>\n",
       "      <th>norm_snow_mm_total</th>\n",
       "    </tr>\n",
       "  </thead>\n",
       "  <tbody>\n",
       "    <tr>\n",
       "      <th>15402</th>\n",
       "      <td>WA-KG-225</td>\n",
       "      <td>356</td>\n",
       "      <td>365</td>\n",
       "      <td>WA-KG-225</td>\n",
       "      <td>1117.6</td>\n",
       "      <td>196.0</td>\n",
       "      <td>3.061918</td>\n",
       "      <td>0.536986</td>\n",
       "      <td>1117.6</td>\n",
       "      <td>196.0</td>\n",
       "    </tr>\n",
       "    <tr>\n",
       "      <th>121528</th>\n",
       "      <td>WA-KG-33</td>\n",
       "      <td>353</td>\n",
       "      <td>365</td>\n",
       "      <td>WA-KG-33</td>\n",
       "      <td>995.1</td>\n",
       "      <td>104.0</td>\n",
       "      <td>2.726301</td>\n",
       "      <td>0.284932</td>\n",
       "      <td>995.1</td>\n",
       "      <td>104.0</td>\n",
       "    </tr>\n",
       "  </tbody>\n",
       "</table>\n",
       "</div>"
      ],
      "text/plain": [
       "       station_id  reports_#  adj_reports station_id_norm  prcp_mm_22  \\\n",
       "15402   WA-KG-225        356          365       WA-KG-225      1117.6   \n",
       "121528   WA-KG-33        353          365        WA-KG-33       995.1   \n",
       "\n",
       "        daily_snow_mm  norm_prcp_daily_avg  norm_snow_daily_avg  \\\n",
       "15402           196.0             3.061918             0.536986   \n",
       "121528          104.0             2.726301             0.284932   \n",
       "\n",
       "        norm_prcp_mm_total  norm_snow_mm_total  \n",
       "15402               1117.6               196.0  \n",
       "121528               995.1               104.0  "
      ]
     },
     "execution_count": 71,
     "metadata": {},
     "output_type": "execute_result"
    }
   ],
   "source": [
    "#We'll go through the same process as with our prcp\n",
    "unique_updated[(unique_updated['reports_#'] < 400) & (unique_updated['norm_snow_mm_total'] > 100)].sort_values('station_id') #filter down to view records"
   ]
  },
  {
   "attachments": {},
   "cell_type": "markdown",
   "metadata": {},
   "source": [
    "This is actually directly from our reported data. Doing some quick searches online at these location and verifying the data pull I can't find any proof this is incorrect. I will leave for now atleast."
   ]
  },
  {
   "attachments": {},
   "cell_type": "markdown",
   "metadata": {},
   "source": [
    "#### 3.5.5 Clean-up Columns\n",
    "\n",
    "With my imputed values in place, I can drop remaining columns we'll no longer need."
   ]
  },
  {
   "cell_type": "code",
   "execution_count": 72,
   "metadata": {},
   "outputs": [
    {
     "data": {
      "text/plain": [
       "(162077, 28)"
      ]
     },
     "execution_count": 72,
     "metadata": {},
     "output_type": "execute_result"
    }
   ],
   "source": [
    "trees_climate_updated.shape"
   ]
  },
  {
   "cell_type": "code",
   "execution_count": 73,
   "metadata": {},
   "outputs": [
    {
     "data": {
      "text/plain": [
       "(162077, 21)"
      ]
     },
     "execution_count": 73,
     "metadata": {},
     "output_type": "execute_result"
    }
   ],
   "source": [
    "#drop all created specifically from our imputing process\n",
    "trees_climate_updated.drop(columns=['prcp_mm_22','daily_snow_mm','norm_prcp_daily_avg','norm_snow_daily_avg','nearest_complete','station_id_norm','norm_station_name'],inplace=True)\n",
    "\n",
    "trees_climate_updated.shape"
   ]
  },
  {
   "attachments": {},
   "cell_type": "markdown",
   "metadata": {},
   "source": [
    "#### 3.5.5 Check Correlation/Covariance"
   ]
  },
  {
   "cell_type": "code",
   "execution_count": 74,
   "metadata": {},
   "outputs": [
    {
     "name": "stderr",
     "output_type": "stream",
     "text": [
      "/var/folders/_z/9zltq2bj1dz1k05g4mtz4gq00000gn/T/ipykernel_2073/4034685785.py:2: FutureWarning: The default value of numeric_only in DataFrame.corr is deprecated. In a future version, it will default to False. Select only valid columns or specify the value of numeric_only to silence this warning.\n",
      "  corrMatrix = trees_climate_updated.drop(columns=['lat_trees','long_trees','lat_prcp','long_prcp']).corr() #do not include lat & lon\n"
     ]
    },
    {
     "data": {
      "text/plain": [
       "[]"
      ]
     },
     "execution_count": 74,
     "metadata": {},
     "output_type": "execute_result"
    },
    {
     "data": {
      "image/png": "[encoded data removed]",
      "text/plain": [
       "<Figure size 800x800 with 2 Axes>"
      ]
     },
     "metadata": {},
     "output_type": "display_data"
    }
   ],
   "source": [
    "#create variable with values\n",
    "corrMatrix = trees_climate_updated.drop(columns=['lat_trees','long_trees','lat_prcp','long_prcp']).corr() #do not include lat & lon\n",
    "\n",
    "fig, ax = plt.subplots(figsize=(8,8))\n",
    "\n",
    "#plot with seaborn\n",
    "sns.heatmap(corrMatrix, annot=True, cmap='coolwarm')\n",
    "\n",
    "plt.plot()"
   ]
  },
  {
   "attachments": {},
   "cell_type": "markdown",
   "metadata": {},
   "source": [
    "**Observations:**\n",
    "\\\n",
    "Well, not a lot of correlation there. Ouch. I'll continue to move forward and plan on using some categorical fields and some non-linear regressions. So we'll see what we can come up with, but this was not totally unexpected when we pivoted from aiming for using this data to predict surface temperature or air quality to having my target feature come out of the trees data itself.\n",
    "\\\n",
    "\\\n",
    "It does flow with what I would expect that there is some correlation between age and diameter, that makes me feel better about the quality of data itself. Same with some slight correlation between precipitation and snow fall. # of reports and adjusted reports are expectedlty very correlated, and if we do find some use for one, I'll drop the other in the next step. But I think calculating a daily average either reported or off of the imputed annual total will be my move.\n",
    "\\\n",
    "\\\n",
    "On to the next!"
   ]
  },
  {
   "attachments": {},
   "cell_type": "markdown",
   "metadata": {},
   "source": [
    "### 3.6 Save Data"
   ]
  },
  {
   "cell_type": "code",
   "execution_count": 75,
   "metadata": {},
   "outputs": [],
   "source": [
    "# save trees data to a new csv\n",
    "filepath = '../data/data_outputs/seattle_trees_explored.csv'\n",
    "trees_climate_updated.to_csv(filepath, index=False)"
   ]
  }
 ],
 "metadata": {
  "kernelspec": {
   "display_name": "ds",
   "language": "python",
   "name": "python3"
  },
  "language_info": {
   "codemirror_mode": {
    "name": "ipython",
    "version": 3
   },
   "file_extension": ".py",
   "mimetype": "text/x-python",
   "name": "python",
   "nbconvert_exporter": "python",
   "pygments_lexer": "ipython3",
   "version": "3.10.9"
  },
  "orig_nbformat": 4
 },
 "nbformat": 4,
 "nbformat_minor": 2
}
