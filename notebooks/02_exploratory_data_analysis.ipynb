{
 "cells": [
  {
   "cell_type": "markdown",
   "metadata": {},
   "source": [
    "### 1.0 Imports"
   ]
  },
  {
   "cell_type": "code",
   "execution_count": 116,
   "metadata": {},
   "outputs": [],
   "source": [
    "import pandas as pd\n",
    "import matplotlib.pyplot as plt\n",
    "import numpy as np\n",
    "import seaborn as sns\n",
    "import os\n",
    "import glob\n",
    "import datetime as dt\n",
    "from math import radians, cos, sin, asin, sqrt"
   ]
  },
  {
   "attachments": {},
   "cell_type": "markdown",
   "metadata": {},
   "source": [
    "### 2.0 Load Data\n",
    "\n",
    "Loading in the cleaned, exported data from my data wrangling step."
   ]
  },
  {
   "cell_type": "code",
   "execution_count": 117,
   "metadata": {},
   "outputs": [],
   "source": [
    "#load trees data\n",
    "trees_data = pd.read_csv('../data/data_outputs/seattle_trees.csv')\n",
    "\n",
    "#load climate data\n",
    "climate_data = pd.read_csv('../data/data_outputs/washington_climate_normals.csv')"
   ]
  },
  {
   "attachments": {},
   "cell_type": "markdown",
   "metadata": {},
   "source": [
    "### 3.0 Explore and Combine Data\n",
    "\n",
    "The first step I have in mind is creating a field that maps each trees to its nearest weather station from my climate normals data.\n",
    "\n",
    "#### 3.1 Tie Together The Two Dataframes Using Lat-Lon\n",
    "\n",
    "##### 3.1.1 Define Functions"
   ]
  },
  {
   "cell_type": "code",
   "execution_count": 118,
   "metadata": {},
   "outputs": [],
   "source": [
    "def dist_b_points(lat1, long1, lat2, long2):\n",
    "    \"\"\"\n",
    "    Calculate the great circle distance between two points \n",
    "    on the earth (specified in decimal degrees). \n",
    "    Credit https://medium.com/analytics-vidhya/finding-nearest-pair-of-latitude-and-longitude-match-using-python-ce50d62af546\n",
    "    \"\"\"\n",
    "    # convert decimal degrees to radians \n",
    "    lat1, long1, lat2, long2 = map(radians, [lat1, long1, lat2, long2])\n",
    "    # haversine formula \n",
    "    dlon = long2 - long1 \n",
    "    dlat = lat2 - lat1 \n",
    "    a = sin(dlat/2)**2 + cos(lat1) * cos(lat2) * sin(dlon/2)**2\n",
    "    c = 2 * asin(sqrt(a)) \n",
    "    # Radius of earth in kilometers is 6371\n",
    "    km = 6371* c\n",
    "    return km"
   ]
  },
  {
   "cell_type": "code",
   "execution_count": 119,
   "metadata": {},
   "outputs": [],
   "source": [
    "def flag_nearest(df, lat, long, field):\n",
    "    \"\"\" \n",
    "    Label the closest weather station using the reults of the dist_b_points function.\n",
    "    Credit https://medium.com/analytics-vidhya/finding-nearest-pair-of-latitude-and-longitude-match-using-python-ce50d62af546\n",
    "    \"\"\"\n",
    "    distances = df.apply(\n",
    "        lambda row: dist_b_points(lat, long, row['lat'], row['long']), axis = 1)\n",
    "    return df.loc[distances.idxmin(), str(field)]"
   ]
  },
  {
   "attachments": {},
   "cell_type": "markdown",
   "metadata": {},
   "source": [
    "##### 3.1.2 Rename Lat-Lons Fields"
   ]
  },
  {
   "cell_type": "code",
   "execution_count": 120,
   "metadata": {},
   "outputs": [
    {
     "name": "stdout",
     "output_type": "stream",
     "text": [
      "<class 'pandas.core.frame.DataFrame'>\n",
      "RangeIndex: 162080 entries, 0 to 162079\n",
      "Data columns (total 10 columns):\n",
      " #   Column                     Non-Null Count   Dtype  \n",
      "---  ------                     --------------   -----  \n",
      " 0   planted_date               159111 non-null  object \n",
      " 1   most_recent_observation    162075 non-null  object \n",
      " 2   common_name                161408 non-null  object \n",
      " 3   longitude_coordinate       162080 non-null  float64\n",
      " 4   latitude_coordinate        162080 non-null  float64\n",
      " 5   diameter_breast_height_CM  162080 non-null  float64\n",
      " 6   condition                  162080 non-null  object \n",
      " 7   native                     162080 non-null  object \n",
      " 8   age_at_obs                 159106 non-null  float64\n",
      " 9   condition_index            162080 non-null  float64\n",
      "dtypes: float64(5), object(5)\n",
      "memory usage: 12.4+ MB\n"
     ]
    }
   ],
   "source": [
    "#Need a reminder of my fields\n",
    "trees_data.info()"
   ]
  },
  {
   "cell_type": "code",
   "execution_count": 121,
   "metadata": {},
   "outputs": [
    {
     "name": "stdout",
     "output_type": "stream",
     "text": [
      "<class 'pandas.core.frame.DataFrame'>\n",
      "RangeIndex: 33 entries, 0 to 32\n",
      "Data columns (total 10 columns):\n",
      " #   Column           Non-Null Count  Dtype  \n",
      "---  ------           --------------  -----  \n",
      " 0   STATION          33 non-null     object \n",
      " 1   LATITUDE         33 non-null     float64\n",
      " 2   LONGITUDE        33 non-null     float64\n",
      " 3   ELEVATION        33 non-null     float64\n",
      " 4   NAME             33 non-null     object \n",
      " 5   ANN-TAVG-NORMAL  33 non-null     float64\n",
      " 6   ANN-TMIN-NORMAL  33 non-null     float64\n",
      " 7   ANN-TMAX-NORMAL  33 non-null     float64\n",
      " 8   ANN-DUTR-NORMAL  33 non-null     float64\n",
      " 9   ANN-PRCP-NORMAL  32 non-null     float64\n",
      "dtypes: float64(8), object(2)\n",
      "memory usage: 2.7+ KB\n"
     ]
    }
   ],
   "source": [
    "climate_data.info()"
   ]
  },
  {
   "cell_type": "code",
   "execution_count": 122,
   "metadata": {},
   "outputs": [],
   "source": [
    "#Rename lat-long fields to easily identify between dfs\n",
    "trees_data.rename(columns = {'longitude_coordinate': 'long_trees', 'latitude_coordinate': 'lat_trees'}, inplace=True)\n",
    "climate_data.rename(columns = {'LONGITUDE': 'long_climate', 'LATITUDE': 'lat_climate'}, inplace=True)"
   ]
  },
  {
   "attachments": {},
   "cell_type": "markdown",
   "metadata": {},
   "source": [
    "##### 3.1.3 Assign Each Tree Record a Unique ID\n",
    "\n",
    "I'm thinking in order to map back into our dataframe the closest station, I'll need to do it off a primary key and I'd rather not do that just off the location."
   ]
  },
  {
   "cell_type": "code",
   "execution_count": 130,
   "metadata": {},
   "outputs": [],
   "source": [
    "\n",
    "#Assign the key numerically, using the index number +1 (to exclude 0)\n",
    "trees_data['tree_id'] = trees_data.index+1"
   ]
  },
  {
   "cell_type": "code",
   "execution_count": 131,
   "metadata": {},
   "outputs": [
    {
     "data": {
      "text/plain": [
       "1         1\n",
       "108057    1\n",
       "108050    1\n",
       "108051    1\n",
       "108052    1\n",
       "         ..\n",
       "54028     1\n",
       "54029     1\n",
       "54030     1\n",
       "54031     1\n",
       "162080    1\n",
       "Name: tree_id, Length: 162080, dtype: int64"
      ]
     },
     "execution_count": 131,
     "metadata": {},
     "output_type": "execute_result"
    }
   ],
   "source": [
    "#Double check values are unique\n",
    "trees_data['tree_id'].value_counts()"
   ]
  },
  {
   "cell_type": "code",
   "execution_count": 132,
   "metadata": {},
   "outputs": [
    {
     "data": {
      "text/html": [
       "<div>\n",
       "<style scoped>\n",
       "    .dataframe tbody tr th:only-of-type {\n",
       "        vertical-align: middle;\n",
       "    }\n",
       "\n",
       "    .dataframe tbody tr th {\n",
       "        vertical-align: top;\n",
       "    }\n",
       "\n",
       "    .dataframe thead th {\n",
       "        text-align: right;\n",
       "    }\n",
       "</style>\n",
       "<table border=\"1\" class=\"dataframe\">\n",
       "  <thead>\n",
       "    <tr style=\"text-align: right;\">\n",
       "      <th></th>\n",
       "      <th>planted_date</th>\n",
       "      <th>most_recent_observation</th>\n",
       "      <th>common_name</th>\n",
       "      <th>long_trees</th>\n",
       "      <th>lat_trees</th>\n",
       "      <th>diameter_breast_height_CM</th>\n",
       "      <th>condition</th>\n",
       "      <th>native</th>\n",
       "      <th>age_at_obs</th>\n",
       "      <th>condition_index</th>\n",
       "      <th>tree_id</th>\n",
       "    </tr>\n",
       "  </thead>\n",
       "  <tbody>\n",
       "    <tr>\n",
       "      <th>0</th>\n",
       "      <td>1991-07-22</td>\n",
       "      <td>2019-04-27</td>\n",
       "      <td>(european) white birch</td>\n",
       "      <td>-122.282080</td>\n",
       "      <td>47.635207</td>\n",
       "      <td>40.64</td>\n",
       "      <td>excellent</td>\n",
       "      <td>introduced</td>\n",
       "      <td>27.765115</td>\n",
       "      <td>5.0</td>\n",
       "      <td>1</td>\n",
       "    </tr>\n",
       "    <tr>\n",
       "      <th>1</th>\n",
       "      <td>1990-08-16</td>\n",
       "      <td>2019-04-27</td>\n",
       "      <td>Red oak</td>\n",
       "      <td>-122.310243</td>\n",
       "      <td>47.597548</td>\n",
       "      <td>33.02</td>\n",
       "      <td>good</td>\n",
       "      <td>introduced</td>\n",
       "      <td>28.696003</td>\n",
       "      <td>4.0</td>\n",
       "      <td>2</td>\n",
       "    </tr>\n",
       "    <tr>\n",
       "      <th>2</th>\n",
       "      <td>1992-06-25</td>\n",
       "      <td>2019-04-27</td>\n",
       "      <td>Apple/crabapple</td>\n",
       "      <td>-122.355204</td>\n",
       "      <td>47.673916</td>\n",
       "      <td>15.24</td>\n",
       "      <td>dead/dying</td>\n",
       "      <td>no_info</td>\n",
       "      <td>26.836964</td>\n",
       "      <td>1.0</td>\n",
       "      <td>3</td>\n",
       "    </tr>\n",
       "    <tr>\n",
       "      <th>3</th>\n",
       "      <td>1991-07-30</td>\n",
       "      <td>2019-04-27</td>\n",
       "      <td>Kwanzan flowering cherry</td>\n",
       "      <td>-122.318952</td>\n",
       "      <td>47.649141</td>\n",
       "      <td>5.08</td>\n",
       "      <td>fair</td>\n",
       "      <td>no_info</td>\n",
       "      <td>27.743212</td>\n",
       "      <td>3.0</td>\n",
       "      <td>4</td>\n",
       "    </tr>\n",
       "    <tr>\n",
       "      <th>4</th>\n",
       "      <td>1991-07-16</td>\n",
       "      <td>2019-04-27</td>\n",
       "      <td>English (hedge) maple</td>\n",
       "      <td>-122.344731</td>\n",
       "      <td>47.613092</td>\n",
       "      <td>15.24</td>\n",
       "      <td>excellent</td>\n",
       "      <td>introduced</td>\n",
       "      <td>27.781542</td>\n",
       "      <td>5.0</td>\n",
       "      <td>5</td>\n",
       "    </tr>\n",
       "  </tbody>\n",
       "</table>\n",
       "</div>"
      ],
      "text/plain": [
       "  planted_date most_recent_observation               common_name  long_trees  \\\n",
       "0   1991-07-22              2019-04-27    (european) white birch -122.282080   \n",
       "1   1990-08-16              2019-04-27                   Red oak -122.310243   \n",
       "2   1992-06-25              2019-04-27           Apple/crabapple -122.355204   \n",
       "3   1991-07-30              2019-04-27  Kwanzan flowering cherry -122.318952   \n",
       "4   1991-07-16              2019-04-27     English (hedge) maple -122.344731   \n",
       "\n",
       "   lat_trees  diameter_breast_height_CM   condition      native  age_at_obs  \\\n",
       "0  47.635207                      40.64   excellent  introduced   27.765115   \n",
       "1  47.597548                      33.02        good  introduced   28.696003   \n",
       "2  47.673916                      15.24  dead/dying     no_info   26.836964   \n",
       "3  47.649141                       5.08        fair     no_info   27.743212   \n",
       "4  47.613092                      15.24   excellent  introduced   27.781542   \n",
       "\n",
       "   condition_index  tree_id  \n",
       "0              5.0        1  \n",
       "1              4.0        2  \n",
       "2              1.0        3  \n",
       "3              3.0        4  \n",
       "4              5.0        5  "
      ]
     },
     "execution_count": 132,
     "metadata": {},
     "output_type": "execute_result"
    }
   ],
   "source": [
    "trees_data.head()"
   ]
  },
  {
   "attachments": {},
   "cell_type": "markdown",
   "metadata": {},
   "source": [
    "##### 3.1.4 Merge Datasets Into a Single Table"
   ]
  },
  {
   "cell_type": "code",
   "execution_count": 126,
   "metadata": {},
   "outputs": [],
   "source": [
    "trees_climate_all = trees_data[['lat_trees','long_trees']]"
   ]
  },
  {
   "cell_type": "code",
   "execution_count": 127,
   "metadata": {},
   "outputs": [
    {
     "name": "stderr",
     "output_type": "stream",
     "text": [
      "/var/folders/_z/9zltq2bj1dz1k05g4mtz4gq00000gn/T/ipykernel_1531/2365701839.py:1: SettingWithCopyWarning: \n",
      "A value is trying to be set on a copy of a slice from a DataFrame.\n",
      "Try using .loc[row_indexer,col_indexer] = value instead\n",
      "\n",
      "See the caveats in the documentation: https://pandas.pydata.org/pandas-docs/stable/user_guide/indexing.html#returning-a-view-versus-a-copy\n",
      "  trees_climate_all['tree_id'] = trees_climate_all[['lat_trees','long_trees']].sum(axis=1).map(hash)\n"
     ]
    }
   ],
   "source": [
    "trees_climate_all['tree_id'] = trees_climate_all[['lat_trees','long_trees']].sum(axis=1).map(hash)"
   ]
  },
  {
   "cell_type": "code",
   "execution_count": 128,
   "metadata": {},
   "outputs": [
    {
     "data": {
      "text/html": [
       "<div>\n",
       "<style scoped>\n",
       "    .dataframe tbody tr th:only-of-type {\n",
       "        vertical-align: middle;\n",
       "    }\n",
       "\n",
       "    .dataframe tbody tr th {\n",
       "        vertical-align: top;\n",
       "    }\n",
       "\n",
       "    .dataframe thead th {\n",
       "        text-align: right;\n",
       "    }\n",
       "</style>\n",
       "<table border=\"1\" class=\"dataframe\">\n",
       "  <thead>\n",
       "    <tr style=\"text-align: right;\">\n",
       "      <th></th>\n",
       "      <th>lat_trees</th>\n",
       "      <th>long_trees</th>\n",
       "      <th>tree_id</th>\n",
       "    </tr>\n",
       "  </thead>\n",
       "  <tbody>\n",
       "    <tr>\n",
       "      <th>0</th>\n",
       "      <td>47.635207</td>\n",
       "      <td>-122.282080</td>\n",
       "      <td>-1491587815483375690</td>\n",
       "    </tr>\n",
       "    <tr>\n",
       "      <th>1</th>\n",
       "      <td>47.597548</td>\n",
       "      <td>-122.310243</td>\n",
       "      <td>-1643362783451545674</td>\n",
       "    </tr>\n",
       "    <tr>\n",
       "      <th>2</th>\n",
       "      <td>47.673916</td>\n",
       "      <td>-122.355204</td>\n",
       "      <td>-1570942042198114378</td>\n",
       "    </tr>\n",
       "    <tr>\n",
       "      <th>3</th>\n",
       "      <td>47.649141</td>\n",
       "      <td>-122.318952</td>\n",
       "      <td>-1544479473013030986</td>\n",
       "    </tr>\n",
       "    <tr>\n",
       "      <th>4</th>\n",
       "      <td>47.613092</td>\n",
       "      <td>-122.344731</td>\n",
       "      <td>-1687043128503304266</td>\n",
       "    </tr>\n",
       "  </tbody>\n",
       "</table>\n",
       "</div>"
      ],
      "text/plain": [
       "   lat_trees  long_trees              tree_id\n",
       "0  47.635207 -122.282080 -1491587815483375690\n",
       "1  47.597548 -122.310243 -1643362783451545674\n",
       "2  47.673916 -122.355204 -1570942042198114378\n",
       "3  47.649141 -122.318952 -1544479473013030986\n",
       "4  47.613092 -122.344731 -1687043128503304266"
      ]
     },
     "execution_count": 128,
     "metadata": {},
     "output_type": "execute_result"
    }
   ],
   "source": [
    "trees_climate_all.head()"
   ]
  },
  {
   "cell_type": "code",
   "execution_count": null,
   "metadata": {},
   "outputs": [],
   "source": []
  },
  {
   "cell_type": "code",
   "execution_count": null,
   "metadata": {},
   "outputs": [],
   "source": []
  },
  {
   "cell_type": "code",
   "execution_count": 129,
   "metadata": {},
   "outputs": [],
   "source": [
    "#dist_b_points(trees_data['lat-trees'], trees_data['long-trees'], climate_data['lat-climate'], climate_data['long-climate'])\n"
   ]
  }
 ],
 "metadata": {
  "kernelspec": {
   "display_name": "ds",
   "language": "python",
   "name": "python3"
  },
  "language_info": {
   "codemirror_mode": {
    "name": "ipython",
    "version": 3
   },
   "file_extension": ".py",
   "mimetype": "text/x-python",
   "name": "python",
   "nbconvert_exporter": "python",
   "pygments_lexer": "ipython3",
   "version": "3.10.9"
  },
  "orig_nbformat": 4
 },
 "nbformat": 4,
 "nbformat_minor": 2
}
