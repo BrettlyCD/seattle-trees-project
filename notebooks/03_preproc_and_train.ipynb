{
 "cells": [
  {
   "attachments": {},
   "cell_type": "markdown",
   "metadata": {},
   "source": [
    "# 3 Pre-Processing & Training\n",
    "\n",
    "In our last step, we did some joining of our data based on latitude and longitude and explored our features. In this next step we will prepare for modeling by tuning our features, and maybe even adding a feature or two. We will have some challenges with finding the right mix and tuning of features when our initial correlation review didn't show much to work with. Maybe more challenging will be how to deal with our fairly imbalanced data.\n",
    "\n",
    "## 3.0 Imports"
   ]
  },
  {
   "cell_type": "code",
   "execution_count": 242,
   "metadata": {},
   "outputs": [],
   "source": [
    "import pandas as pd\n",
    "import matplotlib.pyplot as plt\n",
    "import numpy as np\n",
    "import seaborn as sns\n",
    "import datetime as dt\n",
    "from sklearn.model_selection import train_test_split, cross_validate, GridSearchCV, RepeatedStratifiedKFold, cross_val_score, KFold, RandomizedSearchCV, learning_curve\n",
    "from sklearn.preprocessing import StandardScaler, MinMaxScaler, OneHotEncoder, PowerTransformer\n",
    "from sklearn.impute import SimpleImputer\n",
    "from sklearn.compose import ColumnTransformer\n",
    "from sklearn.pipeline import Pipeline\n",
    "\n",
    "from sklearn.linear_model import LogisticRegression\n",
    "from sklearn.neighbors import KNeighborsClassifier\n",
    "from sklearn.tree import DecisionTreeClassifier\n",
    "from sklearn.ensemble import RandomForestClassifier, AdaBoostClassifier, GradientBoostingClassifier\n",
    "from sklearn.metrics import accuracy_score, f1_score, classification_report, confusion_matrix, recall_score\n",
    "from sklearn import __version__ as sklearn_version\n",
    "\n",
    "from imblearn.over_sampling import SMOTENC #using SMOTENC because it accepts a mix of numeric and categorical values\n",
    "\n",
    "#imports for saving model\n",
    "import os\n",
    "import pickle"
   ]
  },
  {
   "attachments": {},
   "cell_type": "markdown",
   "metadata": {},
   "source": [
    "## 3.1 Load Data"
   ]
  },
  {
   "cell_type": "code",
   "execution_count": 24,
   "metadata": {},
   "outputs": [
    {
     "data": {
      "text/html": [
       "<div>\n",
       "<style scoped>\n",
       "    .dataframe tbody tr th:only-of-type {\n",
       "        vertical-align: middle;\n",
       "    }\n",
       "\n",
       "    .dataframe tbody tr th {\n",
       "        vertical-align: top;\n",
       "    }\n",
       "\n",
       "    .dataframe thead th {\n",
       "        text-align: right;\n",
       "    }\n",
       "</style>\n",
       "<table border=\"1\" class=\"dataframe\">\n",
       "  <thead>\n",
       "    <tr style=\"text-align: right;\">\n",
       "      <th></th>\n",
       "      <th>planted_date</th>\n",
       "      <th>most_recent_observation</th>\n",
       "      <th>common_name</th>\n",
       "      <th>long_trees</th>\n",
       "      <th>lat_trees</th>\n",
       "      <th>diameter_breast_height_CM</th>\n",
       "      <th>condition</th>\n",
       "      <th>native</th>\n",
       "      <th>age_at_obs</th>\n",
       "      <th>condition_index</th>\n",
       "      <th>...</th>\n",
       "      <th>adj_reports</th>\n",
       "      <th>norm_prcp_mm_total</th>\n",
       "      <th>norm_snow_mm_total</th>\n",
       "      <th>distance_between</th>\n",
       "      <th>temp_avg_normal</th>\n",
       "      <th>temp_min_normal</th>\n",
       "      <th>temp_max_normal</th>\n",
       "      <th>temp_range_normal</th>\n",
       "      <th>prcp_mm_normal</th>\n",
       "      <th>tree_id</th>\n",
       "    </tr>\n",
       "  </thead>\n",
       "  <tbody>\n",
       "    <tr>\n",
       "      <th>0</th>\n",
       "      <td>1991-07-22</td>\n",
       "      <td>2019-04-27</td>\n",
       "      <td>(european) white birch</td>\n",
       "      <td>-122.282080</td>\n",
       "      <td>47.635207</td>\n",
       "      <td>40.64</td>\n",
       "      <td>excellent</td>\n",
       "      <td>introduced</td>\n",
       "      <td>27.765115</td>\n",
       "      <td>5.0</td>\n",
       "      <td>...</td>\n",
       "      <td>237</td>\n",
       "      <td>1071.925479</td>\n",
       "      <td>0.0</td>\n",
       "      <td>0.947927</td>\n",
       "      <td>53.2</td>\n",
       "      <td>45.7</td>\n",
       "      <td>60.8</td>\n",
       "      <td>15.0</td>\n",
       "      <td>960.628</td>\n",
       "      <td>1</td>\n",
       "    </tr>\n",
       "    <tr>\n",
       "      <th>1</th>\n",
       "      <td>1991-07-30</td>\n",
       "      <td>2019-04-27</td>\n",
       "      <td>Kwanzan flowering cherry</td>\n",
       "      <td>-122.318952</td>\n",
       "      <td>47.649141</td>\n",
       "      <td>5.08</td>\n",
       "      <td>fair</td>\n",
       "      <td>no_info</td>\n",
       "      <td>27.743212</td>\n",
       "      <td>3.0</td>\n",
       "      <td>...</td>\n",
       "      <td>237</td>\n",
       "      <td>1071.925479</td>\n",
       "      <td>0.0</td>\n",
       "      <td>3.367105</td>\n",
       "      <td>53.2</td>\n",
       "      <td>45.7</td>\n",
       "      <td>60.8</td>\n",
       "      <td>15.0</td>\n",
       "      <td>960.628</td>\n",
       "      <td>2</td>\n",
       "    </tr>\n",
       "    <tr>\n",
       "      <th>2</th>\n",
       "      <td>1991-07-25</td>\n",
       "      <td>2019-04-27</td>\n",
       "      <td>Japanese snowbell tree</td>\n",
       "      <td>-122.299891</td>\n",
       "      <td>47.637863</td>\n",
       "      <td>2.54</td>\n",
       "      <td>excellent</td>\n",
       "      <td>introduced</td>\n",
       "      <td>27.756901</td>\n",
       "      <td>5.0</td>\n",
       "      <td>...</td>\n",
       "      <td>237</td>\n",
       "      <td>1071.925479</td>\n",
       "      <td>0.0</td>\n",
       "      <td>1.145690</td>\n",
       "      <td>53.2</td>\n",
       "      <td>45.7</td>\n",
       "      <td>60.8</td>\n",
       "      <td>15.0</td>\n",
       "      <td>960.628</td>\n",
       "      <td>3</td>\n",
       "    </tr>\n",
       "  </tbody>\n",
       "</table>\n",
       "<p>3 rows × 25 columns</p>\n",
       "</div>"
      ],
      "text/plain": [
       "  planted_date most_recent_observation               common_name  long_trees  \\\n",
       "0   1991-07-22              2019-04-27    (european) white birch -122.282080   \n",
       "1   1991-07-30              2019-04-27  Kwanzan flowering cherry -122.318952   \n",
       "2   1991-07-25              2019-04-27    Japanese snowbell tree -122.299891   \n",
       "\n",
       "   lat_trees  diameter_breast_height_CM  condition      native  age_at_obs  \\\n",
       "0  47.635207                      40.64  excellent  introduced   27.765115   \n",
       "1  47.649141                       5.08       fair     no_info   27.743212   \n",
       "2  47.637863                       2.54  excellent  introduced   27.756901   \n",
       "\n",
       "   condition_index  ... adj_reports norm_prcp_mm_total norm_snow_mm_total  \\\n",
       "0              5.0  ...         237        1071.925479                0.0   \n",
       "1              3.0  ...         237        1071.925479                0.0   \n",
       "2              5.0  ...         237        1071.925479                0.0   \n",
       "\n",
       "   distance_between  temp_avg_normal  temp_min_normal  temp_max_normal  \\\n",
       "0          0.947927             53.2             45.7             60.8   \n",
       "1          3.367105             53.2             45.7             60.8   \n",
       "2          1.145690             53.2             45.7             60.8   \n",
       "\n",
       "   temp_range_normal  prcp_mm_normal  tree_id  \n",
       "0               15.0         960.628        1  \n",
       "1               15.0         960.628        2  \n",
       "2               15.0         960.628        3  \n",
       "\n",
       "[3 rows x 25 columns]"
      ]
     },
     "execution_count": 24,
     "metadata": {},
     "output_type": "execute_result"
    }
   ],
   "source": [
    "trees_df = pd.read_csv('../data/data_outputs/seattle_trees_explored.csv')\n",
    "\n",
    "trees_df.head(3)"
   ]
  },
  {
   "attachments": {},
   "cell_type": "markdown",
   "metadata": {},
   "source": [
    "## 3.2 Prep DF for Train-Test split\n",
    "\n",
    "We'll take another look at the columns, as we can likely drop the additional reference info from our climate 'prcp' data source. And then we'll split our dependent and independent variables.\n",
    "\n",
    "### 3.2.0 Drop Unecessary Columns\n",
    "\n",
    "We'll drop the reference cols from climate data like I mentioned above, but also the 'condition' column because it is duplicative of our target feature. Our tree_id because it has no more use. And our date cols, because we have the calculated age feature that will be our variable related to dates/ages."
   ]
  },
  {
   "cell_type": "code",
   "execution_count": 25,
   "metadata": {},
   "outputs": [
    {
     "name": "stdout",
     "output_type": "stream",
     "text": [
      "<class 'pandas.core.frame.DataFrame'>\n",
      "RangeIndex: 158004 entries, 0 to 158003\n",
      "Data columns (total 25 columns):\n",
      " #   Column                     Non-Null Count   Dtype  \n",
      "---  ------                     --------------   -----  \n",
      " 0   planted_date               155133 non-null  object \n",
      " 1   most_recent_observation    157999 non-null  object \n",
      " 2   common_name                157332 non-null  object \n",
      " 3   long_trees                 158004 non-null  float64\n",
      " 4   lat_trees                  158004 non-null  float64\n",
      " 5   diameter_breast_height_CM  158004 non-null  float64\n",
      " 6   condition                  158004 non-null  object \n",
      " 7   native                     158004 non-null  object \n",
      " 8   age_at_obs                 155128 non-null  float64\n",
      " 9   condition_index            158004 non-null  float64\n",
      " 10  nearest_station            158004 non-null  object \n",
      " 11  station_id                 158004 non-null  object \n",
      " 12  station_name               158004 non-null  object \n",
      " 13  lat_prcp                   158004 non-null  float64\n",
      " 14  long_prcp                  158004 non-null  float64\n",
      " 15  adj_reports                158004 non-null  int64  \n",
      " 16  norm_prcp_mm_total         158004 non-null  float64\n",
      " 17  norm_snow_mm_total         158004 non-null  float64\n",
      " 18  distance_between           158004 non-null  float64\n",
      " 19  temp_avg_normal            158004 non-null  float64\n",
      " 20  temp_min_normal            158004 non-null  float64\n",
      " 21  temp_max_normal            158004 non-null  float64\n",
      " 22  temp_range_normal          158004 non-null  float64\n",
      " 23  prcp_mm_normal             158004 non-null  float64\n",
      " 24  tree_id                    158004 non-null  int64  \n",
      "dtypes: float64(15), int64(2), object(8)\n",
      "memory usage: 30.1+ MB\n"
     ]
    }
   ],
   "source": [
    "#View our columns\n",
    "trees_df.info()"
   ]
  },
  {
   "cell_type": "code",
   "execution_count": 26,
   "metadata": {},
   "outputs": [],
   "source": [
    "#drop our columns that are reference from climate dataset and the original condition column (which we used to create our target index feature)\n",
    "trees_df = trees_df.drop(columns=['nearest_station', 'station_id',\n",
    "       'station_name', 'lat_prcp', 'long_prcp', 'condition', 'planted_date','most_recent_observation','tree_id','long_trees','lat_trees','temp_min_normal','temp_max_normal','temp_range_normal']) #also drop some of the climate normals fields since they don't add anything"
   ]
  },
  {
   "cell_type": "code",
   "execution_count": 27,
   "metadata": {},
   "outputs": [
    {
     "data": {
      "text/plain": [
       "Index(['common_name', 'diameter_breast_height_CM', 'native', 'age_at_obs',\n",
       "       'condition_index', 'adj_reports', 'norm_prcp_mm_total',\n",
       "       'norm_snow_mm_total', 'distance_between', 'temp_avg_normal',\n",
       "       'prcp_mm_normal'],\n",
       "      dtype='object')"
      ]
     },
     "execution_count": 27,
     "metadata": {},
     "output_type": "execute_result"
    }
   ],
   "source": [
    "trees_df.columns"
   ]
  },
  {
   "attachments": {},
   "cell_type": "markdown",
   "metadata": {},
   "source": [
    "### 3.2.1 Sample Dataset to Make Size More Manageable\n",
    "One model may not be too crazy, but running a gridsearch CV on hundreds of thousands of rows may be a bit much for me. I'll start with a sample of 10,000."
   ]
  },
  {
   "cell_type": "code",
   "execution_count": 28,
   "metadata": {},
   "outputs": [],
   "source": [
    "trees_sample = trees_df.sample(n=20000, replace=False, random_state=42)"
   ]
  },
  {
   "attachments": {},
   "cell_type": "markdown",
   "metadata": {},
   "source": [
    "### 3.2.2 Split Dependent and Independent Variables"
   ]
  },
  {
   "cell_type": "code",
   "execution_count": 29,
   "metadata": {},
   "outputs": [],
   "source": [
    "# split data into X and y\n",
    "X = trees_sample.drop(columns=['condition_index'])\n",
    "y = trees_sample['condition_index']"
   ]
  },
  {
   "attachments": {},
   "cell_type": "markdown",
   "metadata": {},
   "source": [
    "## 3.3 Train-Test Split\n",
    "We'll use an 80:20 split here"
   ]
  },
  {
   "cell_type": "code",
   "execution_count": 30,
   "metadata": {},
   "outputs": [
    {
     "name": "stdout",
     "output_type": "stream",
     "text": [
      "(16000, 10) (16000,) (4000, 10) (4000,)\n"
     ]
    }
   ],
   "source": [
    "X_train, X_test, y_train, y_test = train_test_split(X, y, test_size=0.2, random_state=42)\n",
    "\n",
    "print(X_train.shape, y_train.shape, X_test.shape, y_test.shape)"
   ]
  },
  {
   "attachments": {},
   "cell_type": "markdown",
   "metadata": {},
   "source": [
    "## 3.4 Impute Missing Values\n",
    "\n",
    "We will use the median for our age at observation and mode for common name.\n",
    "\n",
    "### 3.4.0 Establish Simple Imputers"
   ]
  },
  {
   "cell_type": "code",
   "execution_count": 31,
   "metadata": {},
   "outputs": [
    {
     "data": {
      "text/plain": [
       "common_name                   74\n",
       "diameter_breast_height_CM      0\n",
       "native                         0\n",
       "age_at_obs                   302\n",
       "adj_reports                    0\n",
       "norm_prcp_mm_total             0\n",
       "norm_snow_mm_total             0\n",
       "distance_between               0\n",
       "temp_avg_normal                0\n",
       "prcp_mm_normal                 0\n",
       "dtype: int64"
      ]
     },
     "execution_count": 31,
     "metadata": {},
     "output_type": "execute_result"
    }
   ],
   "source": [
    "X_train.isna().sum()"
   ]
  },
  {
   "cell_type": "code",
   "execution_count": 32,
   "metadata": {},
   "outputs": [],
   "source": [
    "num_imputer = SimpleImputer(strategy='median')\n",
    "cat_imputer = SimpleImputer(strategy='constant', fill_value='missing')"
   ]
  },
  {
   "attachments": {},
   "cell_type": "markdown",
   "metadata": {},
   "source": [
    "### 3.4.1 Impute Values"
   ]
  },
  {
   "cell_type": "code",
   "execution_count": 33,
   "metadata": {},
   "outputs": [],
   "source": [
    "#fit and transform\n",
    "X_train['age_at_obs'] = num_imputer.fit_transform(X_train[['age_at_obs']])\n",
    "X_train['common_name'] = cat_imputer.fit_transform(X_train[['common_name']])"
   ]
  },
  {
   "cell_type": "code",
   "execution_count": 34,
   "metadata": {},
   "outputs": [
    {
     "data": {
      "text/plain": [
       "common_name                  0\n",
       "diameter_breast_height_CM    0\n",
       "native                       0\n",
       "age_at_obs                   0\n",
       "adj_reports                  0\n",
       "norm_prcp_mm_total           0\n",
       "norm_snow_mm_total           0\n",
       "distance_between             0\n",
       "temp_avg_normal              0\n",
       "prcp_mm_normal               0\n",
       "dtype: int64"
      ]
     },
     "execution_count": 34,
     "metadata": {},
     "output_type": "execute_result"
    }
   ],
   "source": [
    "#validate no missing values\n",
    "X_train.isna().sum()"
   ]
  },
  {
   "attachments": {},
   "cell_type": "markdown",
   "metadata": {},
   "source": [
    "## 3.5 Simple Feature Engineering\n",
    "\n",
    "Before running a first test model, I'll do some basic feature engineering. After testing on a single model we'll move into doing further tuning."
   ]
  },
  {
   "attachments": {},
   "cell_type": "markdown",
   "metadata": {},
   "source": [
    "### 3.5.1 Categorical Encoding\n",
    "\n",
    "We'll need to encode our categorical features. And for our tree names, we'll likely need to group together some of the less frequent options so we don't overwhelm our model with a crazy number of columns."
   ]
  },
  {
   "cell_type": "code",
   "execution_count": 35,
   "metadata": {},
   "outputs": [
    {
     "data": {
      "text/plain": [
       "Index(['common_name', 'native'], dtype='object')"
      ]
     },
     "execution_count": 35,
     "metadata": {},
     "output_type": "execute_result"
    }
   ],
   "source": [
    "cat_columns = trees_df.select_dtypes(include='object').columns\n",
    "\n",
    "cat_columns"
   ]
  },
  {
   "cell_type": "code",
   "execution_count": 36,
   "metadata": {},
   "outputs": [
    {
     "data": {
      "text/plain": [
       "Red maple                      543\n",
       "Apple/crabapple                455\n",
       "Purpleleaf plum variety        449\n",
       "Norway maple                   428\n",
       "(smooth) japanese maple        422\n",
       "                              ... \n",
       "Chenmoui elm                     1\n",
       "California (western) redbud      1\n",
       "Lolanthe magnolia                1\n",
       "Oriental spruce                  1\n",
       "Black willow                     1\n",
       "Name: common_name, Length: 562, dtype: int64"
      ]
     },
     "execution_count": 36,
     "metadata": {},
     "output_type": "execute_result"
    }
   ],
   "source": [
    "#view value_counts of common_name field\n",
    "X_train['common_name'].value_counts()"
   ]
  },
  {
   "cell_type": "code",
   "execution_count": 37,
   "metadata": {},
   "outputs": [
    {
     "data": {
      "text/plain": [
       "index                           common_name\n",
       "(pink) idaho locust             1              1\n",
       "Pyramidal (bolleana) white pop  1              1\n",
       "Paw paw                         1              1\n",
       "Pink spires crabapple           1              1\n",
       "Pissard purpleleaf plum         1              1\n",
       "                                              ..\n",
       "Goat (french pink pussy) willo  1              1\n",
       "Golden colonnade ginkgo         1              1\n",
       "Golden weeping willow           1              1\n",
       "Gray birch                      2              1\n",
       "Zelkova                         2              1\n",
       "Length: 168, dtype: int64"
      ]
     },
     "execution_count": 37,
     "metadata": {},
     "output_type": "execute_result"
    }
   ],
   "source": [
    "#how many of the 485 categories have less than 10 records?\n",
    "\n",
    "vc = pd.DataFrame(X_train['common_name'].value_counts())\n",
    "\n",
    "vc.reset_index(inplace=True)\n",
    "\n",
    "vc[vc['common_name'] < 3].value_counts()"
   ]
  },
  {
   "cell_type": "code",
   "execution_count": 38,
   "metadata": {},
   "outputs": [
    {
     "data": {
      "text/plain": [
       "introduced             116127\n",
       "no_info                 32616\n",
       "naturally_occurring      9261\n",
       "Name: native, dtype: int64"
      ]
     },
     "execution_count": 38,
     "metadata": {},
     "output_type": "execute_result"
    }
   ],
   "source": [
    "#view value_counts of common_name field\n",
    "trees_df['native'].value_counts()"
   ]
  },
  {
   "attachments": {},
   "cell_type": "markdown",
   "metadata": {},
   "source": [
    "#### 3.5.1.0 Convert common_name Field to Group Names with < 25 Occurences\n",
    "\n",
    "This will limit the number of columns we have. We won't do thes ame for the native field. We'll do it by defining a function that can be utilized later as well."
   ]
  },
  {
   "cell_type": "code",
   "execution_count": 39,
   "metadata": {},
   "outputs": [],
   "source": [
    "def group_categories(df, col, n_limit):\n",
    "    \"\"\" Store categories in df[col] with counts less than the specified n and overwrite the corresponding values in the df with 'Other' \"\"\"\n",
    "    groups = df[col]\n",
    "    group_counts = groups.value_counts()\n",
    "    mask = groups.isin(group_counts[group_counts<n_limit].index)\n",
    "    df.loc[mask, col] = 'Other'"
   ]
  },
  {
   "cell_type": "code",
   "execution_count": 40,
   "metadata": {},
   "outputs": [
    {
     "data": {
      "text/plain": [
       "Other                      2718\n",
       "Red maple                   543\n",
       "Apple/crabapple             455\n",
       "Purpleleaf plum variety     449\n",
       "Norway maple                428\n",
       "                           ... \n",
       "Black cottonwood             26\n",
       "American (white) elm         26\n",
       "Swamp white oak              26\n",
       "Trident maple                26\n",
       "Starlight dogwood            25\n",
       "Name: common_name, Length: 130, dtype: int64"
      ]
     },
     "execution_count": 40,
     "metadata": {},
     "output_type": "execute_result"
    }
   ],
   "source": [
    "#use our group categories feature on our X_train set\n",
    "group_categories(X_train, 'common_name', 25)\n",
    "\n",
    "X_train['common_name'].value_counts()"
   ]
  },
  {
   "attachments": {},
   "cell_type": "markdown",
   "metadata": {},
   "source": [
    "## 3.6 First Model\n",
    "\n",
    "Now that we've done some basic tuning, let's do some transforming with the feature engineering tools we fit and run a logistic regression model to see what we get."
   ]
  },
  {
   "cell_type": "code",
   "execution_count": 41,
   "metadata": {},
   "outputs": [
    {
     "data": {
      "text/html": [
       "<div>\n",
       "<style scoped>\n",
       "    .dataframe tbody tr th:only-of-type {\n",
       "        vertical-align: middle;\n",
       "    }\n",
       "\n",
       "    .dataframe tbody tr th {\n",
       "        vertical-align: top;\n",
       "    }\n",
       "\n",
       "    .dataframe thead th {\n",
       "        text-align: right;\n",
       "    }\n",
       "</style>\n",
       "<table border=\"1\" class=\"dataframe\">\n",
       "  <thead>\n",
       "    <tr style=\"text-align: right;\">\n",
       "      <th></th>\n",
       "      <th>common_name</th>\n",
       "      <th>diameter_breast_height_CM</th>\n",
       "      <th>native</th>\n",
       "      <th>age_at_obs</th>\n",
       "      <th>adj_reports</th>\n",
       "      <th>norm_prcp_mm_total</th>\n",
       "      <th>norm_snow_mm_total</th>\n",
       "      <th>distance_between</th>\n",
       "      <th>temp_avg_normal</th>\n",
       "      <th>prcp_mm_normal</th>\n",
       "    </tr>\n",
       "  </thead>\n",
       "  <tbody>\n",
       "    <tr>\n",
       "      <th>156185</th>\n",
       "      <td>(smooth) japanese maple</td>\n",
       "      <td>5.08</td>\n",
       "      <td>introduced</td>\n",
       "      <td>26.891723</td>\n",
       "      <td>61</td>\n",
       "      <td>1198.095616</td>\n",
       "      <td>0.000000</td>\n",
       "      <td>0.221192</td>\n",
       "      <td>53.2</td>\n",
       "      <td>960.628</td>\n",
       "    </tr>\n",
       "    <tr>\n",
       "      <th>80188</th>\n",
       "      <td>Parrotia persian ironwood</td>\n",
       "      <td>5.08</td>\n",
       "      <td>introduced</td>\n",
       "      <td>12.000246</td>\n",
       "      <td>3</td>\n",
       "      <td>1021.831781</td>\n",
       "      <td>98.580822</td>\n",
       "      <td>1.923192</td>\n",
       "      <td>53.8</td>\n",
       "      <td>926.846</td>\n",
       "    </tr>\n",
       "    <tr>\n",
       "      <th>96012</th>\n",
       "      <td>Shirotae flowering cherry</td>\n",
       "      <td>25.40</td>\n",
       "      <td>no_info</td>\n",
       "      <td>26.817799</td>\n",
       "      <td>80</td>\n",
       "      <td>1038.526507</td>\n",
       "      <td>0.000000</td>\n",
       "      <td>2.075823</td>\n",
       "      <td>53.2</td>\n",
       "      <td>960.628</td>\n",
       "    </tr>\n",
       "    <tr>\n",
       "      <th>10740</th>\n",
       "      <td>Red sunset red maple</td>\n",
       "      <td>25.40</td>\n",
       "      <td>introduced</td>\n",
       "      <td>28.734334</td>\n",
       "      <td>347</td>\n",
       "      <td>1138.700000</td>\n",
       "      <td>35.000000</td>\n",
       "      <td>1.956034</td>\n",
       "      <td>53.8</td>\n",
       "      <td>926.846</td>\n",
       "    </tr>\n",
       "    <tr>\n",
       "      <th>30650</th>\n",
       "      <td>Barked himalayan (jacque white</td>\n",
       "      <td>7.62</td>\n",
       "      <td>introduced</td>\n",
       "      <td>5.656516</td>\n",
       "      <td>341</td>\n",
       "      <td>984.500000</td>\n",
       "      <td>0.000000</td>\n",
       "      <td>0.879531</td>\n",
       "      <td>53.2</td>\n",
       "      <td>960.628</td>\n",
       "    </tr>\n",
       "  </tbody>\n",
       "</table>\n",
       "</div>"
      ],
      "text/plain": [
       "                           common_name  diameter_breast_height_CM      native  \\\n",
       "156185         (smooth) japanese maple                       5.08  introduced   \n",
       "80188        Parrotia persian ironwood                       5.08  introduced   \n",
       "96012        Shirotae flowering cherry                      25.40     no_info   \n",
       "10740             Red sunset red maple                      25.40  introduced   \n",
       "30650   Barked himalayan (jacque white                       7.62  introduced   \n",
       "\n",
       "        age_at_obs  adj_reports  norm_prcp_mm_total  norm_snow_mm_total  \\\n",
       "156185   26.891723           61         1198.095616            0.000000   \n",
       "80188    12.000246            3         1021.831781           98.580822   \n",
       "96012    26.817799           80         1038.526507            0.000000   \n",
       "10740    28.734334          347         1138.700000           35.000000   \n",
       "30650     5.656516          341          984.500000            0.000000   \n",
       "\n",
       "        distance_between  temp_avg_normal  prcp_mm_normal  \n",
       "156185          0.221192             53.2         960.628  \n",
       "80188           1.923192             53.8         926.846  \n",
       "96012           2.075823             53.2         960.628  \n",
       "10740           1.956034             53.8         926.846  \n",
       "30650           0.879531             53.2         960.628  "
      ]
     },
     "execution_count": 41,
     "metadata": {},
     "output_type": "execute_result"
    }
   ],
   "source": [
    "X_train.head()"
   ]
  },
  {
   "cell_type": "code",
   "execution_count": 42,
   "metadata": {},
   "outputs": [],
   "source": [
    "#Initialize Scalers and Transforms\n",
    "\n",
    "ss_scaler = StandardScaler()\n",
    "pow_trans = PowerTransformer()\n",
    "ohe1 = OneHotEncoder(handle_unknown='ignore', sparse_output=False) #one for our common_name column\n",
    "ohe2 = OneHotEncoder(handle_unknown='ignore', sparse_output=False) #one for our native column"
   ]
  },
  {
   "attachments": {},
   "cell_type": "markdown",
   "metadata": {},
   "source": [
    "Adding some steps here -> My encoding is either encoding all values or keeping the specified ones. I want to fit and transform my categorical and then load them back into the main dataframe for a complete dataframe with scaled and encoded data."
   ]
  },
  {
   "cell_type": "code",
   "execution_count": 43,
   "metadata": {},
   "outputs": [],
   "source": [
    "#ss_scaler, pow_trans, ohe\n",
    "#transform with our ss_scaler\n",
    "X_train[['age_at_obs','norm_prcp_mm_total', 'temp_avg_normal','prcp_mm_normal']] = ss_scaler.fit_transform(X_train[['age_at_obs','norm_prcp_mm_total', 'temp_avg_normal','prcp_mm_normal']])\n",
    "\n",
    "#transform with our pow_trans\n",
    "X_train[['diameter_breast_height_CM', 'norm_snow_mm_total','distance_between','adj_reports']] = pow_trans.fit_transform(X_train[['diameter_breast_height_CM', 'norm_snow_mm_total','distance_between','adj_reports']])\n",
    "\n",
    "#reset index to create clean join after encoding\n",
    "X_train.reset_index(drop=True,inplace=True)"
   ]
  },
  {
   "cell_type": "code",
   "execution_count": 44,
   "metadata": {},
   "outputs": [],
   "source": [
    "#transform with our categorical columns and create dataframes\n",
    "X_train_cn = ohe1.fit_transform(X_train[['common_name']])\n",
    "cn_df = pd.DataFrame(X_train_cn, columns=ohe1.categories_[0]) #indexing 0 here to grab only the column names\n",
    "\n",
    "X_train_nat = ohe2.fit_transform(X_train[['native']])\n",
    "nat_df = pd.DataFrame(X_train_nat, columns=ohe2.categories_[0])\n"
   ]
  },
  {
   "cell_type": "code",
   "execution_count": 45,
   "metadata": {},
   "outputs": [
    {
     "name": "stdout",
     "output_type": "stream",
     "text": [
      "(16000, 10)\n",
      "(16000, 130)\n",
      "(16000, 3)\n"
     ]
    }
   ],
   "source": [
    "print(X_train.shape)\n",
    "print(cn_df.shape)\n",
    "print(nat_df.shape)"
   ]
  },
  {
   "cell_type": "code",
   "execution_count": 46,
   "metadata": {},
   "outputs": [],
   "source": [
    "#concat these two dataframes back into X_train and create new dataframe, dropping original categorical fields\n",
    "X_train_transformed = pd.concat([X_train, cn_df, nat_df], axis=1,)\n",
    "\n",
    "#drop original categorical fields\n",
    "X_train_transformed.drop(columns=['common_name', 'native'], inplace=True)"
   ]
  },
  {
   "cell_type": "code",
   "execution_count": 47,
   "metadata": {},
   "outputs": [
    {
     "data": {
      "text/plain": [
       "(16000, 141)"
      ]
     },
     "execution_count": 47,
     "metadata": {},
     "output_type": "execute_result"
    }
   ],
   "source": [
    "X_train_transformed.shape"
   ]
  },
  {
   "cell_type": "code",
   "execution_count": 48,
   "metadata": {},
   "outputs": [
    {
     "name": "stdout",
     "output_type": "stream",
     "text": [
      "Accuracy on training data: 0.58\n"
     ]
    }
   ],
   "source": [
    "#Initiate and run logistic regression model\n",
    "\n",
    "logreg = LogisticRegression(solver = 'liblinear', max_iter = 500, C = 1)\n",
    "\n",
    "logreg.fit(X_train_transformed, y_train)\n",
    "\n",
    "print(f'Accuracy on training data: {accuracy_score(logreg.predict(X_train_transformed), y_train):.2f}')"
   ]
  },
  {
   "cell_type": "code",
   "execution_count": 49,
   "metadata": {},
   "outputs": [
    {
     "name": "stdout",
     "output_type": "stream",
     "text": [
      "Classification Report for Training Data\n",
      "              precision    recall  f1-score   support\n",
      "\n",
      "         1.0       0.00      0.00      0.00       264\n",
      "         2.0       0.00      0.00      0.00       860\n",
      "         3.0       0.44      0.18      0.26      3869\n",
      "         4.0       0.59      0.93      0.72      8871\n",
      "         5.0       0.55      0.11      0.18      2136\n",
      "\n",
      "    accuracy                           0.58     16000\n",
      "   macro avg       0.32      0.24      0.23     16000\n",
      "weighted avg       0.51      0.58      0.49     16000\n",
      "\n"
     ]
    },
    {
     "name": "stderr",
     "output_type": "stream",
     "text": [
      "/Users/brettly/opt/anaconda3/envs/ds/lib/python3.10/site-packages/sklearn/metrics/_classification.py:1344: UndefinedMetricWarning: Precision and F-score are ill-defined and being set to 0.0 in labels with no predicted samples. Use `zero_division` parameter to control this behavior.\n",
      "  _warn_prf(average, modifier, msg_start, len(result))\n",
      "/Users/brettly/opt/anaconda3/envs/ds/lib/python3.10/site-packages/sklearn/metrics/_classification.py:1344: UndefinedMetricWarning: Precision and F-score are ill-defined and being set to 0.0 in labels with no predicted samples. Use `zero_division` parameter to control this behavior.\n",
      "  _warn_prf(average, modifier, msg_start, len(result))\n",
      "/Users/brettly/opt/anaconda3/envs/ds/lib/python3.10/site-packages/sklearn/metrics/_classification.py:1344: UndefinedMetricWarning: Precision and F-score are ill-defined and being set to 0.0 in labels with no predicted samples. Use `zero_division` parameter to control this behavior.\n",
      "  _warn_prf(average, modifier, msg_start, len(result))\n"
     ]
    }
   ],
   "source": [
    "print(\"Classification Report for Training Data\")\n",
    "print(classification_report(y_train, logreg.predict(X_train_transformed)))"
   ]
  },
  {
   "attachments": {},
   "cell_type": "markdown",
   "metadata": {},
   "source": [
    "Decent accuracy, but it's because we're only predicting the most common values, which isn't suprising based on our imbalanced data. Let's work on addressing the imbalanced data."
   ]
  },
  {
   "attachments": {},
   "cell_type": "markdown",
   "metadata": {},
   "source": [
    "## 3.7 Work on Imbalanced Data\n",
    "\n",
    "### 3.7.0 Re-Process train-test and imputing values"
   ]
  },
  {
   "cell_type": "code",
   "execution_count": 50,
   "metadata": {},
   "outputs": [],
   "source": [
    "#Re-establish X_train and y_train to be sure to not leake over scaling\n",
    "X_train, X_test, y_train, y_test = train_test_split(X, y, test_size=0.2, random_state=42)\n",
    "\n",
    "#impute missing values\n",
    "X_train['age_at_obs'] = num_imputer.fit_transform(X_train[['age_at_obs']])\n",
    "X_train['common_name'] = cat_imputer.fit_transform(X_train[['common_name']])\n",
    "\n",
    "#group categorical values\n",
    "#use our group categories feature on our X_train set\n",
    "group_categories(X_train, 'common_name', 3)\n"
   ]
  },
  {
   "cell_type": "code",
   "execution_count": 51,
   "metadata": {},
   "outputs": [
    {
     "name": "stdout",
     "output_type": "stream",
     "text": [
      "[   0 8871 8871 8871 8871 8871]\n",
      "(44355, 10)\n"
     ]
    }
   ],
   "source": [
    "#use SMOTE to resample and balance our dataset\n",
    "sm = SMOTENC(random_state=42, categorical_features=[0,2])\n",
    "X_res, y_res = sm.fit_resample(X_train, y_train)\n",
    "\n",
    "print(np.bincount(y_res))\n",
    "\n",
    "print(X_res.shape)"
   ]
  },
  {
   "attachments": {},
   "cell_type": "markdown",
   "metadata": {},
   "source": [
    "### 3.7.0 Re-Run Model Using 'SMOTED' Data\n",
    "\n",
    "#### 3.7.0.0 Create Pre-Processing Pipeline\n",
    "\n",
    "With the SMOTE now complete, I want to setup a pipeline for easier processing, breaking these out by categorical and numerical."
   ]
  },
  {
   "cell_type": "code",
   "execution_count": 65,
   "metadata": {},
   "outputs": [],
   "source": [
    "#transformer for categorical variables\n",
    "cat_features = ['common_name','native']\n",
    "cat_transformer = Pipeline(\n",
    "    [\n",
    "        ('imputer_cat', SimpleImputer(strategy='most_frequent')),\n",
    "        ('onehot', OneHotEncoder(handle_unknown='ignore'))\n",
    "    ]\n",
    ")"
   ]
  },
  {
   "cell_type": "code",
   "execution_count": 66,
   "metadata": {},
   "outputs": [],
   "source": [
    "#transformer for numerical variables we want to scale using StandardScaler - the more normally distributed ones\n",
    "num_features_std = ['age_at_obs','norm_prcp_mm_total', 'temp_avg_normal','prcp_mm_normal']\n",
    "num_transformer_std = Pipeline(\n",
    "    [\n",
    "        ('imputer_num_std', SimpleImputer(strategy='median')),\n",
    "        ('scaler_std', StandardScaler())\n",
    "    ]\n",
    ")"
   ]
  },
  {
   "cell_type": "code",
   "execution_count": 67,
   "metadata": {},
   "outputs": [],
   "source": [
    "#transformer for numerical variables we want to scale using PowerTransformer - the non-normally distributed ones\n",
    "num_features_pwr = ['diameter_breast_height_CM', 'norm_snow_mm_total','distance_between','adj_reports']\n",
    "num_transformer_pwr = Pipeline(\n",
    "    [\n",
    "        ('imputer_num_pwr', SimpleImputer(strategy='median')),\n",
    "        ('scaler_pwr', PowerTransformer())\n",
    "    ]\n",
    ")"
   ]
  },
  {
   "cell_type": "code",
   "execution_count": 68,
   "metadata": {},
   "outputs": [],
   "source": [
    "#combine in Column Transformer\n",
    "preprocessor = ColumnTransformer(\n",
    "    [\n",
    "        ('categoricals', cat_transformer, cat_features),\n",
    "        ('numericals_std', num_transformer_std, num_features_std),\n",
    "        ('numbericals_pwr', num_transformer_pwr, num_features_pwr)\n",
    "    ],\n",
    "    remainder='passthrough'\n",
    ")"
   ]
  },
  {
   "cell_type": "code",
   "execution_count": 69,
   "metadata": {},
   "outputs": [],
   "source": [
    "#create a pipeline using our pre-processing column transforming and a Logistic Regrssion model\n",
    "pipe = Pipeline(\n",
    "    [\n",
    "        ('preprocessing', preprocessor),\n",
    "        ('clf', LogisticRegression())\n",
    "    ]\n",
    ")"
   ]
  },
  {
   "cell_type": "markdown",
   "metadata": {},
   "source": [
    "#### 3.7.0.1 Run Pipeline with GridSearchCV\n",
    "\n",
    "Continue our SMOTED test with a gridsearch on a few parameter options."
   ]
  },
  {
   "cell_type": "code",
   "execution_count": 71,
   "metadata": {},
   "outputs": [],
   "source": [
    "#setup parameters to test for a logistic regression model\n",
    "params = {\n",
    "    'clf__solver': ['liblinear'],\n",
    "    'clf__penalty': ['l1', 'l2'],\n",
    "    'clf__C': [0.01, 1, 10, 100],\n",
    "    'clf__random_state': [42]\n",
    "}"
   ]
  },
  {
   "cell_type": "code",
   "execution_count": 89,
   "metadata": {},
   "outputs": [],
   "source": [
    "#create our GridSearch object. I am thinking our evaluation measure would be best suited as precision. I want to penalize the model for predicting retention whne it isn't the case. But I will include f1 in the scoring and refit based on precision\n",
    "cv = GridSearchCV(\n",
    "    pipe,\n",
    "    params,\n",
    "    cv = 5,\n",
    "    scoring = ['recall_macro', 'f1_macro'],\n",
    "    refit = 'recall_macro'\n",
    ")"
   ]
  },
  {
   "cell_type": "code",
   "execution_count": 90,
   "metadata": {},
   "outputs": [
    {
     "name": "stdout",
     "output_type": "stream",
     "text": [
      "Best Recall Score: 0.454\n",
      "\n",
      "Best parameter set: {'clf__C': 1, 'clf__penalty': 'l1', 'clf__random_state': 42, 'clf__solver': 'liblinear'}\n",
      "\n",
      "Scores:               precision    recall  f1-score   support\n",
      "\n",
      "         1.0       0.54      0.66      0.59      8871\n",
      "         2.0       0.45      0.39      0.42      8871\n",
      "         3.0       0.37      0.30      0.33      8871\n",
      "         4.0       0.48      0.37      0.42      8871\n",
      "         5.0       0.45      0.59      0.51      8871\n",
      "\n",
      "    accuracy                           0.46     44355\n",
      "   macro avg       0.46      0.46      0.45     44355\n",
      "weighted avg       0.46      0.46      0.45     44355\n",
      "\n"
     ]
    }
   ],
   "source": [
    "#execute our GridSearch on the trainign data and check results\n",
    "cv.fit(X_res, y_res)\n",
    "\n",
    "print(f'Best Recall Score: {cv.best_score_:.3f}\\n')\n",
    "print(f'Best parameter set: {cv.best_params_}\\n')\n",
    "print(f'Scores: {classification_report(y_res, cv.predict(X_res))}')"
   ]
  },
  {
   "attachments": {},
   "cell_type": "markdown",
   "metadata": {},
   "source": [
    "**Observations:**\n",
    "\\\n",
    "Less overall accuracy, but this is a step in the right direction as our recall looks much better. With basically no hyperparamter tuning, we still have work to do.\n",
    "\n",
    "## 3.8 Tuning\n",
    "\n",
    "I tested out the pretty simple tuning but I'd actually like to do some different scaling depending on the feature in preperation for hyperparamter tuning. I'll do that now on my resampled dataframe."
   ]
  },
  {
   "attachments": {},
   "cell_type": "markdown",
   "metadata": {},
   "source": [
    "### 3.8.1 Try Another Approach On Imbalanced Data\n",
    "\n",
    "Rather than using my resamples SMOTE dataframe, I want to try applying all of the other transformations the same, but this time on my initial 10,000 record sample using RepeatedStratifiedKFold cross validation."
   ]
  },
  {
   "attachments": {},
   "cell_type": "markdown",
   "metadata": {},
   "source": [
    "#### 3.8.1.1 Define Our Cross-Validation Method"
   ]
  },
  {
   "cell_type": "code",
   "execution_count": 58,
   "metadata": {},
   "outputs": [],
   "source": [
    "rskf = RepeatedStratifiedKFold(n_splits=5, n_repeats=2, random_state=42)"
   ]
  },
  {
   "attachments": {},
   "cell_type": "markdown",
   "metadata": {},
   "source": [
    "#### 3.8.1.2 Define Model"
   ]
  },
  {
   "cell_type": "code",
   "execution_count": 59,
   "metadata": {},
   "outputs": [],
   "source": [
    "#define model with our best params so far\n",
    "logreg2 = LogisticRegression(solver = 'liblinear', max_iter = 500, C = 1)"
   ]
  },
  {
   "attachments": {},
   "cell_type": "markdown",
   "metadata": {},
   "source": [
    "#### 3.8.1.3 Fit and Score"
   ]
  },
  {
   "cell_type": "code",
   "execution_count": 60,
   "metadata": {},
   "outputs": [
    {
     "name": "stdout",
     "output_type": "stream",
     "text": [
      "Accuracy on training data: 0.58\n",
      "Classification Report for Training Data\n",
      "              precision    recall  f1-score   support\n",
      "\n",
      "         1.0       0.00      0.00      0.00       264\n",
      "         2.0       0.00      0.00      0.00       860\n",
      "         3.0       0.44      0.18      0.26      3869\n",
      "         4.0       0.59      0.93      0.72      8871\n",
      "         5.0       0.55      0.11      0.18      2136\n",
      "\n",
      "    accuracy                           0.58     16000\n",
      "   macro avg       0.32      0.24      0.23     16000\n",
      "weighted avg       0.51      0.58      0.49     16000\n",
      "\n"
     ]
    },
    {
     "name": "stderr",
     "output_type": "stream",
     "text": [
      "/Users/brettly/opt/anaconda3/envs/ds/lib/python3.10/site-packages/sklearn/metrics/_classification.py:1344: UndefinedMetricWarning: Precision and F-score are ill-defined and being set to 0.0 in labels with no predicted samples. Use `zero_division` parameter to control this behavior.\n",
      "  _warn_prf(average, modifier, msg_start, len(result))\n",
      "/Users/brettly/opt/anaconda3/envs/ds/lib/python3.10/site-packages/sklearn/metrics/_classification.py:1344: UndefinedMetricWarning: Precision and F-score are ill-defined and being set to 0.0 in labels with no predicted samples. Use `zero_division` parameter to control this behavior.\n",
      "  _warn_prf(average, modifier, msg_start, len(result))\n",
      "/Users/brettly/opt/anaconda3/envs/ds/lib/python3.10/site-packages/sklearn/metrics/_classification.py:1344: UndefinedMetricWarning: Precision and F-score are ill-defined and being set to 0.0 in labels with no predicted samples. Use `zero_division` parameter to control this behavior.\n",
      "  _warn_prf(average, modifier, msg_start, len(result))\n"
     ]
    }
   ],
   "source": [
    "logreg2.fit(X_train_transformed, y_train)\n",
    "print(f'Accuracy on training data: {accuracy_score(logreg2.predict(X_train_transformed), y_train):.2f}')\n",
    "print(\"Classification Report for Training Data\")\n",
    "print(classification_report(y_train, logreg2.predict(X_train_transformed)))"
   ]
  },
  {
   "attachments": {},
   "cell_type": "markdown",
   "metadata": {},
   "source": [
    "**Observations:**\n",
    "\n",
    "Using the StratifiedKFold didn't give us as good of results as using SMOTE, so we'll go back to that method going forward."
   ]
  },
  {
   "attachments": {},
   "cell_type": "markdown",
   "metadata": {},
   "source": [
    "## 3.9 Try Different Models\n",
    "\n",
    "The best we got with logistic regression was 47% accuracy. That leaves much to be desired, so let's try something other than this type of model. We'll use our X_res_scaled and y_res for consistency.\n",
    "\n",
    "### 3.9.0 Test Set Performance Comparison\n",
    "\n",
    "If we do some simple default setting comparison between KNeighbors, Decision Trees, and Random Forest, it could give us a good sense of where to focus our time going forward."
   ]
  },
  {
   "attachments": {},
   "cell_type": "markdown",
   "metadata": {},
   "source": [
    "#### 3.9.0.0 Run Models"
   ]
  },
  {
   "cell_type": "code",
   "execution_count": 61,
   "metadata": {},
   "outputs": [],
   "source": [
    "#list types of models to run\n",
    "models = {'logreg': LogisticRegression(solver = 'liblinear', max_iter = 500, C = 1),\n",
    "          'knn': KNeighborsClassifier(),\n",
    "          'dec_tree': DecisionTreeClassifier(),\n",
    "          'rand_for': RandomForestClassifier(),\n",
    "          'ada': AdaBoostClassifier(),\n",
    "          'gradient': GradientBoostingClassifier()\n",
    "          }\n",
    "\n",
    "#create blank list to store results\n",
    "results = []"
   ]
  },
  {
   "cell_type": "code",
   "execution_count": 62,
   "metadata": {},
   "outputs": [],
   "source": [
    "#Loop through models, score and save\n",
    "for model in models.values():\n",
    "    kf = KFold(n_splits=6, random_state=42, shuffle=True) #using KFold this time rather than setting up a whole GridSearch\n",
    "    cv_results = cross_val_score(model, X_res_transformed, y_res, cv=kf)\n",
    "    results.append(cv_results)"
   ]
  },
  {
   "attachments": {},
   "cell_type": "markdown",
   "metadata": {},
   "source": [
    "#### 3.9.0.1 Plot Results"
   ]
  },
  {
   "cell_type": "code",
   "execution_count": 63,
   "metadata": {},
   "outputs": [
    {
     "data": {
      "image/png": "[encoded data removed]",
      "text/plain": [
       "<Figure size 640x480 with 1 Axes>"
      ]
     },
     "metadata": {},
     "output_type": "display_data"
    }
   ],
   "source": [
    "plt.boxplot(results, labels=models.keys())\n",
    "plt.show()"
   ]
  },
  {
   "attachments": {},
   "cell_type": "markdown",
   "metadata": {},
   "source": [
    "**Observations:**\n",
    "\\\n",
    "Our Random Forest looks to be the best option. Hopefully it's not ignoring all the minor classes. Let's explore this model futher.\n",
    "\n",
    "### 3.9.1 Random Forest Classifier\n",
    "\n",
    "This time I'll use RandomizedSearchCV to tune params. Source: https://towardsdatascience.com/hyperparameter-tuning-the-random-forest-in-python-using-scikit-learn-28d2aa77dd74\n",
    "\n",
    "#### 3.9.1.0 Create Parameter Grid"
   ]
  },
  {
   "cell_type": "code",
   "execution_count": 99,
   "metadata": {},
   "outputs": [],
   "source": [
    "#setup pipeline with random forest classifier\n",
    "#create a pipeline using our pre-processing column transforming and a Logistic Regrssion model\n",
    "pipe_rf = Pipeline(\n",
    "    [\n",
    "        ('preprocessing', preprocessor),\n",
    "        ('clf', RandomForestClassifier())\n",
    "    ]\n",
    ")"
   ]
  },
  {
   "cell_type": "code",
   "execution_count": 106,
   "metadata": {},
   "outputs": [
    {
     "name": "stdout",
     "output_type": "stream",
     "text": [
      "{'clf__n_estimators': [100, 137, 175, 212, 250], 'clf__max_depth': [5, 16, 27, 38, 50], 'clf__min_samples_split': [2, 5, 10], 'clf__min_samples_leaf': [1, 2, 4]}\n"
     ]
    }
   ],
   "source": [
    "#list out our different params\n",
    "n_estimators = [int(x) for x in np.linspace(start = 100, stop = 250, num = 5)] #number of trees in the forest\n",
    "max_features = ['sqrt'] #number of features to consider at each split\n",
    "max_depth = [int(x) for x in np.linspace(5, 50, num=5)] #max levels in tree\n",
    "min_samples_split = [2,5,10] #min samples required to split a node\n",
    "min_samples_leaf = [1,2,4] #min samples at each leaf node\n",
    "bootstrap = [True] #sampling method using bootsrap or not\n",
    "\n",
    "#Create random grid\n",
    "rand_grid = {'clf__n_estimators': n_estimators,\n",
    "               'clf__max_depth': max_depth,\n",
    "               'clf__min_samples_split': min_samples_split,\n",
    "               'clf__min_samples_leaf': min_samples_leaf}\n",
    "\n",
    "print(rand_grid)"
   ]
  },
  {
   "attachments": {},
   "cell_type": "markdown",
   "metadata": {},
   "source": [
    "#### 3.9.1.1 Fit with Random Search"
   ]
  },
  {
   "cell_type": "code",
   "execution_count": 107,
   "metadata": {},
   "outputs": [],
   "source": [
    "rand_search = RandomizedSearchCV(pipe_rf, param_distributions=rand_grid, n_iter=10, cv=5, verbose=2, random_state=42) #sample using 10 param settings, 5-fold cross-val, computation time display"
   ]
  },
  {
   "cell_type": "code",
   "execution_count": 108,
   "metadata": {},
   "outputs": [
    {
     "name": "stdout",
     "output_type": "stream",
     "text": [
      "Fitting 5 folds for each of 10 candidates, totalling 50 fits\n",
      "[CV] END clf__max_depth=5, clf__min_samples_leaf=1, clf__min_samples_split=5, clf__n_estimators=250; total time=   2.0s\n",
      "[CV] END clf__max_depth=5, clf__min_samples_leaf=1, clf__min_samples_split=5, clf__n_estimators=250; total time=   2.0s\n",
      "[CV] END clf__max_depth=5, clf__min_samples_leaf=1, clf__min_samples_split=5, clf__n_estimators=250; total time=   1.9s\n",
      "[CV] END clf__max_depth=5, clf__min_samples_leaf=1, clf__min_samples_split=5, clf__n_estimators=250; total time=   1.9s\n",
      "[CV] END clf__max_depth=5, clf__min_samples_leaf=1, clf__min_samples_split=5, clf__n_estimators=250; total time=   2.0s\n",
      "[CV] END clf__max_depth=50, clf__min_samples_leaf=1, clf__min_samples_split=2, clf__n_estimators=250; total time=  39.7s\n",
      "[CV] END clf__max_depth=50, clf__min_samples_leaf=1, clf__min_samples_split=2, clf__n_estimators=250; total time=  41.0s\n",
      "[CV] END clf__max_depth=50, clf__min_samples_leaf=1, clf__min_samples_split=2, clf__n_estimators=250; total time=  41.5s\n",
      "[CV] END clf__max_depth=50, clf__min_samples_leaf=1, clf__min_samples_split=2, clf__n_estimators=250; total time=  42.0s\n",
      "[CV] END clf__max_depth=50, clf__min_samples_leaf=1, clf__min_samples_split=2, clf__n_estimators=250; total time=  42.3s\n",
      "[CV] END clf__max_depth=27, clf__min_samples_leaf=4, clf__min_samples_split=2, clf__n_estimators=100; total time=   4.3s\n",
      "[CV] END clf__max_depth=27, clf__min_samples_leaf=4, clf__min_samples_split=2, clf__n_estimators=100; total time=   4.4s\n",
      "[CV] END clf__max_depth=27, clf__min_samples_leaf=4, clf__min_samples_split=2, clf__n_estimators=100; total time=   4.3s\n",
      "[CV] END clf__max_depth=27, clf__min_samples_leaf=4, clf__min_samples_split=2, clf__n_estimators=100; total time=   4.4s\n",
      "[CV] END clf__max_depth=27, clf__min_samples_leaf=4, clf__min_samples_split=2, clf__n_estimators=100; total time=   4.4s\n",
      "[CV] END clf__max_depth=50, clf__min_samples_leaf=2, clf__min_samples_split=10, clf__n_estimators=175; total time=  12.7s\n",
      "[CV] END clf__max_depth=50, clf__min_samples_leaf=2, clf__min_samples_split=10, clf__n_estimators=175; total time=  12.6s\n",
      "[CV] END clf__max_depth=50, clf__min_samples_leaf=2, clf__min_samples_split=10, clf__n_estimators=175; total time=  12.5s\n",
      "[CV] END clf__max_depth=50, clf__min_samples_leaf=2, clf__min_samples_split=10, clf__n_estimators=175; total time=  12.6s\n",
      "[CV] END clf__max_depth=50, clf__min_samples_leaf=2, clf__min_samples_split=10, clf__n_estimators=175; total time=  12.4s\n",
      "[CV] END clf__max_depth=38, clf__min_samples_leaf=1, clf__min_samples_split=10, clf__n_estimators=212; total time=  18.3s\n",
      "[CV] END clf__max_depth=38, clf__min_samples_leaf=1, clf__min_samples_split=10, clf__n_estimators=212; total time=  18.4s\n",
      "[CV] END clf__max_depth=38, clf__min_samples_leaf=1, clf__min_samples_split=10, clf__n_estimators=212; total time=  18.0s\n",
      "[CV] END clf__max_depth=38, clf__min_samples_leaf=1, clf__min_samples_split=10, clf__n_estimators=212; total time=  18.3s\n",
      "[CV] END clf__max_depth=38, clf__min_samples_leaf=1, clf__min_samples_split=10, clf__n_estimators=212; total time=  18.4s\n",
      "[CV] END clf__max_depth=50, clf__min_samples_leaf=4, clf__min_samples_split=2, clf__n_estimators=250; total time=  14.1s\n",
      "[CV] END clf__max_depth=50, clf__min_samples_leaf=4, clf__min_samples_split=2, clf__n_estimators=250; total time=  14.0s\n",
      "[CV] END clf__max_depth=50, clf__min_samples_leaf=4, clf__min_samples_split=2, clf__n_estimators=250; total time=  14.0s\n",
      "[CV] END clf__max_depth=50, clf__min_samples_leaf=4, clf__min_samples_split=2, clf__n_estimators=250; total time=  14.0s\n",
      "[CV] END clf__max_depth=50, clf__min_samples_leaf=4, clf__min_samples_split=2, clf__n_estimators=250; total time=  14.0s\n",
      "[CV] END clf__max_depth=50, clf__min_samples_leaf=1, clf__min_samples_split=2, clf__n_estimators=175; total time=  27.9s\n",
      "[CV] END clf__max_depth=50, clf__min_samples_leaf=1, clf__min_samples_split=2, clf__n_estimators=175; total time=  28.5s\n",
      "[CV] END clf__max_depth=50, clf__min_samples_leaf=1, clf__min_samples_split=2, clf__n_estimators=175; total time=  29.1s\n",
      "[CV] END clf__max_depth=50, clf__min_samples_leaf=1, clf__min_samples_split=2, clf__n_estimators=175; total time=  29.5s\n",
      "[CV] END clf__max_depth=50, clf__min_samples_leaf=1, clf__min_samples_split=2, clf__n_estimators=175; total time=  29.3s\n",
      "[CV] END clf__max_depth=16, clf__min_samples_leaf=4, clf__min_samples_split=10, clf__n_estimators=137; total time=   3.5s\n",
      "[CV] END clf__max_depth=16, clf__min_samples_leaf=4, clf__min_samples_split=10, clf__n_estimators=137; total time=   3.4s\n",
      "[CV] END clf__max_depth=16, clf__min_samples_leaf=4, clf__min_samples_split=10, clf__n_estimators=137; total time=   3.4s\n",
      "[CV] END clf__max_depth=16, clf__min_samples_leaf=4, clf__min_samples_split=10, clf__n_estimators=137; total time=   3.4s\n",
      "[CV] END clf__max_depth=16, clf__min_samples_leaf=4, clf__min_samples_split=10, clf__n_estimators=137; total time=   3.5s\n",
      "[CV] END clf__max_depth=38, clf__min_samples_leaf=4, clf__min_samples_split=10, clf__n_estimators=212; total time=  10.7s\n",
      "[CV] END clf__max_depth=38, clf__min_samples_leaf=4, clf__min_samples_split=10, clf__n_estimators=212; total time=  10.7s\n",
      "[CV] END clf__max_depth=38, clf__min_samples_leaf=4, clf__min_samples_split=10, clf__n_estimators=212; total time=  10.7s\n",
      "[CV] END clf__max_depth=38, clf__min_samples_leaf=4, clf__min_samples_split=10, clf__n_estimators=212; total time=  10.6s\n",
      "[CV] END clf__max_depth=38, clf__min_samples_leaf=4, clf__min_samples_split=10, clf__n_estimators=212; total time=  10.7s\n",
      "[CV] END clf__max_depth=38, clf__min_samples_leaf=4, clf__min_samples_split=10, clf__n_estimators=100; total time=   5.3s\n",
      "[CV] END clf__max_depth=38, clf__min_samples_leaf=4, clf__min_samples_split=10, clf__n_estimators=100; total time=   5.2s\n",
      "[CV] END clf__max_depth=38, clf__min_samples_leaf=4, clf__min_samples_split=10, clf__n_estimators=100; total time=   5.1s\n",
      "[CV] END clf__max_depth=38, clf__min_samples_leaf=4, clf__min_samples_split=10, clf__n_estimators=100; total time=   5.2s\n",
      "[CV] END clf__max_depth=38, clf__min_samples_leaf=4, clf__min_samples_split=10, clf__n_estimators=100; total time=   5.2s\n"
     ]
    },
    {
     "data": {
      "text/html": [
       "<style>#sk-container-id-2 {color: black;background-color: white;}#sk-container-id-2 pre{padding: 0;}#sk-container-id-2 div.sk-toggleable {background-color: white;}#sk-container-id-2 label.sk-toggleable__label {cursor: pointer;display: block;width: 100%;margin-bottom: 0;padding: 0.3em;box-sizing: border-box;text-align: center;}#sk-container-id-2 label.sk-toggleable__label-arrow:before {content: \"▸\";float: left;margin-right: 0.25em;color: #696969;}#sk-container-id-2 label.sk-toggleable__label-arrow:hover:before {color: black;}#sk-container-id-2 div.sk-estimator:hover label.sk-toggleable__label-arrow:before {color: black;}#sk-container-id-2 div.sk-toggleable__content {max-height: 0;max-width: 0;overflow: hidden;text-align: left;background-color: #f0f8ff;}#sk-container-id-2 div.sk-toggleable__content pre {margin: 0.2em;color: black;border-radius: 0.25em;background-color: #f0f8ff;}#sk-container-id-2 input.sk-toggleable__control:checked~div.sk-toggleable__content {max-height: 200px;max-width: 100%;overflow: auto;}#sk-container-id-2 input.sk-toggleable__control:checked~label.sk-toggleable__label-arrow:before {content: \"▾\";}#sk-container-id-2 div.sk-estimator input.sk-toggleable__control:checked~label.sk-toggleable__label {background-color: #d4ebff;}#sk-container-id-2 div.sk-label input.sk-toggleable__control:checked~label.sk-toggleable__label {background-color: #d4ebff;}#sk-container-id-2 input.sk-hidden--visually {border: 0;clip: rect(1px 1px 1px 1px);clip: rect(1px, 1px, 1px, 1px);height: 1px;margin: -1px;overflow: hidden;padding: 0;position: absolute;width: 1px;}#sk-container-id-2 div.sk-estimator {font-family: monospace;background-color: #f0f8ff;border: 1px dotted black;border-radius: 0.25em;box-sizing: border-box;margin-bottom: 0.5em;}#sk-container-id-2 div.sk-estimator:hover {background-color: #d4ebff;}#sk-container-id-2 div.sk-parallel-item::after {content: \"\";width: 100%;border-bottom: 1px solid gray;flex-grow: 1;}#sk-container-id-2 div.sk-label:hover label.sk-toggleable__label {background-color: #d4ebff;}#sk-container-id-2 div.sk-serial::before {content: \"\";position: absolute;border-left: 1px solid gray;box-sizing: border-box;top: 0;bottom: 0;left: 50%;z-index: 0;}#sk-container-id-2 div.sk-serial {display: flex;flex-direction: column;align-items: center;background-color: white;padding-right: 0.2em;padding-left: 0.2em;position: relative;}#sk-container-id-2 div.sk-item {position: relative;z-index: 1;}#sk-container-id-2 div.sk-parallel {display: flex;align-items: stretch;justify-content: center;background-color: white;position: relative;}#sk-container-id-2 div.sk-item::before, #sk-container-id-2 div.sk-parallel-item::before {content: \"\";position: absolute;border-left: 1px solid gray;box-sizing: border-box;top: 0;bottom: 0;left: 50%;z-index: -1;}#sk-container-id-2 div.sk-parallel-item {display: flex;flex-direction: column;z-index: 1;position: relative;background-color: white;}#sk-container-id-2 div.sk-parallel-item:first-child::after {align-self: flex-end;width: 50%;}#sk-container-id-2 div.sk-parallel-item:last-child::after {align-self: flex-start;width: 50%;}#sk-container-id-2 div.sk-parallel-item:only-child::after {width: 0;}#sk-container-id-2 div.sk-dashed-wrapped {border: 1px dashed gray;margin: 0 0.4em 0.5em 0.4em;box-sizing: border-box;padding-bottom: 0.4em;background-color: white;}#sk-container-id-2 div.sk-label label {font-family: monospace;font-weight: bold;display: inline-block;line-height: 1.2em;}#sk-container-id-2 div.sk-label-container {text-align: center;}#sk-container-id-2 div.sk-container {/* jupyter's `normalize.less` sets `[hidden] { display: none; }` but bootstrap.min.css set `[hidden] { display: none !important; }` so we also need the `!important` here to be able to override the default hidden behavior on the sphinx rendered scikit-learn.org. See: https://github.com/scikit-learn/scikit-learn/issues/21755 */display: inline-block !important;position: relative;}#sk-container-id-2 div.sk-text-repr-fallback {display: none;}</style><div id=\"sk-container-id-2\" class=\"sk-top-container\"><div class=\"sk-text-repr-fallback\"><pre>RandomizedSearchCV(cv=5,\n",
       "                   estimator=Pipeline(steps=[(&#x27;preprocessing&#x27;,\n",
       "                                              ColumnTransformer(remainder=&#x27;passthrough&#x27;,\n",
       "                                                                transformers=[(&#x27;categoricals&#x27;,\n",
       "                                                                               Pipeline(steps=[(&#x27;imputer_cat&#x27;,\n",
       "                                                                                                SimpleImputer(strategy=&#x27;most_frequent&#x27;)),\n",
       "                                                                                               (&#x27;onehot&#x27;,\n",
       "                                                                                                OneHotEncoder(handle_unknown=&#x27;ignore&#x27;))]),\n",
       "                                                                               [&#x27;common_name&#x27;,\n",
       "                                                                                &#x27;native&#x27;]),\n",
       "                                                                              (&#x27;numericals_std&#x27;,\n",
       "                                                                               Pipeline(steps=[(&#x27;imputer_num_std&#x27;,\n",
       "                                                                                                SimpleIm...\n",
       "                                                                                                SimpleImputer(strategy=&#x27;median&#x27;)),\n",
       "                                                                                               (&#x27;scaler_pwr&#x27;,\n",
       "                                                                                                PowerTransformer())]),\n",
       "                                                                               [&#x27;diameter_breast_height_CM&#x27;,\n",
       "                                                                                &#x27;norm_snow_mm_total&#x27;,\n",
       "                                                                                &#x27;distance_between&#x27;,\n",
       "                                                                                &#x27;adj_reports&#x27;])])),\n",
       "                                             (&#x27;clf&#x27;,\n",
       "                                              RandomForestClassifier())]),\n",
       "                   param_distributions={&#x27;clf__max_depth&#x27;: [5, 16, 27, 38, 50],\n",
       "                                        &#x27;clf__min_samples_leaf&#x27;: [1, 2, 4],\n",
       "                                        &#x27;clf__min_samples_split&#x27;: [2, 5, 10],\n",
       "                                        &#x27;clf__n_estimators&#x27;: [100, 137, 175,\n",
       "                                                              212, 250]},\n",
       "                   random_state=42, verbose=2)</pre><b>In a Jupyter environment, please rerun this cell to show the HTML representation or trust the notebook. <br />On GitHub, the HTML representation is unable to render, please try loading this page with nbviewer.org.</b></div><div class=\"sk-container\" hidden><div class=\"sk-item sk-dashed-wrapped\"><div class=\"sk-label-container\"><div class=\"sk-label sk-toggleable\"><input class=\"sk-toggleable__control sk-hidden--visually\" id=\"sk-estimator-id-2\" type=\"checkbox\" ><label for=\"sk-estimator-id-2\" class=\"sk-toggleable__label sk-toggleable__label-arrow\">RandomizedSearchCV</label><div class=\"sk-toggleable__content\"><pre>RandomizedSearchCV(cv=5,\n",
       "                   estimator=Pipeline(steps=[(&#x27;preprocessing&#x27;,\n",
       "                                              ColumnTransformer(remainder=&#x27;passthrough&#x27;,\n",
       "                                                                transformers=[(&#x27;categoricals&#x27;,\n",
       "                                                                               Pipeline(steps=[(&#x27;imputer_cat&#x27;,\n",
       "                                                                                                SimpleImputer(strategy=&#x27;most_frequent&#x27;)),\n",
       "                                                                                               (&#x27;onehot&#x27;,\n",
       "                                                                                                OneHotEncoder(handle_unknown=&#x27;ignore&#x27;))]),\n",
       "                                                                               [&#x27;common_name&#x27;,\n",
       "                                                                                &#x27;native&#x27;]),\n",
       "                                                                              (&#x27;numericals_std&#x27;,\n",
       "                                                                               Pipeline(steps=[(&#x27;imputer_num_std&#x27;,\n",
       "                                                                                                SimpleIm...\n",
       "                                                                                                SimpleImputer(strategy=&#x27;median&#x27;)),\n",
       "                                                                                               (&#x27;scaler_pwr&#x27;,\n",
       "                                                                                                PowerTransformer())]),\n",
       "                                                                               [&#x27;diameter_breast_height_CM&#x27;,\n",
       "                                                                                &#x27;norm_snow_mm_total&#x27;,\n",
       "                                                                                &#x27;distance_between&#x27;,\n",
       "                                                                                &#x27;adj_reports&#x27;])])),\n",
       "                                             (&#x27;clf&#x27;,\n",
       "                                              RandomForestClassifier())]),\n",
       "                   param_distributions={&#x27;clf__max_depth&#x27;: [5, 16, 27, 38, 50],\n",
       "                                        &#x27;clf__min_samples_leaf&#x27;: [1, 2, 4],\n",
       "                                        &#x27;clf__min_samples_split&#x27;: [2, 5, 10],\n",
       "                                        &#x27;clf__n_estimators&#x27;: [100, 137, 175,\n",
       "                                                              212, 250]},\n",
       "                   random_state=42, verbose=2)</pre></div></div></div><div class=\"sk-parallel\"><div class=\"sk-parallel-item\"><div class=\"sk-item\"><div class=\"sk-label-container\"><div class=\"sk-label sk-toggleable\"><input class=\"sk-toggleable__control sk-hidden--visually\" id=\"sk-estimator-id-3\" type=\"checkbox\" ><label for=\"sk-estimator-id-3\" class=\"sk-toggleable__label sk-toggleable__label-arrow\">estimator: Pipeline</label><div class=\"sk-toggleable__content\"><pre>Pipeline(steps=[(&#x27;preprocessing&#x27;,\n",
       "                 ColumnTransformer(remainder=&#x27;passthrough&#x27;,\n",
       "                                   transformers=[(&#x27;categoricals&#x27;,\n",
       "                                                  Pipeline(steps=[(&#x27;imputer_cat&#x27;,\n",
       "                                                                   SimpleImputer(strategy=&#x27;most_frequent&#x27;)),\n",
       "                                                                  (&#x27;onehot&#x27;,\n",
       "                                                                   OneHotEncoder(handle_unknown=&#x27;ignore&#x27;))]),\n",
       "                                                  [&#x27;common_name&#x27;, &#x27;native&#x27;]),\n",
       "                                                 (&#x27;numericals_std&#x27;,\n",
       "                                                  Pipeline(steps=[(&#x27;imputer_num_std&#x27;,\n",
       "                                                                   SimpleImputer(strategy=&#x27;median&#x27;)),\n",
       "                                                                  (&#x27;scaler_std&#x27;,\n",
       "                                                                   StandardScaler())]),\n",
       "                                                  [&#x27;age_at_obs&#x27;,\n",
       "                                                   &#x27;norm_prcp_mm_total&#x27;,\n",
       "                                                   &#x27;temp_avg_normal&#x27;,\n",
       "                                                   &#x27;prcp_mm_normal&#x27;]),\n",
       "                                                 (&#x27;numbericals_pwr&#x27;,\n",
       "                                                  Pipeline(steps=[(&#x27;imputer_num_pwr&#x27;,\n",
       "                                                                   SimpleImputer(strategy=&#x27;median&#x27;)),\n",
       "                                                                  (&#x27;scaler_pwr&#x27;,\n",
       "                                                                   PowerTransformer())]),\n",
       "                                                  [&#x27;diameter_breast_height_CM&#x27;,\n",
       "                                                   &#x27;norm_snow_mm_total&#x27;,\n",
       "                                                   &#x27;distance_between&#x27;,\n",
       "                                                   &#x27;adj_reports&#x27;])])),\n",
       "                (&#x27;clf&#x27;, RandomForestClassifier())])</pre></div></div></div><div class=\"sk-serial\"><div class=\"sk-item\"><div class=\"sk-serial\"><div class=\"sk-item sk-dashed-wrapped\"><div class=\"sk-label-container\"><div class=\"sk-label sk-toggleable\"><input class=\"sk-toggleable__control sk-hidden--visually\" id=\"sk-estimator-id-4\" type=\"checkbox\" ><label for=\"sk-estimator-id-4\" class=\"sk-toggleable__label sk-toggleable__label-arrow\">preprocessing: ColumnTransformer</label><div class=\"sk-toggleable__content\"><pre>ColumnTransformer(remainder=&#x27;passthrough&#x27;,\n",
       "                  transformers=[(&#x27;categoricals&#x27;,\n",
       "                                 Pipeline(steps=[(&#x27;imputer_cat&#x27;,\n",
       "                                                  SimpleImputer(strategy=&#x27;most_frequent&#x27;)),\n",
       "                                                 (&#x27;onehot&#x27;,\n",
       "                                                  OneHotEncoder(handle_unknown=&#x27;ignore&#x27;))]),\n",
       "                                 [&#x27;common_name&#x27;, &#x27;native&#x27;]),\n",
       "                                (&#x27;numericals_std&#x27;,\n",
       "                                 Pipeline(steps=[(&#x27;imputer_num_std&#x27;,\n",
       "                                                  SimpleImputer(strategy=&#x27;median&#x27;)),\n",
       "                                                 (&#x27;scaler_std&#x27;,\n",
       "                                                  StandardScaler())]),\n",
       "                                 [&#x27;age_at_obs&#x27;, &#x27;norm_prcp_mm_total&#x27;,\n",
       "                                  &#x27;temp_avg_normal&#x27;, &#x27;prcp_mm_normal&#x27;]),\n",
       "                                (&#x27;numbericals_pwr&#x27;,\n",
       "                                 Pipeline(steps=[(&#x27;imputer_num_pwr&#x27;,\n",
       "                                                  SimpleImputer(strategy=&#x27;median&#x27;)),\n",
       "                                                 (&#x27;scaler_pwr&#x27;,\n",
       "                                                  PowerTransformer())]),\n",
       "                                 [&#x27;diameter_breast_height_CM&#x27;,\n",
       "                                  &#x27;norm_snow_mm_total&#x27;, &#x27;distance_between&#x27;,\n",
       "                                  &#x27;adj_reports&#x27;])])</pre></div></div></div><div class=\"sk-parallel\"><div class=\"sk-parallel-item\"><div class=\"sk-item\"><div class=\"sk-label-container\"><div class=\"sk-label sk-toggleable\"><input class=\"sk-toggleable__control sk-hidden--visually\" id=\"sk-estimator-id-5\" type=\"checkbox\" ><label for=\"sk-estimator-id-5\" class=\"sk-toggleable__label sk-toggleable__label-arrow\">categoricals</label><div class=\"sk-toggleable__content\"><pre>[&#x27;common_name&#x27;, &#x27;native&#x27;]</pre></div></div></div><div class=\"sk-serial\"><div class=\"sk-item\"><div class=\"sk-serial\"><div class=\"sk-item\"><div class=\"sk-estimator sk-toggleable\"><input class=\"sk-toggleable__control sk-hidden--visually\" id=\"sk-estimator-id-6\" type=\"checkbox\" ><label for=\"sk-estimator-id-6\" class=\"sk-toggleable__label sk-toggleable__label-arrow\">SimpleImputer</label><div class=\"sk-toggleable__content\"><pre>SimpleImputer(strategy=&#x27;most_frequent&#x27;)</pre></div></div></div><div class=\"sk-item\"><div class=\"sk-estimator sk-toggleable\"><input class=\"sk-toggleable__control sk-hidden--visually\" id=\"sk-estimator-id-7\" type=\"checkbox\" ><label for=\"sk-estimator-id-7\" class=\"sk-toggleable__label sk-toggleable__label-arrow\">OneHotEncoder</label><div class=\"sk-toggleable__content\"><pre>OneHotEncoder(handle_unknown=&#x27;ignore&#x27;)</pre></div></div></div></div></div></div></div></div><div class=\"sk-parallel-item\"><div class=\"sk-item\"><div class=\"sk-label-container\"><div class=\"sk-label sk-toggleable\"><input class=\"sk-toggleable__control sk-hidden--visually\" id=\"sk-estimator-id-8\" type=\"checkbox\" ><label for=\"sk-estimator-id-8\" class=\"sk-toggleable__label sk-toggleable__label-arrow\">numericals_std</label><div class=\"sk-toggleable__content\"><pre>[&#x27;age_at_obs&#x27;, &#x27;norm_prcp_mm_total&#x27;, &#x27;temp_avg_normal&#x27;, &#x27;prcp_mm_normal&#x27;]</pre></div></div></div><div class=\"sk-serial\"><div class=\"sk-item\"><div class=\"sk-serial\"><div class=\"sk-item\"><div class=\"sk-estimator sk-toggleable\"><input class=\"sk-toggleable__control sk-hidden--visually\" id=\"sk-estimator-id-9\" type=\"checkbox\" ><label for=\"sk-estimator-id-9\" class=\"sk-toggleable__label sk-toggleable__label-arrow\">SimpleImputer</label><div class=\"sk-toggleable__content\"><pre>SimpleImputer(strategy=&#x27;median&#x27;)</pre></div></div></div><div class=\"sk-item\"><div class=\"sk-estimator sk-toggleable\"><input class=\"sk-toggleable__control sk-hidden--visually\" id=\"sk-estimator-id-10\" type=\"checkbox\" ><label for=\"sk-estimator-id-10\" class=\"sk-toggleable__label sk-toggleable__label-arrow\">StandardScaler</label><div class=\"sk-toggleable__content\"><pre>StandardScaler()</pre></div></div></div></div></div></div></div></div><div class=\"sk-parallel-item\"><div class=\"sk-item\"><div class=\"sk-label-container\"><div class=\"sk-label sk-toggleable\"><input class=\"sk-toggleable__control sk-hidden--visually\" id=\"sk-estimator-id-11\" type=\"checkbox\" ><label for=\"sk-estimator-id-11\" class=\"sk-toggleable__label sk-toggleable__label-arrow\">numbericals_pwr</label><div class=\"sk-toggleable__content\"><pre>[&#x27;diameter_breast_height_CM&#x27;, &#x27;norm_snow_mm_total&#x27;, &#x27;distance_between&#x27;, &#x27;adj_reports&#x27;]</pre></div></div></div><div class=\"sk-serial\"><div class=\"sk-item\"><div class=\"sk-serial\"><div class=\"sk-item\"><div class=\"sk-estimator sk-toggleable\"><input class=\"sk-toggleable__control sk-hidden--visually\" id=\"sk-estimator-id-12\" type=\"checkbox\" ><label for=\"sk-estimator-id-12\" class=\"sk-toggleable__label sk-toggleable__label-arrow\">SimpleImputer</label><div class=\"sk-toggleable__content\"><pre>SimpleImputer(strategy=&#x27;median&#x27;)</pre></div></div></div><div class=\"sk-item\"><div class=\"sk-estimator sk-toggleable\"><input class=\"sk-toggleable__control sk-hidden--visually\" id=\"sk-estimator-id-13\" type=\"checkbox\" ><label for=\"sk-estimator-id-13\" class=\"sk-toggleable__label sk-toggleable__label-arrow\">PowerTransformer</label><div class=\"sk-toggleable__content\"><pre>PowerTransformer()</pre></div></div></div></div></div></div></div></div><div class=\"sk-parallel-item\"><div class=\"sk-item\"><div class=\"sk-label-container\"><div class=\"sk-label sk-toggleable\"><input class=\"sk-toggleable__control sk-hidden--visually\" id=\"sk-estimator-id-14\" type=\"checkbox\" ><label for=\"sk-estimator-id-14\" class=\"sk-toggleable__label sk-toggleable__label-arrow\">remainder</label><div class=\"sk-toggleable__content\"><pre></pre></div></div></div><div class=\"sk-serial\"><div class=\"sk-item\"><div class=\"sk-estimator sk-toggleable\"><input class=\"sk-toggleable__control sk-hidden--visually\" id=\"sk-estimator-id-15\" type=\"checkbox\" ><label for=\"sk-estimator-id-15\" class=\"sk-toggleable__label sk-toggleable__label-arrow\">passthrough</label><div class=\"sk-toggleable__content\"><pre>passthrough</pre></div></div></div></div></div></div></div></div><div class=\"sk-item\"><div class=\"sk-estimator sk-toggleable\"><input class=\"sk-toggleable__control sk-hidden--visually\" id=\"sk-estimator-id-16\" type=\"checkbox\" ><label for=\"sk-estimator-id-16\" class=\"sk-toggleable__label sk-toggleable__label-arrow\">RandomForestClassifier</label><div class=\"sk-toggleable__content\"><pre>RandomForestClassifier()</pre></div></div></div></div></div></div></div></div></div></div></div></div>"
      ],
      "text/plain": [
       "RandomizedSearchCV(cv=5,\n",
       "                   estimator=Pipeline(steps=[('preprocessing',\n",
       "                                              ColumnTransformer(remainder='passthrough',\n",
       "                                                                transformers=[('categoricals',\n",
       "                                                                               Pipeline(steps=[('imputer_cat',\n",
       "                                                                                                SimpleImputer(strategy='most_frequent')),\n",
       "                                                                                               ('onehot',\n",
       "                                                                                                OneHotEncoder(handle_unknown='ignore'))]),\n",
       "                                                                               ['common_name',\n",
       "                                                                                'native']),\n",
       "                                                                              ('numericals_std',\n",
       "                                                                               Pipeline(steps=[('imputer_num_std',\n",
       "                                                                                                SimpleIm...\n",
       "                                                                                                SimpleImputer(strategy='median')),\n",
       "                                                                                               ('scaler_pwr',\n",
       "                                                                                                PowerTransformer())]),\n",
       "                                                                               ['diameter_breast_height_CM',\n",
       "                                                                                'norm_snow_mm_total',\n",
       "                                                                                'distance_between',\n",
       "                                                                                'adj_reports'])])),\n",
       "                                             ('clf',\n",
       "                                              RandomForestClassifier())]),\n",
       "                   param_distributions={'clf__max_depth': [5, 16, 27, 38, 50],\n",
       "                                        'clf__min_samples_leaf': [1, 2, 4],\n",
       "                                        'clf__min_samples_split': [2, 5, 10],\n",
       "                                        'clf__n_estimators': [100, 137, 175,\n",
       "                                                              212, 250]},\n",
       "                   random_state=42, verbose=2)"
      ]
     },
     "execution_count": 108,
     "metadata": {},
     "output_type": "execute_result"
    }
   ],
   "source": [
    "rand_search.fit(X_res, y_res)"
   ]
  },
  {
   "attachments": {},
   "cell_type": "markdown",
   "metadata": {},
   "source": [
    "#### 3.9.1.2 Review Results"
   ]
  },
  {
   "cell_type": "code",
   "execution_count": 110,
   "metadata": {},
   "outputs": [
    {
     "data": {
      "text/plain": [
       "{'clf__n_estimators': 250,\n",
       " 'clf__min_samples_split': 2,\n",
       " 'clf__min_samples_leaf': 1,\n",
       " 'clf__max_depth': 50}"
      ]
     },
     "execution_count": 110,
     "metadata": {},
     "output_type": "execute_result"
    }
   ],
   "source": [
    "params = rand_search.best_params_\n",
    "\n",
    "params"
   ]
  },
  {
   "cell_type": "code",
   "execution_count": 111,
   "metadata": {},
   "outputs": [
    {
     "name": "stdout",
     "output_type": "stream",
     "text": [
      "Accuracy on training data: 1.00\n",
      "Classification Report for Training Data\n",
      "              precision    recall  f1-score   support\n",
      "\n",
      "         1.0       1.00      1.00      1.00      8871\n",
      "         2.0       1.00      1.00      1.00      8871\n",
      "         3.0       1.00      1.00      1.00      8871\n",
      "         4.0       0.99      1.00      0.99      8871\n",
      "         5.0       1.00      1.00      1.00      8871\n",
      "\n",
      "    accuracy                           1.00     44355\n",
      "   macro avg       1.00      1.00      1.00     44355\n",
      "weighted avg       1.00      1.00      1.00     44355\n",
      "\n"
     ]
    }
   ],
   "source": [
    "#review scores\n",
    "print(f'Accuracy on training data: {accuracy_score(rand_search.predict(X_res), y_res):.2f}')\n",
    "print(\"Classification Report for Training Data\")\n",
    "print(classification_report(y_res, rand_search.predict(X_res)))"
   ]
  },
  {
   "attachments": {},
   "cell_type": "markdown",
   "metadata": {},
   "source": [
    "**Observations:**\n",
    "\\\n",
    "Siri, what's the definition of overfitting? K Thanks. I've got a bad feeling about the test set but let's see how it goes!"
   ]
  },
  {
   "cell_type": "markdown",
   "metadata": {},
   "source": [
    "### 3.9.2 Evaluate RF Model on Test Set"
   ]
  },
  {
   "cell_type": "code",
   "execution_count": 115,
   "metadata": {},
   "outputs": [],
   "source": [
    "y_pred = rand_search.predict(X_test)"
   ]
  },
  {
   "cell_type": "code",
   "execution_count": 116,
   "metadata": {},
   "outputs": [
    {
     "name": "stdout",
     "output_type": "stream",
     "text": [
      "Accuracy on test data: 0.36\n",
      "Classification Report for Test Data\n",
      "              precision    recall  f1-score   support\n",
      "\n",
      "         1.0       0.06      0.07      0.06        58\n",
      "         2.0       0.07      0.04      0.05       224\n",
      "         3.0       0.23      0.53      0.32       958\n",
      "         4.0       0.57      0.41      0.48      2194\n",
      "         5.0       0.23      0.02      0.04       566\n",
      "\n",
      "    accuracy                           0.36      4000\n",
      "   macro avg       0.23      0.21      0.19      4000\n",
      "weighted avg       0.41      0.36      0.35      4000\n",
      "\n",
      "----------------------------------------\n",
      "[[   4    2   33   18    1]\n",
      " [  14    9  127   74    0]\n",
      " [  41   23  507  380    7]\n",
      " [  13   72 1173  903   33]\n",
      " [   0   21  333  200   12]]\n"
     ]
    }
   ],
   "source": [
    "print(f'Accuracy on test data: {accuracy_score(y_pred, y_test):.2f}')\n",
    "print(\"Classification Report for Test Data\")\n",
    "print(classification_report(y_test, y_pred))\n",
    "print('----------------------------------------')\n",
    "print(confusion_matrix(y_test, y_pred))"
   ]
  },
  {
   "attachments": {},
   "cell_type": "markdown",
   "metadata": {},
   "source": [
    "**Observations:**\n",
    "\\\n",
    "\\\n",
    "This is a much lower performance due to the overfitting. I'm curious to see the impact of different max depths visualized."
   ]
  },
  {
   "attachments": {},
   "cell_type": "markdown",
   "metadata": {},
   "source": [
    "### 3.9.3 Visualize F1 Scores for Different Max Depths\n",
    "\n",
    "#### 3.9.3.0 Re-Process Data To Avoid Leakage : SMOTE"
   ]
  },
  {
   "cell_type": "code",
   "execution_count": 117,
   "metadata": {},
   "outputs": [
    {
     "name": "stdout",
     "output_type": "stream",
     "text": [
      "(16000, 10) (16000,) (4000, 10) (4000,)\n"
     ]
    }
   ],
   "source": [
    "#Train Test Split\n",
    "X_train_final, X_test_final, y_train_final, y_test_final = train_test_split(X, y, test_size=0.2, random_state=42)\n",
    "\n",
    "print(X_train_final.shape, y_train_final.shape, X_test_final.shape, y_test_final.shape)"
   ]
  },
  {
   "cell_type": "code",
   "execution_count": 118,
   "metadata": {},
   "outputs": [],
   "source": [
    "#Initialize New Imputers\n",
    "num_imputer_2 = SimpleImputer(strategy='median')\n",
    "cat_imputer_2 = SimpleImputer(strategy='constant', fill_value='missing')"
   ]
  },
  {
   "cell_type": "code",
   "execution_count": 121,
   "metadata": {},
   "outputs": [],
   "source": [
    "#Prep for SMOTE, impute missing and group categorical values\n",
    "#impute missing values\n",
    "X_train_final['age_at_obs'] = num_imputer_2.fit_transform(X_train_final[['age_at_obs']])\n",
    "X_train_final['common_name'] = cat_imputer_2.fit_transform(X_train_final[['common_name']])\n",
    "\n",
    "#group categorical values\n",
    "#use our group categories feature on our X_train set\n",
    "group_categories(X_train_final, 'common_name', 3)"
   ]
  },
  {
   "cell_type": "code",
   "execution_count": 119,
   "metadata": {},
   "outputs": [
    {
     "data": {
      "text/plain": [
       "(16000, 10)"
      ]
     },
     "execution_count": 119,
     "metadata": {},
     "output_type": "execute_result"
    }
   ],
   "source": [
    "X_train_final.shape"
   ]
  },
  {
   "cell_type": "code",
   "execution_count": 122,
   "metadata": {},
   "outputs": [
    {
     "name": "stdout",
     "output_type": "stream",
     "text": [
      "[   0 8871 8871 8871 8871 8871]\n",
      "(44355, 10)\n"
     ]
    }
   ],
   "source": [
    "#SMOTE Data\n",
    "#use SMOTE to resample and balance our dataset\n",
    "sm = SMOTENC(random_state=42, categorical_features=[0,2])\n",
    "X_res_final, y_res_final = sm.fit_resample(X_train_final, y_train_final)\n",
    "\n",
    "print(np.bincount(y_res_final))\n",
    "\n",
    "print(X_res_final.shape)"
   ]
  },
  {
   "attachments": {},
   "cell_type": "markdown",
   "metadata": {},
   "source": [
    "#### 3.9.3.3 Re-Process Data To Avoid Leakage : Encode Train & Test"
   ]
  },
  {
   "cell_type": "code",
   "execution_count": 123,
   "metadata": {},
   "outputs": [],
   "source": [
    "#use our group categories feature on our X_train set\n",
    "group_categories(X_test_final, 'common_name', 3)"
   ]
  },
  {
   "cell_type": "code",
   "execution_count": 124,
   "metadata": {},
   "outputs": [
    {
     "data": {
      "text/plain": [
       "(4000, 10)"
      ]
     },
     "execution_count": 124,
     "metadata": {},
     "output_type": "execute_result"
    }
   ],
   "source": [
    "X_test_final.shape"
   ]
  },
  {
   "attachments": {},
   "cell_type": "markdown",
   "metadata": {},
   "source": [
    "#### 3.9.3.1 Loop Through Different Maxes and Visualize Performance"
   ]
  },
  {
   "cell_type": "code",
   "execution_count": 126,
   "metadata": {},
   "outputs": [
    {
     "data": {
      "text/plain": [
       "array([10, 12, 14, 16, 18, 20, 22, 24, 26, 28, 30, 32, 34, 36, 38, 40, 42,\n",
       "       44, 46, 48])"
      ]
     },
     "execution_count": 126,
     "metadata": {},
     "output_type": "execute_result"
    }
   ],
   "source": [
    "#setup depth values to test\n",
    "depth = np.arange(10,50,2) #setup max_depth values to test\n",
    "depth"
   ]
  },
  {
   "cell_type": "code",
   "execution_count": 148,
   "metadata": {},
   "outputs": [],
   "source": [
    "#create function to run pipeline with different depths\n",
    "def create_pipeline_search(depth_n):\n",
    "    #setup pipeline\n",
    "    pipe_rf = Pipeline(\n",
    "        [\n",
    "            ('preprocessing', preprocessor),\n",
    "            ('clf', RandomForestClassifier(n_estimators=250, min_samples_split=2, min_samples_leaf=1, max_depth=n))\n",
    "        ]\n",
    "    )\n",
    "    #setup parms\n",
    "    params_rf = {\n",
    "        'clf__n_estimators': [250]\n",
    "    }\n",
    "\n",
    "    #setup grid search\n",
    "    cv = GridSearchCV(\n",
    "        pipe_rf,\n",
    "        params_rf,\n",
    "        cv = 5,\n",
    "        scoring = ['recall_macro', 'f1_macro'],\n",
    "        refit = 'recall_macro'\n",
    "    )\n",
    "\n",
    "    cv.fit(X_res_final, y_res)\n",
    "    y_train_pred = cv.predict(X_res_final)\n",
    "    y_test_pred = cv.predict(X_test)\n",
    "    training_recall = recall_score(y_res, y_train_pred, average='macro')\n",
    "    test_recall = recall_score(y_test, y_test_pred, average='macro')\n",
    "\n",
    "    return {'train': training_recall, 'test': test_recall}"
   ]
  },
  {
   "cell_type": "code",
   "execution_count": 154,
   "metadata": {},
   "outputs": [],
   "source": [
    "#Loop through and store outputs Runs slow - about 45 mins\n",
    "train = {}\n",
    "test = {}\n",
    "\n",
    "for n in depth:\n",
    "    results_dict = create_pipeline_search(n)\n",
    "    train[n] = results_dict['train']\n",
    "    test[n] = results_dict['test']"
   ]
  },
  {
   "cell_type": "code",
   "execution_count": 155,
   "metadata": {},
   "outputs": [],
   "source": [
    "#which depth produced the best f1 score\n",
    "best_depth = \"Best Depth Performance: \" + str(max(test, key=test.get))"
   ]
  },
  {
   "cell_type": "code",
   "execution_count": 156,
   "metadata": {},
   "outputs": [
    {
     "data": {
      "image/png": "[encoded data removed]",
      "text/plain": [
       "<Figure size 640x480 with 1 Axes>"
      ]
     },
     "metadata": {},
     "output_type": "display_data"
    },
    {
     "name": "stdout",
     "output_type": "stream",
     "text": [
      "Best Depth Performance: 32\n"
     ]
    }
   ],
   "source": [
    "#Visualize\n",
    "plt.plot(list(train.keys()),list(train.values()), label='Training Recall')\n",
    "plt.plot(list(test.keys()),list(test.values()), label='Testing Recall')\n",
    "\n",
    "plt.xlabel('max_depth')\n",
    "plt.ylabel('Recall Score')\n",
    "plt.title('Train vs. Test Recall Score for Different max_depths')\n",
    "plt.legend()\n",
    "plt.show()\n",
    "\n",
    "print(best_depth)\n"
   ]
  },
  {
   "attachments": {},
   "cell_type": "markdown",
   "metadata": {},
   "source": [
    "It looks like training recall hits 100% at about 40 so we could try that. Even though best score is on 32, I don't want to pick that as it may just be on this specific test set. I'd rather not get in the habit of tuning on the test set. ;)\n",
    "\n",
    "### 3.9.4 Run GridSearchCV On Other Hyper Params with a few Max_Depths up to 40.\n",
    "I want to try GridSearchCV (instead of Randomized), this time limiting the search between 10 and 25 max_depth where we get the biggest lift. We're getting close to a final model, and I think this will be the last search run."
   ]
  },
  {
   "attachments": {},
   "cell_type": "markdown",
   "metadata": {},
   "source": [
    "#### 3.9.4.0 Set Grid Params"
   ]
  },
  {
   "cell_type": "code",
   "execution_count": 160,
   "metadata": {},
   "outputs": [
    {
     "name": "stdout",
     "output_type": "stream",
     "text": [
      "{'clf__n_estimators': [100, 125, 150, 175, 200], 'clf__max_depth': [10, 13, 17, 21, 25], 'clf__min_samples_split': [2], 'clf__min_samples_leaf': [1]}\n"
     ]
    }
   ],
   "source": [
    "#list out our different params\n",
    "n_estimators = [int(x) for x in np.linspace(start = 100, stop = 200, num = 5)] #number of trees in the forest\n",
    "max_depth = [int(x) for x in np.linspace(start = 10, stop = 25, num =5)]\n",
    "min_samples_split = [2] #min samples required to split a node\n",
    "min_samples_leaf = [1] #min samples at each leaf node\n",
    "\n",
    "#Create random grid\n",
    "rand_grid2 = {'clf__n_estimators': n_estimators,\n",
    "               'clf__max_depth': max_depth,\n",
    "               'clf__min_samples_split': min_samples_split,\n",
    "               'clf__min_samples_leaf': min_samples_leaf}\n",
    "\n",
    "print(rand_grid2)"
   ]
  },
  {
   "attachments": {},
   "cell_type": "markdown",
   "metadata": {},
   "source": [
    "#### 3.9.4.1 Run GridSearchCV"
   ]
  },
  {
   "cell_type": "code",
   "execution_count": 161,
   "metadata": {},
   "outputs": [],
   "source": [
    "#create our GridSearch object. I am thinking our evaluation measure would be best suited as precision. I want to penalize the model for predicting retention whne it isn't the case. But I will include f1 in the scoring and refit based on precision\n",
    "cv = GridSearchCV(\n",
    "    pipe_rf,\n",
    "    rand_grid2,\n",
    "    cv = 5,\n",
    "    scoring = ['recall_macro', 'f1_macro'],\n",
    "    refit = 'recall_macro'\n",
    ")"
   ]
  },
  {
   "cell_type": "code",
   "execution_count": 162,
   "metadata": {},
   "outputs": [
    {
     "data": {
      "text/html": [
       "<style>#sk-container-id-3 {color: black;background-color: white;}#sk-container-id-3 pre{padding: 0;}#sk-container-id-3 div.sk-toggleable {background-color: white;}#sk-container-id-3 label.sk-toggleable__label {cursor: pointer;display: block;width: 100%;margin-bottom: 0;padding: 0.3em;box-sizing: border-box;text-align: center;}#sk-container-id-3 label.sk-toggleable__label-arrow:before {content: \"▸\";float: left;margin-right: 0.25em;color: #696969;}#sk-container-id-3 label.sk-toggleable__label-arrow:hover:before {color: black;}#sk-container-id-3 div.sk-estimator:hover label.sk-toggleable__label-arrow:before {color: black;}#sk-container-id-3 div.sk-toggleable__content {max-height: 0;max-width: 0;overflow: hidden;text-align: left;background-color: #f0f8ff;}#sk-container-id-3 div.sk-toggleable__content pre {margin: 0.2em;color: black;border-radius: 0.25em;background-color: #f0f8ff;}#sk-container-id-3 input.sk-toggleable__control:checked~div.sk-toggleable__content {max-height: 200px;max-width: 100%;overflow: auto;}#sk-container-id-3 input.sk-toggleable__control:checked~label.sk-toggleable__label-arrow:before {content: \"▾\";}#sk-container-id-3 div.sk-estimator input.sk-toggleable__control:checked~label.sk-toggleable__label {background-color: #d4ebff;}#sk-container-id-3 div.sk-label input.sk-toggleable__control:checked~label.sk-toggleable__label {background-color: #d4ebff;}#sk-container-id-3 input.sk-hidden--visually {border: 0;clip: rect(1px 1px 1px 1px);clip: rect(1px, 1px, 1px, 1px);height: 1px;margin: -1px;overflow: hidden;padding: 0;position: absolute;width: 1px;}#sk-container-id-3 div.sk-estimator {font-family: monospace;background-color: #f0f8ff;border: 1px dotted black;border-radius: 0.25em;box-sizing: border-box;margin-bottom: 0.5em;}#sk-container-id-3 div.sk-estimator:hover {background-color: #d4ebff;}#sk-container-id-3 div.sk-parallel-item::after {content: \"\";width: 100%;border-bottom: 1px solid gray;flex-grow: 1;}#sk-container-id-3 div.sk-label:hover label.sk-toggleable__label {background-color: #d4ebff;}#sk-container-id-3 div.sk-serial::before {content: \"\";position: absolute;border-left: 1px solid gray;box-sizing: border-box;top: 0;bottom: 0;left: 50%;z-index: 0;}#sk-container-id-3 div.sk-serial {display: flex;flex-direction: column;align-items: center;background-color: white;padding-right: 0.2em;padding-left: 0.2em;position: relative;}#sk-container-id-3 div.sk-item {position: relative;z-index: 1;}#sk-container-id-3 div.sk-parallel {display: flex;align-items: stretch;justify-content: center;background-color: white;position: relative;}#sk-container-id-3 div.sk-item::before, #sk-container-id-3 div.sk-parallel-item::before {content: \"\";position: absolute;border-left: 1px solid gray;box-sizing: border-box;top: 0;bottom: 0;left: 50%;z-index: -1;}#sk-container-id-3 div.sk-parallel-item {display: flex;flex-direction: column;z-index: 1;position: relative;background-color: white;}#sk-container-id-3 div.sk-parallel-item:first-child::after {align-self: flex-end;width: 50%;}#sk-container-id-3 div.sk-parallel-item:last-child::after {align-self: flex-start;width: 50%;}#sk-container-id-3 div.sk-parallel-item:only-child::after {width: 0;}#sk-container-id-3 div.sk-dashed-wrapped {border: 1px dashed gray;margin: 0 0.4em 0.5em 0.4em;box-sizing: border-box;padding-bottom: 0.4em;background-color: white;}#sk-container-id-3 div.sk-label label {font-family: monospace;font-weight: bold;display: inline-block;line-height: 1.2em;}#sk-container-id-3 div.sk-label-container {text-align: center;}#sk-container-id-3 div.sk-container {/* jupyter's `normalize.less` sets `[hidden] { display: none; }` but bootstrap.min.css set `[hidden] { display: none !important; }` so we also need the `!important` here to be able to override the default hidden behavior on the sphinx rendered scikit-learn.org. See: https://github.com/scikit-learn/scikit-learn/issues/21755 */display: inline-block !important;position: relative;}#sk-container-id-3 div.sk-text-repr-fallback {display: none;}</style><div id=\"sk-container-id-3\" class=\"sk-top-container\"><div class=\"sk-text-repr-fallback\"><pre>GridSearchCV(cv=5,\n",
       "             estimator=Pipeline(steps=[(&#x27;preprocessing&#x27;,\n",
       "                                        ColumnTransformer(remainder=&#x27;passthrough&#x27;,\n",
       "                                                          transformers=[(&#x27;categoricals&#x27;,\n",
       "                                                                         Pipeline(steps=[(&#x27;imputer_cat&#x27;,\n",
       "                                                                                          SimpleImputer(strategy=&#x27;most_frequent&#x27;)),\n",
       "                                                                                         (&#x27;onehot&#x27;,\n",
       "                                                                                          OneHotEncoder(handle_unknown=&#x27;ignore&#x27;))]),\n",
       "                                                                         [&#x27;common_name&#x27;,\n",
       "                                                                          &#x27;native&#x27;]),\n",
       "                                                                        (&#x27;numericals_std&#x27;,\n",
       "                                                                         Pipeline(steps=[(&#x27;imputer_num_std&#x27;,\n",
       "                                                                                          SimpleImputer(...\n",
       "                                                                                         (&#x27;scaler_pwr&#x27;,\n",
       "                                                                                          PowerTransformer())]),\n",
       "                                                                         [&#x27;diameter_breast_height_CM&#x27;,\n",
       "                                                                          &#x27;norm_snow_mm_total&#x27;,\n",
       "                                                                          &#x27;distance_between&#x27;,\n",
       "                                                                          &#x27;adj_reports&#x27;])])),\n",
       "                                       (&#x27;clf&#x27;, RandomForestClassifier())]),\n",
       "             param_grid={&#x27;clf__max_depth&#x27;: [10, 13, 17, 21, 25],\n",
       "                         &#x27;clf__min_samples_leaf&#x27;: [1],\n",
       "                         &#x27;clf__min_samples_split&#x27;: [2],\n",
       "                         &#x27;clf__n_estimators&#x27;: [100, 125, 150, 175, 200]},\n",
       "             refit=&#x27;recall_macro&#x27;, scoring=[&#x27;recall_macro&#x27;, &#x27;f1_macro&#x27;])</pre><b>In a Jupyter environment, please rerun this cell to show the HTML representation or trust the notebook. <br />On GitHub, the HTML representation is unable to render, please try loading this page with nbviewer.org.</b></div><div class=\"sk-container\" hidden><div class=\"sk-item sk-dashed-wrapped\"><div class=\"sk-label-container\"><div class=\"sk-label sk-toggleable\"><input class=\"sk-toggleable__control sk-hidden--visually\" id=\"sk-estimator-id-17\" type=\"checkbox\" ><label for=\"sk-estimator-id-17\" class=\"sk-toggleable__label sk-toggleable__label-arrow\">GridSearchCV</label><div class=\"sk-toggleable__content\"><pre>GridSearchCV(cv=5,\n",
       "             estimator=Pipeline(steps=[(&#x27;preprocessing&#x27;,\n",
       "                                        ColumnTransformer(remainder=&#x27;passthrough&#x27;,\n",
       "                                                          transformers=[(&#x27;categoricals&#x27;,\n",
       "                                                                         Pipeline(steps=[(&#x27;imputer_cat&#x27;,\n",
       "                                                                                          SimpleImputer(strategy=&#x27;most_frequent&#x27;)),\n",
       "                                                                                         (&#x27;onehot&#x27;,\n",
       "                                                                                          OneHotEncoder(handle_unknown=&#x27;ignore&#x27;))]),\n",
       "                                                                         [&#x27;common_name&#x27;,\n",
       "                                                                          &#x27;native&#x27;]),\n",
       "                                                                        (&#x27;numericals_std&#x27;,\n",
       "                                                                         Pipeline(steps=[(&#x27;imputer_num_std&#x27;,\n",
       "                                                                                          SimpleImputer(...\n",
       "                                                                                         (&#x27;scaler_pwr&#x27;,\n",
       "                                                                                          PowerTransformer())]),\n",
       "                                                                         [&#x27;diameter_breast_height_CM&#x27;,\n",
       "                                                                          &#x27;norm_snow_mm_total&#x27;,\n",
       "                                                                          &#x27;distance_between&#x27;,\n",
       "                                                                          &#x27;adj_reports&#x27;])])),\n",
       "                                       (&#x27;clf&#x27;, RandomForestClassifier())]),\n",
       "             param_grid={&#x27;clf__max_depth&#x27;: [10, 13, 17, 21, 25],\n",
       "                         &#x27;clf__min_samples_leaf&#x27;: [1],\n",
       "                         &#x27;clf__min_samples_split&#x27;: [2],\n",
       "                         &#x27;clf__n_estimators&#x27;: [100, 125, 150, 175, 200]},\n",
       "             refit=&#x27;recall_macro&#x27;, scoring=[&#x27;recall_macro&#x27;, &#x27;f1_macro&#x27;])</pre></div></div></div><div class=\"sk-parallel\"><div class=\"sk-parallel-item\"><div class=\"sk-item\"><div class=\"sk-label-container\"><div class=\"sk-label sk-toggleable\"><input class=\"sk-toggleable__control sk-hidden--visually\" id=\"sk-estimator-id-18\" type=\"checkbox\" ><label for=\"sk-estimator-id-18\" class=\"sk-toggleable__label sk-toggleable__label-arrow\">estimator: Pipeline</label><div class=\"sk-toggleable__content\"><pre>Pipeline(steps=[(&#x27;preprocessing&#x27;,\n",
       "                 ColumnTransformer(remainder=&#x27;passthrough&#x27;,\n",
       "                                   transformers=[(&#x27;categoricals&#x27;,\n",
       "                                                  Pipeline(steps=[(&#x27;imputer_cat&#x27;,\n",
       "                                                                   SimpleImputer(strategy=&#x27;most_frequent&#x27;)),\n",
       "                                                                  (&#x27;onehot&#x27;,\n",
       "                                                                   OneHotEncoder(handle_unknown=&#x27;ignore&#x27;))]),\n",
       "                                                  [&#x27;common_name&#x27;, &#x27;native&#x27;]),\n",
       "                                                 (&#x27;numericals_std&#x27;,\n",
       "                                                  Pipeline(steps=[(&#x27;imputer_num_std&#x27;,\n",
       "                                                                   SimpleImputer(strategy=&#x27;median&#x27;)),\n",
       "                                                                  (&#x27;scaler_std&#x27;,\n",
       "                                                                   StandardScaler())]),\n",
       "                                                  [&#x27;age_at_obs&#x27;,\n",
       "                                                   &#x27;norm_prcp_mm_total&#x27;,\n",
       "                                                   &#x27;temp_avg_normal&#x27;,\n",
       "                                                   &#x27;prcp_mm_normal&#x27;]),\n",
       "                                                 (&#x27;numbericals_pwr&#x27;,\n",
       "                                                  Pipeline(steps=[(&#x27;imputer_num_pwr&#x27;,\n",
       "                                                                   SimpleImputer(strategy=&#x27;median&#x27;)),\n",
       "                                                                  (&#x27;scaler_pwr&#x27;,\n",
       "                                                                   PowerTransformer())]),\n",
       "                                                  [&#x27;diameter_breast_height_CM&#x27;,\n",
       "                                                   &#x27;norm_snow_mm_total&#x27;,\n",
       "                                                   &#x27;distance_between&#x27;,\n",
       "                                                   &#x27;adj_reports&#x27;])])),\n",
       "                (&#x27;clf&#x27;, RandomForestClassifier())])</pre></div></div></div><div class=\"sk-serial\"><div class=\"sk-item\"><div class=\"sk-serial\"><div class=\"sk-item sk-dashed-wrapped\"><div class=\"sk-label-container\"><div class=\"sk-label sk-toggleable\"><input class=\"sk-toggleable__control sk-hidden--visually\" id=\"sk-estimator-id-19\" type=\"checkbox\" ><label for=\"sk-estimator-id-19\" class=\"sk-toggleable__label sk-toggleable__label-arrow\">preprocessing: ColumnTransformer</label><div class=\"sk-toggleable__content\"><pre>ColumnTransformer(remainder=&#x27;passthrough&#x27;,\n",
       "                  transformers=[(&#x27;categoricals&#x27;,\n",
       "                                 Pipeline(steps=[(&#x27;imputer_cat&#x27;,\n",
       "                                                  SimpleImputer(strategy=&#x27;most_frequent&#x27;)),\n",
       "                                                 (&#x27;onehot&#x27;,\n",
       "                                                  OneHotEncoder(handle_unknown=&#x27;ignore&#x27;))]),\n",
       "                                 [&#x27;common_name&#x27;, &#x27;native&#x27;]),\n",
       "                                (&#x27;numericals_std&#x27;,\n",
       "                                 Pipeline(steps=[(&#x27;imputer_num_std&#x27;,\n",
       "                                                  SimpleImputer(strategy=&#x27;median&#x27;)),\n",
       "                                                 (&#x27;scaler_std&#x27;,\n",
       "                                                  StandardScaler())]),\n",
       "                                 [&#x27;age_at_obs&#x27;, &#x27;norm_prcp_mm_total&#x27;,\n",
       "                                  &#x27;temp_avg_normal&#x27;, &#x27;prcp_mm_normal&#x27;]),\n",
       "                                (&#x27;numbericals_pwr&#x27;,\n",
       "                                 Pipeline(steps=[(&#x27;imputer_num_pwr&#x27;,\n",
       "                                                  SimpleImputer(strategy=&#x27;median&#x27;)),\n",
       "                                                 (&#x27;scaler_pwr&#x27;,\n",
       "                                                  PowerTransformer())]),\n",
       "                                 [&#x27;diameter_breast_height_CM&#x27;,\n",
       "                                  &#x27;norm_snow_mm_total&#x27;, &#x27;distance_between&#x27;,\n",
       "                                  &#x27;adj_reports&#x27;])])</pre></div></div></div><div class=\"sk-parallel\"><div class=\"sk-parallel-item\"><div class=\"sk-item\"><div class=\"sk-label-container\"><div class=\"sk-label sk-toggleable\"><input class=\"sk-toggleable__control sk-hidden--visually\" id=\"sk-estimator-id-20\" type=\"checkbox\" ><label for=\"sk-estimator-id-20\" class=\"sk-toggleable__label sk-toggleable__label-arrow\">categoricals</label><div class=\"sk-toggleable__content\"><pre>[&#x27;common_name&#x27;, &#x27;native&#x27;]</pre></div></div></div><div class=\"sk-serial\"><div class=\"sk-item\"><div class=\"sk-serial\"><div class=\"sk-item\"><div class=\"sk-estimator sk-toggleable\"><input class=\"sk-toggleable__control sk-hidden--visually\" id=\"sk-estimator-id-21\" type=\"checkbox\" ><label for=\"sk-estimator-id-21\" class=\"sk-toggleable__label sk-toggleable__label-arrow\">SimpleImputer</label><div class=\"sk-toggleable__content\"><pre>SimpleImputer(strategy=&#x27;most_frequent&#x27;)</pre></div></div></div><div class=\"sk-item\"><div class=\"sk-estimator sk-toggleable\"><input class=\"sk-toggleable__control sk-hidden--visually\" id=\"sk-estimator-id-22\" type=\"checkbox\" ><label for=\"sk-estimator-id-22\" class=\"sk-toggleable__label sk-toggleable__label-arrow\">OneHotEncoder</label><div class=\"sk-toggleable__content\"><pre>OneHotEncoder(handle_unknown=&#x27;ignore&#x27;)</pre></div></div></div></div></div></div></div></div><div class=\"sk-parallel-item\"><div class=\"sk-item\"><div class=\"sk-label-container\"><div class=\"sk-label sk-toggleable\"><input class=\"sk-toggleable__control sk-hidden--visually\" id=\"sk-estimator-id-23\" type=\"checkbox\" ><label for=\"sk-estimator-id-23\" class=\"sk-toggleable__label sk-toggleable__label-arrow\">numericals_std</label><div class=\"sk-toggleable__content\"><pre>[&#x27;age_at_obs&#x27;, &#x27;norm_prcp_mm_total&#x27;, &#x27;temp_avg_normal&#x27;, &#x27;prcp_mm_normal&#x27;]</pre></div></div></div><div class=\"sk-serial\"><div class=\"sk-item\"><div class=\"sk-serial\"><div class=\"sk-item\"><div class=\"sk-estimator sk-toggleable\"><input class=\"sk-toggleable__control sk-hidden--visually\" id=\"sk-estimator-id-24\" type=\"checkbox\" ><label for=\"sk-estimator-id-24\" class=\"sk-toggleable__label sk-toggleable__label-arrow\">SimpleImputer</label><div class=\"sk-toggleable__content\"><pre>SimpleImputer(strategy=&#x27;median&#x27;)</pre></div></div></div><div class=\"sk-item\"><div class=\"sk-estimator sk-toggleable\"><input class=\"sk-toggleable__control sk-hidden--visually\" id=\"sk-estimator-id-25\" type=\"checkbox\" ><label for=\"sk-estimator-id-25\" class=\"sk-toggleable__label sk-toggleable__label-arrow\">StandardScaler</label><div class=\"sk-toggleable__content\"><pre>StandardScaler()</pre></div></div></div></div></div></div></div></div><div class=\"sk-parallel-item\"><div class=\"sk-item\"><div class=\"sk-label-container\"><div class=\"sk-label sk-toggleable\"><input class=\"sk-toggleable__control sk-hidden--visually\" id=\"sk-estimator-id-26\" type=\"checkbox\" ><label for=\"sk-estimator-id-26\" class=\"sk-toggleable__label sk-toggleable__label-arrow\">numbericals_pwr</label><div class=\"sk-toggleable__content\"><pre>[&#x27;diameter_breast_height_CM&#x27;, &#x27;norm_snow_mm_total&#x27;, &#x27;distance_between&#x27;, &#x27;adj_reports&#x27;]</pre></div></div></div><div class=\"sk-serial\"><div class=\"sk-item\"><div class=\"sk-serial\"><div class=\"sk-item\"><div class=\"sk-estimator sk-toggleable\"><input class=\"sk-toggleable__control sk-hidden--visually\" id=\"sk-estimator-id-27\" type=\"checkbox\" ><label for=\"sk-estimator-id-27\" class=\"sk-toggleable__label sk-toggleable__label-arrow\">SimpleImputer</label><div class=\"sk-toggleable__content\"><pre>SimpleImputer(strategy=&#x27;median&#x27;)</pre></div></div></div><div class=\"sk-item\"><div class=\"sk-estimator sk-toggleable\"><input class=\"sk-toggleable__control sk-hidden--visually\" id=\"sk-estimator-id-28\" type=\"checkbox\" ><label for=\"sk-estimator-id-28\" class=\"sk-toggleable__label sk-toggleable__label-arrow\">PowerTransformer</label><div class=\"sk-toggleable__content\"><pre>PowerTransformer()</pre></div></div></div></div></div></div></div></div><div class=\"sk-parallel-item\"><div class=\"sk-item\"><div class=\"sk-label-container\"><div class=\"sk-label sk-toggleable\"><input class=\"sk-toggleable__control sk-hidden--visually\" id=\"sk-estimator-id-29\" type=\"checkbox\" ><label for=\"sk-estimator-id-29\" class=\"sk-toggleable__label sk-toggleable__label-arrow\">remainder</label><div class=\"sk-toggleable__content\"><pre></pre></div></div></div><div class=\"sk-serial\"><div class=\"sk-item\"><div class=\"sk-estimator sk-toggleable\"><input class=\"sk-toggleable__control sk-hidden--visually\" id=\"sk-estimator-id-30\" type=\"checkbox\" ><label for=\"sk-estimator-id-30\" class=\"sk-toggleable__label sk-toggleable__label-arrow\">passthrough</label><div class=\"sk-toggleable__content\"><pre>passthrough</pre></div></div></div></div></div></div></div></div><div class=\"sk-item\"><div class=\"sk-estimator sk-toggleable\"><input class=\"sk-toggleable__control sk-hidden--visually\" id=\"sk-estimator-id-31\" type=\"checkbox\" ><label for=\"sk-estimator-id-31\" class=\"sk-toggleable__label sk-toggleable__label-arrow\">RandomForestClassifier</label><div class=\"sk-toggleable__content\"><pre>RandomForestClassifier()</pre></div></div></div></div></div></div></div></div></div></div></div></div>"
      ],
      "text/plain": [
       "GridSearchCV(cv=5,\n",
       "             estimator=Pipeline(steps=[('preprocessing',\n",
       "                                        ColumnTransformer(remainder='passthrough',\n",
       "                                                          transformers=[('categoricals',\n",
       "                                                                         Pipeline(steps=[('imputer_cat',\n",
       "                                                                                          SimpleImputer(strategy='most_frequent')),\n",
       "                                                                                         ('onehot',\n",
       "                                                                                          OneHotEncoder(handle_unknown='ignore'))]),\n",
       "                                                                         ['common_name',\n",
       "                                                                          'native']),\n",
       "                                                                        ('numericals_std',\n",
       "                                                                         Pipeline(steps=[('imputer_num_std',\n",
       "                                                                                          SimpleImputer(...\n",
       "                                                                                         ('scaler_pwr',\n",
       "                                                                                          PowerTransformer())]),\n",
       "                                                                         ['diameter_breast_height_CM',\n",
       "                                                                          'norm_snow_mm_total',\n",
       "                                                                          'distance_between',\n",
       "                                                                          'adj_reports'])])),\n",
       "                                       ('clf', RandomForestClassifier())]),\n",
       "             param_grid={'clf__max_depth': [10, 13, 17, 21, 25],\n",
       "                         'clf__min_samples_leaf': [1],\n",
       "                         'clf__min_samples_split': [2],\n",
       "                         'clf__n_estimators': [100, 125, 150, 175, 200]},\n",
       "             refit='recall_macro', scoring=['recall_macro', 'f1_macro'])"
      ]
     },
     "execution_count": 162,
     "metadata": {},
     "output_type": "execute_result"
    }
   ],
   "source": [
    "cv.fit(X_res_final, y_res_final)"
   ]
  },
  {
   "attachments": {},
   "cell_type": "markdown",
   "metadata": {},
   "source": [
    "#### 3.9.4.2 Review Best Params"
   ]
  },
  {
   "cell_type": "code",
   "execution_count": 163,
   "metadata": {},
   "outputs": [
    {
     "data": {
      "text/plain": [
       "{'clf__max_depth': 25,\n",
       " 'clf__min_samples_leaf': 1,\n",
       " 'clf__min_samples_split': 2,\n",
       " 'clf__n_estimators': 175}"
      ]
     },
     "execution_count": 163,
     "metadata": {},
     "output_type": "execute_result"
    }
   ],
   "source": [
    "params = cv.best_params_ #return best parameters from my gridsearch cv\n",
    "\n",
    "params"
   ]
  },
  {
   "attachments": {},
   "cell_type": "markdown",
   "metadata": {},
   "source": [
    "#### 3.9.4.3 Run With Best Params"
   ]
  },
  {
   "cell_type": "code",
   "execution_count": 166,
   "metadata": {},
   "outputs": [
    {
     "name": "stdout",
     "output_type": "stream",
     "text": [
      "Recall on training data: 0.90\n",
      "Classification Report for Training Data\n",
      "              precision    recall  f1-score   support\n",
      "\n",
      "         1.0       0.98      0.95      0.96      8871\n",
      "         2.0       0.97      0.90      0.93      8871\n",
      "         3.0       0.90      0.84      0.87      8871\n",
      "         4.0       0.81      0.87      0.84      8871\n",
      "         5.0       0.86      0.93      0.89      8871\n",
      "\n",
      "    accuracy                           0.90     44355\n",
      "   macro avg       0.90      0.90      0.90     44355\n",
      "weighted avg       0.90      0.90      0.90     44355\n",
      "\n"
     ]
    }
   ],
   "source": [
    "#Run a fit with those params and view more details scoring\n",
    "\n",
    "#review scores\n",
    "print(f\"\"\"Recall on training data: {recall_score(cv.predict(X_res_final), y_res_final, average='macro'):.2f}\"\"\")\n",
    "print(\"Classification Report for Training Data\")\n",
    "print(classification_report(y_res_final, cv.predict(X_res_final)))"
   ]
  },
  {
   "attachments": {},
   "cell_type": "markdown",
   "metadata": {},
   "source": [
    "#### 3.9.4.4 Run on Test Set"
   ]
  },
  {
   "cell_type": "code",
   "execution_count": 167,
   "metadata": {},
   "outputs": [
    {
     "name": "stdout",
     "output_type": "stream",
     "text": [
      "Recall on test data: 0.38\n",
      "Classification Report for Test Data\n",
      "              precision    recall  f1-score   support\n",
      "\n",
      "         1.0       0.13      0.21      0.16        58\n",
      "         2.0       0.17      0.17      0.17       224\n",
      "         3.0       0.44      0.41      0.42       958\n",
      "         4.0       0.72      0.67      0.70      2194\n",
      "         5.0       0.46      0.60      0.52       566\n",
      "\n",
      "    accuracy                           0.57      4000\n",
      "   macro avg       0.38      0.41      0.39      4000\n",
      "weighted avg       0.58      0.57      0.57      4000\n",
      "\n",
      "----------------------------------------\n",
      "[[  12   10    9   17   10]\n",
      " [  17   37   68   71   31]\n",
      " [  29   76  391  348  114]\n",
      " [  30   75  360 1480  249]\n",
      " [   4   17   65  139  341]]\n"
     ]
    }
   ],
   "source": [
    "#predict using tune model\n",
    "y_pred = cv.predict(X_test_final)\n",
    "\n",
    "print(f\"\"\"Recall on test data: {recall_score(cv.predict(X_test_final), y_test_final, average='macro'):.2f}\"\"\")\n",
    "print(\"Classification Report for Test Data\")\n",
    "print(classification_report(y_test_final, cv.predict(X_test_final)))\n",
    "print('----------------------------------------')\n",
    "print(confusion_matrix(y_test_final, y_pred))"
   ]
  },
  {
   "attachments": {},
   "cell_type": "markdown",
   "metadata": {},
   "source": [
    "### 3.9.5 Review Feature Importance"
   ]
  },
  {
   "cell_type": "code",
   "execution_count": 232,
   "metadata": {},
   "outputs": [
    {
     "data": {
      "image/png": "[encoded data removed]",
      "text/plain": [
       "<Figure size 1000x500 with 1 Axes>"
      ]
     },
     "metadata": {},
     "output_type": "display_data"
    }
   ],
   "source": [
    "plt.subplots(figsize=(10, 5))\n",
    "\n",
    "# Assuming the last step in your pipeline is the Random Forest model\n",
    "rf_model = cv.best_estimator_[-1]\n",
    "\n",
    "# Check if it's indeed a Random Forest model\n",
    "if isinstance(rf_model, RandomForestClassifier):\n",
    "    imps = rf_model.feature_importances_\n",
    "\n",
    "    # Get the OneHotEncoder from the pipeline\n",
    "    encoder = cv.best_estimator_[:-1].named_steps['preprocessing']\n",
    "    \n",
    "    # Get the original categorical column names\n",
    "    categorical_columns = encoder.get_feature_names_out()\n",
    "    \n",
    "    # Create a series with categorical columns as index\n",
    "    rf_feat_imps = pd.Series(imps, index=categorical_columns).sort_values(ascending=False)[:20]\n",
    "    \n",
    "    # Plot the feature importances\n",
    "    rf_feat_imps.plot(kind='bar')\n",
    "    plt.xlabel('features')\n",
    "    plt.ylabel('importance')\n",
    "    plt.title('Random Forest Classifier Feature Importances')\n",
    "else:\n",
    "    print(\"The last estimator in the pipeline is not a RandomForestClassifier.\")\n",
    "\n",
    "plt.show()\n"
   ]
  },
  {
   "attachments": {},
   "cell_type": "markdown",
   "metadata": {},
   "source": [
    "All that work on encoding the tree type and it's isn't too important. But I think it makes sense to include those values.\n",
    "\n",
    "### 3.9.6 Learning Curve\n",
    "We started with more than 100,000 records, but sampled down to 20,000 to save processing power. Let's checkout the learning curve to see if a larger sample would benefit the model.\n",
    "\n",
    "Update -> Originally used 10,000 and saw some opportunity in the learning curve so updated to 20,000."
   ]
  },
  {
   "cell_type": "code",
   "execution_count": 67,
   "metadata": {},
   "outputs": [],
   "source": [
    "fractions = [.2, .25, .3, .35, .4, .45, .5, .6, .75, .8, 1.0]\n",
    "train_size, train_scores, test_scores = learning_curve(rf_final, X_res_scaled_coded, y_res_final, train_sizes=fractions)\n",
    "train_scores_mean = np.mean(train_scores, axis=1)\n",
    "train_scores_std = np.std(train_scores, axis=1)\n",
    "test_scores_mean = np.mean(test_scores, axis=1)\n",
    "test_scores_std = np.std(test_scores, axis=1)"
   ]
  },
  {
   "cell_type": "code",
   "execution_count": 68,
   "metadata": {},
   "outputs": [
    {
     "data": {
      "image/png": "[encoded data removed]",
      "text/plain": [
       "<Figure size 1000x500 with 1 Axes>"
      ]
     },
     "metadata": {},
     "output_type": "display_data"
    }
   ],
   "source": [
    "plt.subplots(figsize=(10, 5))\n",
    "plt.errorbar(train_size, test_scores_mean, yerr=test_scores_std)\n",
    "plt.xlabel('Training set size')\n",
    "plt.ylabel('CV scores')\n",
    "plt.title('Cross-validation score as training set size increases')\n",
    "plt.show();"
   ]
  },
  {
   "attachments": {},
   "cell_type": "markdown",
   "metadata": {},
   "source": [
    "There is still more improvement to be had, likely even going beyond that 35,000 mark as the slope doesn't appear to be decreasing. We'll move onto our modeling stage and maybe even do a bit more tuning before moving completely into that phase."
   ]
  },
  {
   "attachments": {},
   "cell_type": "markdown",
   "metadata": {},
   "source": [
    "## 4.0 Save Full Sample Data\n",
    "\n",
    "### 4.0.0 Combine Train And Test Sets"
   ]
  },
  {
   "cell_type": "code",
   "execution_count": 233,
   "metadata": {},
   "outputs": [],
   "source": [
    "#save original x and 7 splits (pre SMOTE and processing)\n",
    "\n",
    "X_raw = X\n",
    "\n",
    "y_raw = y"
   ]
  },
  {
   "cell_type": "code",
   "execution_count": 234,
   "metadata": {},
   "outputs": [
    {
     "name": "stdout",
     "output_type": "stream",
     "text": [
      "(20000, 10) (20000,)\n"
     ]
    }
   ],
   "source": [
    "print(X_raw.shape, y_raw.shape)"
   ]
  },
  {
   "attachments": {},
   "cell_type": "markdown",
   "metadata": {},
   "source": [
    "### 4.0.1 Save Data"
   ]
  },
  {
   "cell_type": "code",
   "execution_count": 78,
   "metadata": {},
   "outputs": [],
   "source": [
    "# save trees data to a new csv\n",
    "filepath = '../data/data_outputs/X_full_sample.csv'\n",
    "X_raw.to_csv(filepath, index=False)\n",
    "\n",
    "filepath2 = '../data/data_outputs/y_full_sample.csv'\n",
    "y_raw.to_csv(filepath2, index=False)"
   ]
  },
  {
   "cell_type": "markdown",
   "metadata": {},
   "source": [
    "## 4.1 Save Model"
   ]
  },
  {
   "cell_type": "code",
   "execution_count": 237,
   "metadata": {},
   "outputs": [],
   "source": [
    "best_model = cv.best_estimator_\n",
    "best_model.version = '1.0'\n",
    "best_model.pandas_version = pd.__version__\n",
    "best_model.numpy_version = np.__version__\n",
    "best_model.sklearn_version = sklearn_version\n",
    "best_model.X_columns = [col for col in X_res_final.columns]\n",
    "best_model.build_datetime = dt.datetime.now()"
   ]
  },
  {
   "cell_type": "code",
   "execution_count": 248,
   "metadata": {},
   "outputs": [],
   "source": [
    "# save the model\n",
    "\n",
    "with open('../models/seattle_trees_model.pkl', 'wb') as file:\n",
    "    pickle.dump(best_model, file)"
   ]
  }
 ],
 "metadata": {
  "kernelspec": {
   "display_name": "ds",
   "language": "python",
   "name": "python3"
  },
  "language_info": {
   "codemirror_mode": {
    "name": "ipython",
    "version": 3
   },
   "file_extension": ".py",
   "mimetype": "text/x-python",
   "name": "python",
   "nbconvert_exporter": "python",
   "pygments_lexer": "ipython3",
   "version": "3.10.9"
  },
  "orig_nbformat": 4
 },
 "nbformat": 4,
 "nbformat_minor": 2
}
